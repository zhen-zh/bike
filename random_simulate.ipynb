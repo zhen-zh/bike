{
 "cells": [
  {
   "cell_type": "code",
   "execution_count": 318,
   "metadata": {},
   "outputs": [],
   "source": [
    "# Import necessary modules\n",
    "import pandas as pd\n",
    "import matplotlib as plt\n",
    "from matplotlib.pyplot import figure\n",
    "import numpy as np"
   ]
  },
  {
   "cell_type": "code",
   "execution_count": 319,
   "metadata": {},
   "outputs": [],
   "source": [
    "strt2 = pd.read_csv('./data/filtedstreets.csv', sep= \",\")\n",
    "bikecl = pd.read_csv('./data/bikecollisiondata_with_nearest_street_index2_updated.csv', sep= \",\")"
   ]
  },
  {
   "cell_type": "code",
   "execution_count": 311,
   "metadata": {},
   "outputs": [
    {
     "data": {
      "text/plain": [
       "12.35062204310496"
      ]
     },
     "execution_count": 311,
     "metadata": {},
     "output_type": "execute_result"
    }
   ],
   "source": [
    "len(strt2)* 3 / len(bikecl) "
   ]
  },
  {
   "cell_type": "code",
   "execution_count": 312,
   "metadata": {},
   "outputs": [
    {
     "data": {
      "text/plain": [
       "Index(['OBJECTID', 'INCKEY', 'COLDETKEY', 'REPORTNO', 'STATUS', 'ADDRTYPE',\n",
       "       'INTKEY', 'LOCATION', 'EXCEPTRSNC', 'EXCEPTRSND', 'SEVERITYCO',\n",
       "       'SEVERITYDE', 'COLLISIONT', 'PERSONCOUN', 'PEDCOUNT', 'PEDCYLCOUN',\n",
       "       'VEHCOUNT', 'INJURIES', 'SERIOUSINJ', 'FATALITIES', 'INCDATE',\n",
       "       'INCDTTM', 'JUNCTIONTY', 'SDOT_COLCO', 'SDOT_COLDE', 'INATTENTIO',\n",
       "       'UNDERINFL', 'WEATHER', 'ROADCOND', 'LIGHTCOND', 'PEDROWNOTG',\n",
       "       'SDOTCOLNUM', 'SPEEDING', 'ST_COLCODE', 'ST_COLDESC', 'SEGLANEKEY',\n",
       "       'CROSSWALKK', 'HITPARKEDC', 'geometry', 'near_str_index', 'min_length',\n",
       "       'weather_group', 'date', 'time', 'hour', 'dayofweek', 'weekday',\n",
       "       'rushhour', 'weather_group2'],\n",
       "      dtype='object')"
      ]
     },
     "execution_count": 312,
     "metadata": {},
     "output_type": "execute_result"
    }
   ],
   "source": [
    "bikecl.columns\n",
    "#cl.shape"
   ]
  },
  {
   "cell_type": "code",
   "execution_count": 320,
   "metadata": {},
   "outputs": [
    {
     "data": {
      "text/html": [
       "<div>\n",
       "<style scoped>\n",
       "    .dataframe tbody tr th:only-of-type {\n",
       "        vertical-align: middle;\n",
       "    }\n",
       "\n",
       "    .dataframe tbody tr th {\n",
       "        vertical-align: top;\n",
       "    }\n",
       "\n",
       "    .dataframe thead th {\n",
       "        text-align: right;\n",
       "    }\n",
       "</style>\n",
       "<table border=\"1\" class=\"dataframe\">\n",
       "  <thead>\n",
       "    <tr style=\"text-align: right;\">\n",
       "      <th></th>\n",
       "      <th>weather_group2</th>\n",
       "      <th>0</th>\n",
       "    </tr>\n",
       "  </thead>\n",
       "  <tbody>\n",
       "    <tr>\n",
       "      <td>0</td>\n",
       "      <td>Clear or Partly Cloudy</td>\n",
       "      <td>4939</td>\n",
       "    </tr>\n",
       "    <tr>\n",
       "      <td>1</td>\n",
       "      <td>Raining</td>\n",
       "      <td>631</td>\n",
       "    </tr>\n",
       "  </tbody>\n",
       "</table>\n",
       "</div>"
      ],
      "text/plain": [
       "           weather_group2     0\n",
       "0  Clear or Partly Cloudy  4939\n",
       "1                 Raining   631"
      ]
     },
     "execution_count": 320,
     "metadata": {},
     "output_type": "execute_result"
    }
   ],
   "source": [
    "\n",
    "bikecl.groupby('weather_group2').size().reset_index()"
   ]
  },
  {
   "cell_type": "code",
   "execution_count": 321,
   "metadata": {},
   "outputs": [
    {
     "data": {
      "text/html": [
       "<div>\n",
       "<style scoped>\n",
       "    .dataframe tbody tr th:only-of-type {\n",
       "        vertical-align: middle;\n",
       "    }\n",
       "\n",
       "    .dataframe tbody tr th {\n",
       "        vertical-align: top;\n",
       "    }\n",
       "\n",
       "    .dataframe thead th {\n",
       "        text-align: right;\n",
       "    }\n",
       "</style>\n",
       "<table border=\"1\" class=\"dataframe\">\n",
       "  <thead>\n",
       "    <tr style=\"text-align: right;\">\n",
       "      <th></th>\n",
       "      <th>rushhour</th>\n",
       "      <th>0</th>\n",
       "    </tr>\n",
       "  </thead>\n",
       "  <tbody>\n",
       "    <tr>\n",
       "      <td>0</td>\n",
       "      <td>0.0</td>\n",
       "      <td>1918</td>\n",
       "    </tr>\n",
       "    <tr>\n",
       "      <td>1</td>\n",
       "      <td>1.0</td>\n",
       "      <td>3153</td>\n",
       "    </tr>\n",
       "  </tbody>\n",
       "</table>\n",
       "</div>"
      ],
      "text/plain": [
       "   rushhour     0\n",
       "0       0.0  1918\n",
       "1       1.0  3153"
      ]
     },
     "execution_count": 321,
     "metadata": {},
     "output_type": "execute_result"
    }
   ],
   "source": [
    "bikecl.groupby('rushhour').size().reset_index()"
   ]
  },
  {
   "cell_type": "code",
   "execution_count": 322,
   "metadata": {},
   "outputs": [],
   "source": [
    "strt2['index'] = strt2.index ## strt2 index that was used to match min distance for street"
   ]
  },
  {
   "cell_type": "code",
   "execution_count": 323,
   "metadata": {},
   "outputs": [],
   "source": [
    "#full = pd.merge(acc_by_str, street, left_on='LOCATION', right_on='UNITDESC', how='outer')"
   ]
  },
  {
   "cell_type": "code",
   "execution_count": 324,
   "metadata": {},
   "outputs": [],
   "source": [
    "import random\n",
    "#random.seed(9001)\n",
    "simulate_weather = np.random.choice(a=['Clear or Partly Cloudy', 'Raining'],  size= len(strt2)*5,  p=[0.58, 0.42], replace = True ) "
   ]
  },
  {
   "cell_type": "code",
   "execution_count": 296,
   "metadata": {},
   "outputs": [
    {
     "data": {
      "text/plain": [
       "<matplotlib.axes._subplots.AxesSubplot at 0x122e22ac8>"
      ]
     },
     "execution_count": 296,
     "metadata": {},
     "output_type": "execute_result"
    },
    {
     "data": {
      "image/png": "[encoded data removed]",
      "text/plain": [
       "<Figure size 432x288 with 1 Axes>"
      ]
     },
     "metadata": {
      "needs_background": "light"
     },
     "output_type": "display_data"
    }
   ],
   "source": [
    "pd.Series(simulate_weather).hist()"
   ]
  },
  {
   "cell_type": "code",
   "execution_count": 297,
   "metadata": {},
   "outputs": [],
   "source": [
    "#simulate_weekday = np.random.choice(a=[0,1],  size= len(strt2)*5,  p=[0.285, 0.715], replace = True) "
   ]
  },
  {
   "cell_type": "code",
   "execution_count": 298,
   "metadata": {},
   "outputs": [],
   "source": [
    "simulate_rushhour = np.random.choice(a=[0,1],  size= len(strt2)*3,  p=[0.73, 0.27], replace = True) "
   ]
  },
  {
   "cell_type": "code",
   "execution_count": 299,
   "metadata": {},
   "outputs": [
    {
     "data": {
      "text/plain": [
       "Index(['OBJECTID', 'ARTCLASS', 'COMPKEY', 'UNITIDSORT', 'UNITDESC',\n",
       "       'STNAME_ORD', 'XSTRLO', 'XSTRHI', 'ARTDESCRIP', 'OWNER', 'STATUS',\n",
       "       'BLOCKNBR', 'SPEEDLIMIT', 'SEGDIR', 'ONEWAY', 'ONEWAYDIR', 'FLOW',\n",
       "       'SEGLENGTH', 'SURFACEWID', 'SURFACETYP', 'SURFACET_1', 'INTRLO',\n",
       "       'DIRLO', 'INTKEYLO', 'INTRHI', 'DIRHI', 'NATIONHWYS', 'STREETTYPE',\n",
       "       'PVMTCONDIN', 'PVMTCOND_1', 'TRANCLASS', 'TRANDESCRI', 'SLOPE_PCT',\n",
       "       'PVMTCATEGO', 'PARKBOULEV', 'SHAPE_Leng', 'geometry', 'index'],\n",
       "      dtype='object')"
      ]
     },
     "execution_count": 299,
     "metadata": {},
     "output_type": "execute_result"
    }
   ],
   "source": [
    "#simulate_street = pd.concat([strt2]*5, ignore_index=True)  \n",
    "#simulate_street.columns"
   ]
  },
  {
   "cell_type": "code",
   "execution_count": 300,
   "metadata": {},
   "outputs": [],
   "source": [
    "#simulate_street = np.random.choice(len(strt2) * 5,  size = len(strt2) * 3,  replace = False) \n",
    "\n",
    "\n",
    "#simulate_street['simulate_weekday'] = simulate_weekday\n",
    "simulate_street['simulate_rushhour'] = simulate_rushhour\n",
    "#simulate_street['simulate_weather'] = simulate_weather\n"
   ]
  },
  {
   "cell_type": "code",
   "execution_count": 301,
   "metadata": {},
   "outputs": [
    {
     "data": {
      "text/plain": [
       "Index(['OBJECTID', 'ARTCLASS', 'COMPKEY', 'UNITIDSORT', 'UNITDESC',\n",
       "       'STNAME_ORD', 'XSTRLO', 'XSTRHI', 'ARTDESCRIP', 'OWNER', 'STATUS',\n",
       "       'BLOCKNBR', 'SPEEDLIMIT', 'SEGDIR', 'ONEWAY', 'ONEWAYDIR', 'FLOW',\n",
       "       'SEGLENGTH', 'SURFACEWID', 'SURFACETYP', 'SURFACET_1', 'INTRLO',\n",
       "       'DIRLO', 'INTKEYLO', 'INTRHI', 'DIRHI', 'NATIONHWYS', 'STREETTYPE',\n",
       "       'PVMTCONDIN', 'PVMTCOND_1', 'TRANCLASS', 'TRANDESCRI', 'SLOPE_PCT',\n",
       "       'PVMTCATEGO', 'PARKBOULEV', 'SHAPE_Leng', 'geometry', 'index',\n",
       "       'simulate_weekday', 'simulate_rushhour', 'simulate_weather'],\n",
       "      dtype='object')"
      ]
     },
     "execution_count": 301,
     "metadata": {},
     "output_type": "execute_result"
    }
   ],
   "source": [
    "simulate_street.columns"
   ]
  },
  {
   "cell_type": "code",
   "execution_count": 302,
   "metadata": {},
   "outputs": [
    {
     "data": {
      "text/plain": [
       "117475"
      ]
     },
     "execution_count": 302,
     "metadata": {},
     "output_type": "execute_result"
    }
   ],
   "source": [
    "len(simulate_street)"
   ]
  },
  {
   "cell_type": "code",
   "execution_count": 303,
   "metadata": {},
   "outputs": [
    {
     "data": {
      "text/plain": [
       "83250"
      ]
     },
     "execution_count": 303,
     "metadata": {},
     "output_type": "execute_result"
    }
   ],
   "source": [
    "## drop duplicates \n",
    "simulate_street_nodup = simulate_street.drop_duplicates().copy().reset_index(drop = True)\n",
    "len(simulate_street_nodup )"
   ]
  },
  {
   "cell_type": "code",
   "execution_count": 304,
   "metadata": {},
   "outputs": [],
   "source": [
    "random_num = np.random.choice(len(simulate_street_nodup), size = len(simulate_street_nodup),  replace = False) \n",
    "simulate_street_nodup['random_num'] = random_num\n",
    "simulate_street_nodup_sorted = simulate_street_nodup.sort_values(by=['random_num'])\n",
    "                                #shuffle the street "
   ]
  },
  {
   "cell_type": "code",
   "execution_count": 305,
   "metadata": {},
   "outputs": [],
   "source": [
    "\n",
    "#Inner join \n",
    "full = pd.merge(simulate_street_nodup_sorted, bikecl, left_on=['index','simulate_weekday', 'simulate_rushhour',\n",
    "       'simulate_weather'], right_on=['near_str_index','weekday','rushhour', 'weather_group2'], suffixes=('_left', '_right'), how = 'inner')"
   ]
  },
  {
   "cell_type": "code",
   "execution_count": null,
   "metadata": {},
   "outputs": [],
   "source": []
  }
 ],
 "metadata": {
  "kernelspec": {
   "display_name": "Python 3",
   "language": "python",
   "name": "python3"
  },
  "language_info": {
   "codemirror_mode": {
    "name": "ipython",
    "version": 3
   },
   "file_extension": ".py",
   "mimetype": "text/x-python",
   "name": "python",
   "nbconvert_exporter": "python",
   "pygments_lexer": "ipython3",
   "version": "3.7.3"
  }
 },
 "nbformat": 4,
 "nbformat_minor": 2
}
