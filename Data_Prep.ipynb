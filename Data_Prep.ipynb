{
 "cells": [
  {
   "cell_type": "code",
   "execution_count": 8,
   "metadata": {},
   "outputs": [],
   "source": [
    "# Import necessary modules\n",
    "import pandas as pd\n",
    "import numpy as np\n",
    "\n",
    "import matplotlib.pyplot as plt\n",
    "from matplotlib.pyplot import figure\n",
    "\n",
    "import imblearn\n",
    "import sklearn"
   ]
  },
  {
   "cell_type": "code",
   "execution_count": 9,
   "metadata": {},
   "outputs": [],
   "source": [
    "acci_strtindex = pd.read_csv('./data/bikecollisiondata_with_nearest_street_index2.csv',sep = ',')"
   ]
  },
  {
   "cell_type": "code",
   "execution_count": 10,
   "metadata": {},
   "outputs": [],
   "source": [
    "# data clearning on speedlimit \n",
    "numeric_features = ['SEGLENGTH','SURFACEWID', 'PVMTCONDIN', 'PVMTCOND_1','SLOPE_PCT' ]\n",
    "categorical_features = ['SPEEDLIMIT', 'ARTCLASS', 'SEGDIR', 'ONEWAY', 'SURFACETYP','NATIONHWYS' ,'PVMTCATEGO', 'PARKBOULEV' ,'TRANDESCRI']\n",
    "#X = strt2[numeric_features + categorical_features ].copy()\n",
    "#y = strt2['acc']"
   ]
  },
  {
   "cell_type": "code",
   "execution_count": 11,
   "metadata": {},
   "outputs": [
    {
     "data": {
      "text/plain": [
       "5707"
      ]
     },
     "execution_count": 11,
     "metadata": {},
     "output_type": "execute_result"
    }
   ],
   "source": [
    "len(acci_strtindex)"
   ]
  },
  {
   "cell_type": "code",
   "execution_count": 12,
   "metadata": {},
   "outputs": [
    {
     "data": {
      "text/plain": [
       "str"
      ]
     },
     "execution_count": 12,
     "metadata": {},
     "output_type": "execute_result"
    }
   ],
   "source": [
    "type(acci_strtindex['INCDATE'][0])"
   ]
  },
  {
   "cell_type": "code",
   "execution_count": 13,
   "metadata": {},
   "outputs": [],
   "source": [
    "acci_strtindex['date'] = pd.to_datetime(acci_strtindex['INCDATE']).dt.date"
   ]
  },
  {
   "cell_type": "code",
   "execution_count": 14,
   "metadata": {},
   "outputs": [
    {
     "data": {
      "text/plain": [
       "0      2006-05-16 06:30:00\n",
       "1      2007-02-27 10:40:00\n",
       "2      2007-06-02 00:00:00\n",
       "3      2008-08-05 00:00:00\n",
       "4      2011-12-07 21:57:00\n",
       "               ...        \n",
       "5702   2019-07-10 10:21:00\n",
       "5703   2019-07-13 16:36:00\n",
       "5704   2019-06-01 19:56:00\n",
       "5705   2019-06-29 17:21:00\n",
       "5706   2019-04-26 16:42:00\n",
       "Name: INCDTTM, Length: 5707, dtype: datetime64[ns]"
      ]
     },
     "execution_count": 14,
     "metadata": {},
     "output_type": "execute_result"
    }
   ],
   "source": [
    "pd.to_datetime(acci_strtindex['INCDTTM'])"
   ]
  },
  {
   "cell_type": "code",
   "execution_count": 15,
   "metadata": {},
   "outputs": [],
   "source": [
    "acci_strtindex['time'] = pd.to_datetime(acci_strtindex['INCDTTM']).dt.time"
   ]
  },
  {
   "cell_type": "code",
   "execution_count": 16,
   "metadata": {},
   "outputs": [
    {
     "data": {
      "text/plain": [
       "array([2006, 2007, 2008, 2011, 2012, 2009, 2013, 2010, 2014, 2016, 2015,\n",
       "       2018, 2017, 2004, 2019, 2005])"
      ]
     },
     "execution_count": 16,
     "metadata": {},
     "output_type": "execute_result"
    }
   ],
   "source": [
    "acci_strtindex['year'] = pd.to_datetime(acci_strtindex['INCDTTM']).dt.year\n",
    "acci_strtindex['year'].unique()"
   ]
  },
  {
   "cell_type": "code",
   "execution_count": 17,
   "metadata": {},
   "outputs": [],
   "source": [
    "acci_strtindex['hour'] = pd.to_datetime(acci_strtindex['INCDTTM']).dt.hour\n",
    "acci_strtindex['hour'] = [np.nan if i == 0 else i for i in acci_strtindex['hour']]"
   ]
  },
  {
   "cell_type": "code",
   "execution_count": 18,
   "metadata": {},
   "outputs": [],
   "source": [
    "acci_strtindex['dayofweek'] = pd.to_datetime(acci_strtindex['INCDATE']).dt.dayofweek"
   ]
  },
  {
   "cell_type": "code",
   "execution_count": 19,
   "metadata": {},
   "outputs": [],
   "source": [
    "acci_strtindex['weekday'] = [1 if i <= 4 else 0 for i in acci_strtindex['dayofweek']] # Monday is 0 Sunday is 6 \n",
    "#weekday is 1 weekend is 0 "
   ]
  },
  {
   "cell_type": "code",
   "execution_count": 20,
   "metadata": {},
   "outputs": [
    {
     "data": {
      "text/plain": [
       "4690"
      ]
     },
     "execution_count": 20,
     "metadata": {},
     "output_type": "execute_result"
    }
   ],
   "source": [
    "acci_strtindex['weekday'].sum()"
   ]
  },
  {
   "cell_type": "code",
   "execution_count": 21,
   "metadata": {},
   "outputs": [
    {
     "data": {
      "text/plain": [
       "<matplotlib.axes._subplots.AxesSubplot at 0x11977a5c0>"
      ]
     },
     "execution_count": 21,
     "metadata": {},
     "output_type": "execute_result"
    },
    {
     "data": {
      "image/png": "[encoded data removed]",
      "text/plain": [
       "<Figure size 432x288 with 1 Axes>"
      ]
     },
     "metadata": {
      "needs_background": "light"
     },
     "output_type": "display_data"
    }
   ],
   "source": [
    "acci_strtindex.groupby('dayofweek').size().plot.bar()"
   ]
  },
  {
   "cell_type": "code",
   "execution_count": 22,
   "metadata": {},
   "outputs": [
    {
     "data": {
      "text/plain": [
       "<matplotlib.axes._subplots.AxesSubplot at 0x1078fd358>"
      ]
     },
     "execution_count": 22,
     "metadata": {},
     "output_type": "execute_result"
    },
    {
     "data": {
      "image/png": "[encoded data removed]",
      "text/plain": [
       "<Figure size 432x288 with 1 Axes>"
      ]
     },
     "metadata": {
      "needs_background": "light"
     },
     "output_type": "display_data"
    }
   ],
   "source": [
    "acci_strtindex.groupby('hour').size().plot.bar()"
   ]
  },
  {
   "cell_type": "code",
   "execution_count": 24,
   "metadata": {},
   "outputs": [
    {
     "data": {
      "text/plain": [
       "weather_group\n",
       "Clear or Partly Cloudy    4129\n",
       "Overcast                   810\n",
       "Raining                    631\n",
       "dtype: int64"
      ]
     },
     "execution_count": 24,
     "metadata": {},
     "output_type": "execute_result"
    }
   ],
   "source": [
    "acci_strtindex.groupby('weather_group').size()"
   ]
  },
  {
   "cell_type": "code",
   "execution_count": 25,
   "metadata": {},
   "outputs": [],
   "source": [
    "## further group by rain or not \n",
    "weather_group2 = np.empty(len(acci_strtindex), dtype = object)\n",
    "for i in np.arange(0,len(acci_strtindex['weather_group'])):\n",
    "        weather = acci_strtindex['weather_group'][i] \n",
    "        if ( weather == 'Overcast' ):\n",
    "            weather_group2[i] = 'Clear or Partly Cloudy'\n",
    "        else:\n",
    "            weather_group2[i] = weather"
   ]
  },
  {
   "cell_type": "code",
   "execution_count": 26,
   "metadata": {},
   "outputs": [
    {
     "data": {
      "text/plain": [
       "weather_group2\n",
       "Clear or Partly Cloudy    4939\n",
       "Raining                    631\n",
       "dtype: int64"
      ]
     },
     "execution_count": 26,
     "metadata": {},
     "output_type": "execute_result"
    }
   ],
   "source": [
    "acci_strtindex['weather_group2'] = weather_group2\n",
    "acci_strtindex.groupby(['weather_group2']).size()"
   ]
  },
  {
   "cell_type": "code",
   "execution_count": 312,
   "metadata": {},
   "outputs": [],
   "source": [
    "acci_strtindex['rushhour'] = [ 1 if ((i <=9) and (i >= 7)) or ((i>= 15) and (i <= 19)) else np.nan if np.isnan(i) == True else 0 for i in acci_strtindex['hour'] ]"
   ]
  },
  {
   "cell_type": "code",
   "execution_count": 313,
   "metadata": {},
   "outputs": [],
   "source": [
    "acci_strtindex.to_csv('./bikecollisiondata_with_nearest_street_index2_updated.csv', index=False,sep = \",\")"
   ]
  },
  {
   "cell_type": "markdown",
   "metadata": {},
   "source": [
    "## EDA on SlideWalk data "
   ]
  },
  {
   "cell_type": "code",
   "execution_count": 28,
   "metadata": {},
   "outputs": [],
   "source": [
    "sidewalk = pd.read_csv('./data/Sidewalks.csv',sep = ',')"
   ]
  },
  {
   "cell_type": "code",
   "execution_count": 29,
   "metadata": {},
   "outputs": [
    {
     "data": {
      "text/plain": [
       "Index(['OBJECTID', 'COMPKEY', 'COMPTYPE', 'SEGKEY', 'UNITID', 'UNITTYPE',\n",
       "       'UNITDESC', 'UNITDESC.1', 'Side', 'ADDBY', 'ADDDTTM', 'ASBLT',\n",
       "       'CONDITION', 'CONDITION_ASSESSMENT_DATE', 'CURBTYPE', 'CURRENT_STATUS',\n",
       "       'CURRENT_STATUS_DATE', 'FILLERTYPE', 'FILLERWID', 'INSTALL_DATE',\n",
       "       'HANSEN_RPT_MVW_GIS_SDW_LEN', 'LENUOM', 'SW_WIDTH', 'MAINTAINED_BY',\n",
       "       'MATL', 'MODBY', 'MODDTTM', 'OWNERSHIP', 'SIDE', 'SURFTYPE',\n",
       "       'BUILDERCD', 'INVALIDSWRECORDYN', 'MAINTBYRDWYSTRUCTYN',\n",
       "       'NOTSWCANDIDATEYN', 'SWINCOMPLETEYN', 'INCSTPOINTLOWEND',\n",
       "       'INCSTPOINTUNKNOWN', 'MULTIPLESURFACEYN', 'GSITYPECD',\n",
       "       'DATE_MVW_LAST_UPDATED', 'PRIMARYDISTRICTCD', 'SECONDARYDISTRICTCD',\n",
       "       'OVERRIDEYN', 'OVERRIDECOMMENT', 'CURBRAMPHIGH', 'CURBRAMPMID',\n",
       "       'CURBRAMPLOW', 'SRTS_SIDEWALK_RANK', 'PRIMARYCROSSSLOPE',\n",
       "       'MINIMUMVARIABLEWIDTH', 'SW_CATEGORY', 'SHAPE_Length'],\n",
       "      dtype='object')"
      ]
     },
     "execution_count": 29,
     "metadata": {},
     "output_type": "execute_result"
    }
   ],
   "source": [
    "sidewalk.columns"
   ]
  },
  {
   "cell_type": "code",
   "execution_count": 30,
   "metadata": {},
   "outputs": [
    {
     "data": {
      "text/plain": [
       "OBJECTID                          0\n",
       "COMPKEY                           0\n",
       "COMPTYPE                          0\n",
       "SEGKEY                            0\n",
       "UNITID                            0\n",
       "UNITTYPE                          0\n",
       "UNITDESC                          0\n",
       "UNITDESC.1                        0\n",
       "Side                              0\n",
       "ADDBY                             0\n",
       "ADDDTTM                           0\n",
       "ASBLT                         45173\n",
       "CONDITION                         0\n",
       "CONDITION_ASSESSMENT_DATE     11567\n",
       "CURBTYPE                          0\n",
       "CURRENT_STATUS                    0\n",
       "CURRENT_STATUS_DATE           10347\n",
       "FILLERTYPE                        0\n",
       "FILLERWID                         0\n",
       "INSTALL_DATE                  45249\n",
       "HANSEN_RPT_MVW_GIS_SDW_LEN    46255\n",
       "LENUOM                            0\n",
       "SW_WIDTH                          0\n",
       "MAINTAINED_BY                     0\n",
       "MATL                              0\n",
       "MODBY                            46\n",
       "MODDTTM                          46\n",
       "OWNERSHIP                         0\n",
       "SIDE                              0\n",
       "SURFTYPE                          0\n",
       "BUILDERCD                         0\n",
       "INVALIDSWRECORDYN                 0\n",
       "MAINTBYRDWYSTRUCTYN               0\n",
       "NOTSWCANDIDATEYN                  0\n",
       "SWINCOMPLETEYN                    0\n",
       "INCSTPOINTLOWEND                  0\n",
       "INCSTPOINTUNKNOWN                 0\n",
       "MULTIPLESURFACEYN                 0\n",
       "GSITYPECD                         0\n",
       "DATE_MVW_LAST_UPDATED             0\n",
       "PRIMARYDISTRICTCD                 0\n",
       "SECONDARYDISTRICTCD               0\n",
       "OVERRIDEYN                        0\n",
       "OVERRIDECOMMENT               46255\n",
       "CURBRAMPHIGH                      0\n",
       "CURBRAMPMID                       0\n",
       "CURBRAMPLOW                       0\n",
       "SRTS_SIDEWALK_RANK               70\n",
       "PRIMARYCROSSSLOPE                 0\n",
       "MINIMUMVARIABLEWIDTH              0\n",
       "SW_CATEGORY                       0\n",
       "SHAPE_Length                      0\n",
       "dtype: int64"
      ]
     },
     "execution_count": 30,
     "metadata": {},
     "output_type": "execute_result"
    }
   ],
   "source": [
    "sidewalk.isnull().sum()"
   ]
  },
  {
   "cell_type": "code",
   "execution_count": 31,
   "metadata": {},
   "outputs": [
    {
     "data": {
      "text/plain": [
       "46255"
      ]
     },
     "execution_count": 31,
     "metadata": {},
     "output_type": "execute_result"
    }
   ],
   "source": [
    "len(sidewalk)"
   ]
  },
  {
   "cell_type": "code",
   "execution_count": 32,
   "metadata": {},
   "outputs": [],
   "source": [
    "## EDA on Bike Facility \n",
    "facility = pd.read_csv('./data/Existing_Bike_Facilities.csv',sep = ',')"
   ]
  },
  {
   "cell_type": "code",
   "execution_count": 33,
   "metadata": {},
   "outputs": [
    {
     "data": {
      "text/plain": [
       "Index(['OBJECTID', 'STREET_NAME', 'LENGTH_MILES', 'STATUS', 'COMPKEY',\n",
       "       'CATALYTIC_PROJECTS', 'NETWORK', 'DATE_COMPLETED',\n",
       "       'EXISTING_FACILITY_TYPE', 'PLANNED_FACILITY_TYPE', 'PROJECT_NUMBER',\n",
       "       'DATE_PLANNED', 'DATE_EXPIRED', 'SHAPE_Length'],\n",
       "      dtype='object')"
      ]
     },
     "execution_count": 33,
     "metadata": {},
     "output_type": "execute_result"
    }
   ],
   "source": [
    "facility.columns"
   ]
  },
  {
   "cell_type": "code",
   "execution_count": 35,
   "metadata": {},
   "outputs": [
    {
     "data": {
      "text/plain": [
       "3253"
      ]
     },
     "execution_count": 35,
     "metadata": {},
     "output_type": "execute_result"
    }
   ],
   "source": [
    "len(facility)"
   ]
  },
  {
   "cell_type": "code",
   "execution_count": 36,
   "metadata": {},
   "outputs": [
    {
     "data": {
      "text/plain": [
       "OBJECTID                     0\n",
       "STREET_NAME                  4\n",
       "LENGTH_MILES                 0\n",
       "STATUS                     575\n",
       "COMPKEY                     36\n",
       "CATALYTIC_PROJECTS         463\n",
       "NETWORK                    460\n",
       "DATE_COMPLETED             123\n",
       "EXISTING_FACILITY_TYPE       0\n",
       "PLANNED_FACILITY_TYPE     2040\n",
       "PROJECT_NUMBER             515\n",
       "DATE_PLANNED              3253\n",
       "DATE_EXPIRED              3242\n",
       "SHAPE_Length                 0\n",
       "dtype: int64"
      ]
     },
     "execution_count": 36,
     "metadata": {},
     "output_type": "execute_result"
    }
   ],
   "source": [
    "facility.isnull().sum()"
   ]
  },
  {
   "cell_type": "code",
   "execution_count": 37,
   "metadata": {},
   "outputs": [
    {
     "data": {
      "text/plain": [
       "0       2009-12-31T00:00:00.000Z\n",
       "1       2010-12-31T00:00:00.000Z\n",
       "2       2010-12-31T00:00:00.000Z\n",
       "3       2010-12-31T00:00:00.000Z\n",
       "4       2010-12-31T00:00:00.000Z\n",
       "                  ...           \n",
       "3248    2018-12-31T00:00:00.000Z\n",
       "3249    2018-12-31T00:00:00.000Z\n",
       "3250    2018-12-31T00:00:00.000Z\n",
       "3251    2018-12-31T00:00:00.000Z\n",
       "3252    2018-12-31T00:00:00.000Z\n",
       "Name: DATE_COMPLETED, Length: 3253, dtype: object"
      ]
     },
     "execution_count": 37,
     "metadata": {},
     "output_type": "execute_result"
    }
   ],
   "source": []
  },
  {
   "cell_type": "code",
   "execution_count": 38,
   "metadata": {},
   "outputs": [
    {
     "data": {
      "text/plain": [
       "0      2009-12-31 00:00:00+00:00\n",
       "1      2010-12-31 00:00:00+00:00\n",
       "2      2010-12-31 00:00:00+00:00\n",
       "3      2010-12-31 00:00:00+00:00\n",
       "4      2010-12-31 00:00:00+00:00\n",
       "                  ...           \n",
       "3248   2018-12-31 00:00:00+00:00\n",
       "3249   2018-12-31 00:00:00+00:00\n",
       "3250   2018-12-31 00:00:00+00:00\n",
       "3251   2018-12-31 00:00:00+00:00\n",
       "3252   2018-12-31 00:00:00+00:00\n",
       "Name: DATE_COMPLETED, Length: 3253, dtype: datetime64[ns, UTC]"
      ]
     },
     "execution_count": 38,
     "metadata": {},
     "output_type": "execute_result"
    }
   ],
   "source": [
    "pd.to_datetime(facility.DATE_COMPLETED)"
   ]
  },
  {
   "cell_type": "code",
   "execution_count": 39,
   "metadata": {},
   "outputs": [],
   "source": [
    "facility['yr_complete'] = pd.to_datetime(facility.DATE_COMPLETED).dt.year\n",
    "#acci_strtindex['yr_complete'].unique()"
   ]
  },
  {
   "cell_type": "code",
   "execution_count": 41,
   "metadata": {},
   "outputs": [
    {
     "data": {
      "text/plain": [
       "<matplotlib.axes._subplots.AxesSubplot at 0x115abf278>"
      ]
     },
     "execution_count": 41,
     "metadata": {},
     "output_type": "execute_result"
    },
    {
     "data": {
      "image/png": "[encoded data removed]",
      "text/plain": [
       "<Figure size 432x288 with 1 Axes>"
      ]
     },
     "metadata": {
      "needs_background": "light"
     },
     "output_type": "display_data"
    }
   ],
   "source": [
    "facility['yr_complete'].hist()"
   ]
  },
  {
   "cell_type": "code",
   "execution_count": 42,
   "metadata": {},
   "outputs": [
    {
     "data": {
      "text/html": [
       "<div>\n",
       "<style scoped>\n",
       "    .dataframe tbody tr th:only-of-type {\n",
       "        vertical-align: middle;\n",
       "    }\n",
       "\n",
       "    .dataframe tbody tr th {\n",
       "        vertical-align: top;\n",
       "    }\n",
       "\n",
       "    .dataframe thead th {\n",
       "        text-align: right;\n",
       "    }\n",
       "</style>\n",
       "<table border=\"1\" class=\"dataframe\">\n",
       "  <thead>\n",
       "    <tr style=\"text-align: right;\">\n",
       "      <th></th>\n",
       "      <th>OBJECTID</th>\n",
       "      <th>STREET_NAME</th>\n",
       "      <th>LENGTH_MILES</th>\n",
       "      <th>STATUS</th>\n",
       "      <th>COMPKEY</th>\n",
       "      <th>CATALYTIC_PROJECTS</th>\n",
       "      <th>NETWORK</th>\n",
       "      <th>DATE_COMPLETED</th>\n",
       "      <th>EXISTING_FACILITY_TYPE</th>\n",
       "      <th>PLANNED_FACILITY_TYPE</th>\n",
       "      <th>PROJECT_NUMBER</th>\n",
       "      <th>DATE_PLANNED</th>\n",
       "      <th>DATE_EXPIRED</th>\n",
       "      <th>SHAPE_Length</th>\n",
       "      <th>yr_complete</th>\n",
       "    </tr>\n",
       "  </thead>\n",
       "  <tbody>\n",
       "    <tr>\n",
       "      <td>0</td>\n",
       "      <td>72198</td>\n",
       "      <td>S LANDER ST</td>\n",
       "      <td>0.043555</td>\n",
       "      <td>NaN</td>\n",
       "      <td>20625.0</td>\n",
       "      <td>NaN</td>\n",
       "      <td>NaN</td>\n",
       "      <td>2009-12-31T00:00:00.000Z</td>\n",
       "      <td>Sharrow</td>\n",
       "      <td>NaN</td>\n",
       "      <td>NaN</td>\n",
       "      <td>NaN</td>\n",
       "      <td>NaN</td>\n",
       "      <td>229.971589</td>\n",
       "      <td>2009.0</td>\n",
       "    </tr>\n",
       "    <tr>\n",
       "      <td>1</td>\n",
       "      <td>72199</td>\n",
       "      <td>S LANDER ST</td>\n",
       "      <td>0.007561</td>\n",
       "      <td>NaN</td>\n",
       "      <td>20631.0</td>\n",
       "      <td>NaN</td>\n",
       "      <td>NaN</td>\n",
       "      <td>2010-12-31T00:00:00.000Z</td>\n",
       "      <td>Sharrow</td>\n",
       "      <td>NaN</td>\n",
       "      <td>NaN</td>\n",
       "      <td>NaN</td>\n",
       "      <td>NaN</td>\n",
       "      <td>39.924071</td>\n",
       "      <td>2010.0</td>\n",
       "    </tr>\n",
       "    <tr>\n",
       "      <td>2</td>\n",
       "      <td>72200</td>\n",
       "      <td>S LANDER ST</td>\n",
       "      <td>0.035984</td>\n",
       "      <td>NaN</td>\n",
       "      <td>20629.0</td>\n",
       "      <td>NaN</td>\n",
       "      <td>NaN</td>\n",
       "      <td>2010-12-31T00:00:00.000Z</td>\n",
       "      <td>Sharrow</td>\n",
       "      <td>NaN</td>\n",
       "      <td>NaN</td>\n",
       "      <td>NaN</td>\n",
       "      <td>NaN</td>\n",
       "      <td>189.994683</td>\n",
       "      <td>2010.0</td>\n",
       "    </tr>\n",
       "    <tr>\n",
       "      <td>3</td>\n",
       "      <td>72201</td>\n",
       "      <td>S LANDER ST</td>\n",
       "      <td>0.028451</td>\n",
       "      <td>NaN</td>\n",
       "      <td>20632.0</td>\n",
       "      <td>NaN</td>\n",
       "      <td>NaN</td>\n",
       "      <td>2010-12-31T00:00:00.000Z</td>\n",
       "      <td>Sharrow</td>\n",
       "      <td>NaN</td>\n",
       "      <td>NaN</td>\n",
       "      <td>NaN</td>\n",
       "      <td>NaN</td>\n",
       "      <td>150.223239</td>\n",
       "      <td>2010.0</td>\n",
       "    </tr>\n",
       "    <tr>\n",
       "      <td>4</td>\n",
       "      <td>72202</td>\n",
       "      <td>S LANDER ST</td>\n",
       "      <td>0.070049</td>\n",
       "      <td>NaN</td>\n",
       "      <td>20633.0</td>\n",
       "      <td>NaN</td>\n",
       "      <td>NaN</td>\n",
       "      <td>2010-12-31T00:00:00.000Z</td>\n",
       "      <td>Sharrow</td>\n",
       "      <td>NaN</td>\n",
       "      <td>NaN</td>\n",
       "      <td>NaN</td>\n",
       "      <td>NaN</td>\n",
       "      <td>369.859095</td>\n",
       "      <td>2010.0</td>\n",
       "    </tr>\n",
       "  </tbody>\n",
       "</table>\n",
       "</div>"
      ],
      "text/plain": [
       "   OBJECTID  STREET_NAME  LENGTH_MILES STATUS  COMPKEY  CATALYTIC_PROJECTS  \\\n",
       "0     72198  S LANDER ST      0.043555    NaN  20625.0                 NaN   \n",
       "1     72199  S LANDER ST      0.007561    NaN  20631.0                 NaN   \n",
       "2     72200  S LANDER ST      0.035984    NaN  20629.0                 NaN   \n",
       "3     72201  S LANDER ST      0.028451    NaN  20632.0                 NaN   \n",
       "4     72202  S LANDER ST      0.070049    NaN  20633.0                 NaN   \n",
       "\n",
       "  NETWORK            DATE_COMPLETED EXISTING_FACILITY_TYPE  \\\n",
       "0     NaN  2009-12-31T00:00:00.000Z                Sharrow   \n",
       "1     NaN  2010-12-31T00:00:00.000Z                Sharrow   \n",
       "2     NaN  2010-12-31T00:00:00.000Z                Sharrow   \n",
       "3     NaN  2010-12-31T00:00:00.000Z                Sharrow   \n",
       "4     NaN  2010-12-31T00:00:00.000Z                Sharrow   \n",
       "\n",
       "  PLANNED_FACILITY_TYPE  PROJECT_NUMBER  DATE_PLANNED DATE_EXPIRED  \\\n",
       "0                   NaN             NaN           NaN          NaN   \n",
       "1                   NaN             NaN           NaN          NaN   \n",
       "2                   NaN             NaN           NaN          NaN   \n",
       "3                   NaN             NaN           NaN          NaN   \n",
       "4                   NaN             NaN           NaN          NaN   \n",
       "\n",
       "   SHAPE_Length  yr_complete  \n",
       "0    229.971589       2009.0  \n",
       "1     39.924071       2010.0  \n",
       "2    189.994683       2010.0  \n",
       "3    150.223239       2010.0  \n",
       "4    369.859095       2010.0  "
      ]
     },
     "execution_count": 42,
     "metadata": {},
     "output_type": "execute_result"
    }
   ],
   "source": [
    "facility.head()"
   ]
  },
  {
   "cell_type": "code",
   "execution_count": null,
   "metadata": {},
   "outputs": [],
   "source": []
  }
 ],
 "metadata": {
  "kernelspec": {
   "display_name": "Python 3",
   "language": "python",
   "name": "python3"
  },
  "language_info": {
   "codemirror_mode": {
    "name": "ipython",
    "version": 3
   },
   "file_extension": ".py",
   "mimetype": "text/x-python",
   "name": "python",
   "nbconvert_exporter": "python",
   "pygments_lexer": "ipython3",
   "version": "3.7.3"
  }
 },
 "nbformat": 4,
 "nbformat_minor": 2
}
