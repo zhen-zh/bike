{
 "cells": [
  {
   "cell_type": "code",
   "execution_count": 96,
   "metadata": {},
   "outputs": [],
   "source": [
    "# Import necessary modules\n",
    "import pandas as pd\n",
    "import matplotlib.pyplot as plt\n",
    "from matplotlib.pyplot import figure\n",
    "import numpy as np\n",
    "from sklearn import metrics \n",
    "%matplotlib inline\n",
    "\n",
    "pd.set_option('display.max_rows', 1000)\n",
    "#https://kiwidamien.github.io/how-to-do-cross-validation-when-upsampling-data.html"
   ]
  },
  {
   "cell_type": "code",
   "execution_count": 97,
   "metadata": {},
   "outputs": [],
   "source": [
    "pd.set_option('display.max_rows', 500)"
   ]
  },
  {
   "cell_type": "code",
   "execution_count": 107,
   "metadata": {},
   "outputs": [],
   "source": [
    "## Update bike collision with bike lane information \n",
    "\n",
    "#bikecl = pd.read_csv('./data/bikecollisiondata_with_nearest_street_index2_updated.csv', sep= \",\") # bike accidents\n",
    "# the above file was updated on Google colab to match accidents to closest bikelane \n",
    "bikecl = pd.read_csv('./data/bikecl_withlane.csv', sep= \",\", na_values= 'None') # bike accidents\n"
   ]
  },
  {
   "cell_type": "code",
   "execution_count": 108,
   "metadata": {},
   "outputs": [
    {
     "data": {
      "text/plain": [
       "(5707, 68)"
      ]
     },
     "execution_count": 108,
     "metadata": {},
     "output_type": "execute_result"
    }
   ],
   "source": [
    "bikecl.shape"
   ]
  },
  {
   "cell_type": "code",
   "execution_count": 109,
   "metadata": {},
   "outputs": [],
   "source": [
    "##if there is no match, assume there is no bike facility around \n",
    "bikecl['bike_facility'] = bikecl['EXISTING_F']\n",
    "\n",
    "bikecl.loc[bikecl['cl_bike_match'] == 9.999999e+06, 'bike_facility'] = 'NoFacility'"
   ]
  },
  {
   "cell_type": "code",
   "execution_count": 110,
   "metadata": {},
   "outputs": [
    {
     "data": {
      "text/plain": [
       "Index(['OBJECTID_x', 'INCKEY', 'COLDETKEY', 'REPORTNO', 'STATUS_x', 'ADDRTYPE',\n",
       "       'INTKEY', 'LOCATION', 'EXCEPTRSNC', 'EXCEPTRSND', 'SEVERITYCO',\n",
       "       'SEVERITYDE', 'COLLISIONT', 'PERSONCOUN', 'PEDCOUNT', 'PEDCYLCOUN',\n",
       "       'VEHCOUNT', 'INJURIES', 'SERIOUSINJ', 'FATALITIES', 'INCDATE',\n",
       "       'INCDTTM', 'JUNCTIONTY', 'SDOT_COLCO', 'SDOT_COLDE', 'INATTENTIO',\n",
       "       'UNDERINFL', 'WEATHER', 'ROADCOND', 'LIGHTCOND', 'PEDROWNOTG',\n",
       "       'SDOTCOLNUM', 'SPEEDING', 'ST_COLCODE', 'ST_COLDESC', 'SEGLANEKEY',\n",
       "       'CROSSWALKK', 'HITPARKEDC', 'geometry_x', 'near_str_index',\n",
       "       'min_length', 'weather_group', 'date', 'time', 'hour', 'dayofweek',\n",
       "       'weekday', 'rushhour', 'weather_group2', 'min_length_cl_to_bike',\n",
       "       'min_index_cl_to_bike', 'cl_bike_match', 'OBJECTID_y', 'STREET_NAM',\n",
       "       'LENGTH_MIL', 'STATUS_y', 'COMPKEY', 'CATALYTIC_', 'NETWORK',\n",
       "       'DATE_COMPL', 'EXISTING_F', 'PLANNED_FA', 'PROJECT_NU', 'DATE_PLANN',\n",
       "       'DATE_EXPIR', 'SHAPE_Leng', 'geometry_y', 'index', 'bike_facility'],\n",
       "      dtype='object')"
      ]
     },
     "execution_count": 110,
     "metadata": {},
     "output_type": "execute_result"
    }
   ],
   "source": [
    "bikecl.columns"
   ]
  },
  {
   "cell_type": "code",
   "execution_count": 111,
   "metadata": {},
   "outputs": [],
   "source": [
    "## check accident date and bike facility to update the status of bike faciliy \n",
    "bikecl['bikelane_yr_complete'] = pd.to_datetime(bikecl.DATE_COMPL).dt.year\n",
    "bikecl['accident_year'] = pd.to_datetime(bikecl.INCDTTM).dt.year"
   ]
  },
  {
   "cell_type": "code",
   "execution_count": 112,
   "metadata": {},
   "outputs": [
    {
     "data": {
      "text/plain": [
       "Index(['OBJECTID_x', 'INCKEY', 'COLDETKEY', 'REPORTNO', 'STATUS_x', 'ADDRTYPE',\n",
       "       'INTKEY', 'LOCATION', 'EXCEPTRSNC', 'EXCEPTRSND', 'SEVERITYCO',\n",
       "       'SEVERITYDE', 'COLLISIONT', 'PERSONCOUN', 'PEDCOUNT', 'PEDCYLCOUN',\n",
       "       'VEHCOUNT', 'INJURIES', 'SERIOUSINJ', 'FATALITIES', 'INCDATE',\n",
       "       'INCDTTM', 'JUNCTIONTY', 'SDOT_COLCO', 'SDOT_COLDE', 'INATTENTIO',\n",
       "       'UNDERINFL', 'WEATHER', 'ROADCOND', 'LIGHTCOND', 'PEDROWNOTG',\n",
       "       'SDOTCOLNUM', 'SPEEDING', 'ST_COLCODE', 'ST_COLDESC', 'SEGLANEKEY',\n",
       "       'CROSSWALKK', 'HITPARKEDC', 'geometry_x', 'near_str_index',\n",
       "       'min_length', 'weather_group', 'date', 'time', 'hour', 'dayofweek',\n",
       "       'weekday', 'rushhour', 'weather_group2', 'min_length_cl_to_bike',\n",
       "       'min_index_cl_to_bike', 'cl_bike_match', 'OBJECTID_y', 'STREET_NAM',\n",
       "       'LENGTH_MIL', 'STATUS_y', 'COMPKEY', 'CATALYTIC_', 'NETWORK',\n",
       "       'DATE_COMPL', 'EXISTING_F', 'PLANNED_FA', 'PROJECT_NU', 'DATE_PLANN',\n",
       "       'DATE_EXPIR', 'SHAPE_Leng', 'geometry_y', 'index', 'bike_facility',\n",
       "       'bikelane_yr_complete', 'accident_year'],\n",
       "      dtype='object')"
      ]
     },
     "execution_count": 112,
     "metadata": {},
     "output_type": "execute_result"
    }
   ],
   "source": [
    "bikecl.columns"
   ]
  },
  {
   "cell_type": "code",
   "execution_count": 113,
   "metadata": {},
   "outputs": [
    {
     "data": {
      "text/html": [
       "<div>\n",
       "<style scoped>\n",
       "    .dataframe tbody tr th:only-of-type {\n",
       "        vertical-align: middle;\n",
       "    }\n",
       "\n",
       "    .dataframe tbody tr th {\n",
       "        vertical-align: top;\n",
       "    }\n",
       "\n",
       "    .dataframe thead th {\n",
       "        text-align: right;\n",
       "    }\n",
       "</style>\n",
       "<table border=\"1\" class=\"dataframe\">\n",
       "  <thead>\n",
       "    <tr style=\"text-align: right;\">\n",
       "      <th></th>\n",
       "      <th>accident_year</th>\n",
       "      <th>bikelane_yr_complete</th>\n",
       "      <th>EXISTING_F</th>\n",
       "      <th>near_str_index</th>\n",
       "    </tr>\n",
       "  </thead>\n",
       "  <tbody>\n",
       "    <tr>\n",
       "      <td>8</td>\n",
       "      <td>2012</td>\n",
       "      <td>2013.0</td>\n",
       "      <td>In Street, Minor Separation</td>\n",
       "      <td>4228.0</td>\n",
       "    </tr>\n",
       "    <tr>\n",
       "      <td>26</td>\n",
       "      <td>2016</td>\n",
       "      <td>2017.0</td>\n",
       "      <td>In Street, Major Separation</td>\n",
       "      <td>17928.0</td>\n",
       "    </tr>\n",
       "    <tr>\n",
       "      <td>32</td>\n",
       "      <td>2015</td>\n",
       "      <td>2016.0</td>\n",
       "      <td>In Street, Major Separation</td>\n",
       "      <td>995.0</td>\n",
       "    </tr>\n",
       "    <tr>\n",
       "      <td>41</td>\n",
       "      <td>2015</td>\n",
       "      <td>2016.0</td>\n",
       "      <td>In Street, Major Separation</td>\n",
       "      <td>15971.0</td>\n",
       "    </tr>\n",
       "    <tr>\n",
       "      <td>57</td>\n",
       "      <td>2004</td>\n",
       "      <td>2018.0</td>\n",
       "      <td>In Street, Major Separation</td>\n",
       "      <td>10130.0</td>\n",
       "    </tr>\n",
       "    <tr>\n",
       "      <td>...</td>\n",
       "      <td>...</td>\n",
       "      <td>...</td>\n",
       "      <td>...</td>\n",
       "      <td>...</td>\n",
       "    </tr>\n",
       "    <tr>\n",
       "      <td>4669</td>\n",
       "      <td>2016</td>\n",
       "      <td>2017.0</td>\n",
       "      <td>In Street, Major Separation</td>\n",
       "      <td>3657.0</td>\n",
       "    </tr>\n",
       "    <tr>\n",
       "      <td>4721</td>\n",
       "      <td>2017</td>\n",
       "      <td>2018.0</td>\n",
       "      <td>In Street, Major Separation</td>\n",
       "      <td>16482.0</td>\n",
       "    </tr>\n",
       "    <tr>\n",
       "      <td>4762</td>\n",
       "      <td>2016</td>\n",
       "      <td>2017.0</td>\n",
       "      <td>In Street, Minor Separation</td>\n",
       "      <td>23172.0</td>\n",
       "    </tr>\n",
       "    <tr>\n",
       "      <td>4846</td>\n",
       "      <td>2017</td>\n",
       "      <td>2018.0</td>\n",
       "      <td>In Street, Major Separation</td>\n",
       "      <td>7304.0</td>\n",
       "    </tr>\n",
       "    <tr>\n",
       "      <td>4948</td>\n",
       "      <td>2017</td>\n",
       "      <td>2018.0</td>\n",
       "      <td>In Street, Major Separation</td>\n",
       "      <td>6591.0</td>\n",
       "    </tr>\n",
       "  </tbody>\n",
       "</table>\n",
       "<p>616 rows × 4 columns</p>\n",
       "</div>"
      ],
      "text/plain": [
       "      accident_year  bikelane_yr_complete                   EXISTING_F  \\\n",
       "8              2012                2013.0  In Street, Minor Separation   \n",
       "26             2016                2017.0  In Street, Major Separation   \n",
       "32             2015                2016.0  In Street, Major Separation   \n",
       "41             2015                2016.0  In Street, Major Separation   \n",
       "57             2004                2018.0  In Street, Major Separation   \n",
       "...             ...                   ...                          ...   \n",
       "4669           2016                2017.0  In Street, Major Separation   \n",
       "4721           2017                2018.0  In Street, Major Separation   \n",
       "4762           2016                2017.0  In Street, Minor Separation   \n",
       "4846           2017                2018.0  In Street, Major Separation   \n",
       "4948           2017                2018.0  In Street, Major Separation   \n",
       "\n",
       "      near_str_index  \n",
       "8             4228.0  \n",
       "26           17928.0  \n",
       "32             995.0  \n",
       "41           15971.0  \n",
       "57           10130.0  \n",
       "...              ...  \n",
       "4669          3657.0  \n",
       "4721         16482.0  \n",
       "4762         23172.0  \n",
       "4846          7304.0  \n",
       "4948          6591.0  \n",
       "\n",
       "[616 rows x 4 columns]"
      ]
     },
     "execution_count": 113,
     "metadata": {},
     "output_type": "execute_result"
    }
   ],
   "source": [
    "bikecl.loc[bikecl['accident_year'] < bikecl['bikelane_yr_complete'],['accident_year', 'bikelane_yr_complete', 'EXISTING_F', 'near_str_index' ]]"
   ]
  },
  {
   "cell_type": "code",
   "execution_count": 114,
   "metadata": {},
   "outputs": [
    {
     "data": {
      "text/html": [
       "<div>\n",
       "<style scoped>\n",
       "    .dataframe tbody tr th:only-of-type {\n",
       "        vertical-align: middle;\n",
       "    }\n",
       "\n",
       "    .dataframe tbody tr th {\n",
       "        vertical-align: top;\n",
       "    }\n",
       "\n",
       "    .dataframe thead th {\n",
       "        text-align: right;\n",
       "    }\n",
       "</style>\n",
       "<table border=\"1\" class=\"dataframe\">\n",
       "  <thead>\n",
       "    <tr style=\"text-align: right;\">\n",
       "      <th></th>\n",
       "      <th>accident_year</th>\n",
       "      <th>bikelane_yr_complete</th>\n",
       "      <th>EXISTING_F</th>\n",
       "      <th>near_str_index</th>\n",
       "      <th>bike_facility</th>\n",
       "    </tr>\n",
       "  </thead>\n",
       "  <tbody>\n",
       "    <tr>\n",
       "      <td>8</td>\n",
       "      <td>2012</td>\n",
       "      <td>2013.0</td>\n",
       "      <td>In Street, Minor Separation</td>\n",
       "      <td>4228.0</td>\n",
       "      <td>In Street, Minor Separation</td>\n",
       "    </tr>\n",
       "    <tr>\n",
       "      <td>26</td>\n",
       "      <td>2016</td>\n",
       "      <td>2017.0</td>\n",
       "      <td>In Street, Major Separation</td>\n",
       "      <td>17928.0</td>\n",
       "      <td>In Street, Major Separation</td>\n",
       "    </tr>\n",
       "    <tr>\n",
       "      <td>32</td>\n",
       "      <td>2015</td>\n",
       "      <td>2016.0</td>\n",
       "      <td>In Street, Major Separation</td>\n",
       "      <td>995.0</td>\n",
       "      <td>In Street, Major Separation</td>\n",
       "    </tr>\n",
       "    <tr>\n",
       "      <td>41</td>\n",
       "      <td>2015</td>\n",
       "      <td>2016.0</td>\n",
       "      <td>In Street, Major Separation</td>\n",
       "      <td>15971.0</td>\n",
       "      <td>In Street, Major Separation</td>\n",
       "    </tr>\n",
       "    <tr>\n",
       "      <td>57</td>\n",
       "      <td>2004</td>\n",
       "      <td>2018.0</td>\n",
       "      <td>In Street, Major Separation</td>\n",
       "      <td>10130.0</td>\n",
       "      <td>In Street, Major Separation</td>\n",
       "    </tr>\n",
       "    <tr>\n",
       "      <td>...</td>\n",
       "      <td>...</td>\n",
       "      <td>...</td>\n",
       "      <td>...</td>\n",
       "      <td>...</td>\n",
       "      <td>...</td>\n",
       "    </tr>\n",
       "    <tr>\n",
       "      <td>4669</td>\n",
       "      <td>2016</td>\n",
       "      <td>2017.0</td>\n",
       "      <td>In Street, Major Separation</td>\n",
       "      <td>3657.0</td>\n",
       "      <td>In Street, Major Separation</td>\n",
       "    </tr>\n",
       "    <tr>\n",
       "      <td>4721</td>\n",
       "      <td>2017</td>\n",
       "      <td>2018.0</td>\n",
       "      <td>In Street, Major Separation</td>\n",
       "      <td>16482.0</td>\n",
       "      <td>In Street, Major Separation</td>\n",
       "    </tr>\n",
       "    <tr>\n",
       "      <td>4762</td>\n",
       "      <td>2016</td>\n",
       "      <td>2017.0</td>\n",
       "      <td>In Street, Minor Separation</td>\n",
       "      <td>23172.0</td>\n",
       "      <td>In Street, Minor Separation</td>\n",
       "    </tr>\n",
       "    <tr>\n",
       "      <td>4846</td>\n",
       "      <td>2017</td>\n",
       "      <td>2018.0</td>\n",
       "      <td>In Street, Major Separation</td>\n",
       "      <td>7304.0</td>\n",
       "      <td>In Street, Major Separation</td>\n",
       "    </tr>\n",
       "    <tr>\n",
       "      <td>4948</td>\n",
       "      <td>2017</td>\n",
       "      <td>2018.0</td>\n",
       "      <td>In Street, Major Separation</td>\n",
       "      <td>6591.0</td>\n",
       "      <td>In Street, Major Separation</td>\n",
       "    </tr>\n",
       "  </tbody>\n",
       "</table>\n",
       "<p>616 rows × 5 columns</p>\n",
       "</div>"
      ],
      "text/plain": [
       "      accident_year  bikelane_yr_complete                   EXISTING_F  \\\n",
       "8              2012                2013.0  In Street, Minor Separation   \n",
       "26             2016                2017.0  In Street, Major Separation   \n",
       "32             2015                2016.0  In Street, Major Separation   \n",
       "41             2015                2016.0  In Street, Major Separation   \n",
       "57             2004                2018.0  In Street, Major Separation   \n",
       "...             ...                   ...                          ...   \n",
       "4669           2016                2017.0  In Street, Major Separation   \n",
       "4721           2017                2018.0  In Street, Major Separation   \n",
       "4762           2016                2017.0  In Street, Minor Separation   \n",
       "4846           2017                2018.0  In Street, Major Separation   \n",
       "4948           2017                2018.0  In Street, Major Separation   \n",
       "\n",
       "      near_str_index                bike_facility  \n",
       "8             4228.0  In Street, Minor Separation  \n",
       "26           17928.0  In Street, Major Separation  \n",
       "32             995.0  In Street, Major Separation  \n",
       "41           15971.0  In Street, Major Separation  \n",
       "57           10130.0  In Street, Major Separation  \n",
       "...              ...                          ...  \n",
       "4669          3657.0  In Street, Major Separation  \n",
       "4721         16482.0  In Street, Major Separation  \n",
       "4762         23172.0  In Street, Minor Separation  \n",
       "4846          7304.0  In Street, Major Separation  \n",
       "4948          6591.0  In Street, Major Separation  \n",
       "\n",
       "[616 rows x 5 columns]"
      ]
     },
     "execution_count": 114,
     "metadata": {},
     "output_type": "execute_result"
    }
   ],
   "source": [
    "bikecl.loc[(bikecl['accident_year'] < bikecl['bikelane_yr_complete']) \n",
    "           ,['accident_year', 'bikelane_yr_complete', 'EXISTING_F', 'near_str_index', 'bike_facility' ]]"
   ]
  },
  {
   "cell_type": "code",
   "execution_count": 115,
   "metadata": {},
   "outputs": [],
   "source": [
    "changedstreet_index = bikecl.loc[bikecl['accident_year'] < bikecl['bikelane_yr_complete'],'near_str_index'].reset_index(drop = True)"
   ]
  },
  {
   "cell_type": "code",
   "execution_count": 116,
   "metadata": {},
   "outputs": [],
   "source": [
    "changedstreet_index = changedstreet_index.astype('int')\n",
    "changedstreet_index = np.unique(changedstreet_index)"
   ]
  },
  {
   "cell_type": "code",
   "execution_count": 117,
   "metadata": {},
   "outputs": [],
   "source": [
    "changedstreet_index = np.unique(changedstreet_index)"
   ]
  },
  {
   "cell_type": "code",
   "execution_count": 118,
   "metadata": {},
   "outputs": [],
   "source": [
    "bikecl.loc[bikecl['accident_year'] < bikecl['bikelane_yr_complete'],'bike_facility'] = 'NoFacility'\n",
    "## These records do not exist in Current situation, where new bike facilities are built \n",
    "## so adding these situations to the street? "
   ]
  },
  {
   "cell_type": "code",
   "execution_count": 76,
   "metadata": {},
   "outputs": [
    {
     "data": {
      "text/plain": [
       "bike_facility\n",
       "In Street, Major Separation     157\n",
       "In Street, Minor Separation     820\n",
       "Multi-use Trail                  49\n",
       "Neighborhood Greenway            24\n",
       "NoFacility                     4114\n",
       "Sharrow                         543\n",
       "dtype: int64"
      ]
     },
     "execution_count": 76,
     "metadata": {},
     "output_type": "execute_result"
    }
   ],
   "source": [
    "bikecl.groupby('bike_facility').size()"
   ]
  },
  {
   "cell_type": "code",
   "execution_count": 77,
   "metadata": {},
   "outputs": [
    {
     "data": {
      "text/plain": [
       "Series([], Name: bike_facility, dtype: object)"
      ]
     },
     "execution_count": 77,
     "metadata": {},
     "output_type": "execute_result"
    }
   ],
   "source": [
    "bikecl.loc[bikecl['bike_facility'].isnull(),'bike_facility'] "
   ]
  },
  {
   "cell_type": "code",
   "execution_count": 78,
   "metadata": {},
   "outputs": [
    {
     "data": {
      "text/plain": [
       "0"
      ]
     },
     "execution_count": 78,
     "metadata": {},
     "output_type": "execute_result"
    }
   ],
   "source": [
    "bikecl.bike_facility.isnull().sum()"
   ]
  },
  {
   "cell_type": "code",
   "execution_count": 69,
   "metadata": {},
   "outputs": [],
   "source": [
    "## this file has 1) bikecl data matchched with bikelane and 2) index to closest street \n",
    "bikecl.to_csv('./data/bikecl_with_bikelane_updated_Oct3.csv', sep= \",\")"
   ]
  },
  {
   "cell_type": "code",
   "execution_count": 70,
   "metadata": {},
   "outputs": [
    {
     "data": {
      "text/plain": [
       "Index(['OBJECTID_x', 'INCKEY', 'COLDETKEY', 'REPORTNO', 'STATUS_x', 'ADDRTYPE',\n",
       "       'INTKEY', 'LOCATION', 'EXCEPTRSNC', 'EXCEPTRSND', 'SEVERITYCO',\n",
       "       'SEVERITYDE', 'COLLISIONT', 'PERSONCOUN', 'PEDCOUNT', 'PEDCYLCOUN',\n",
       "       'VEHCOUNT', 'INJURIES', 'SERIOUSINJ', 'FATALITIES', 'INCDATE',\n",
       "       'INCDTTM', 'JUNCTIONTY', 'SDOT_COLCO', 'SDOT_COLDE', 'INATTENTIO',\n",
       "       'UNDERINFL', 'WEATHER', 'ROADCOND', 'LIGHTCOND', 'PEDROWNOTG',\n",
       "       'SDOTCOLNUM', 'SPEEDING', 'ST_COLCODE', 'ST_COLDESC', 'SEGLANEKEY',\n",
       "       'CROSSWALKK', 'HITPARKEDC', 'geometry_x', 'near_str_index',\n",
       "       'min_length', 'weather_group', 'date', 'time', 'hour', 'dayofweek',\n",
       "       'weekday', 'rushhour', 'weather_group2', 'min_length_cl_to_bike',\n",
       "       'min_index_cl_to_bike', 'cl_bike_match', 'OBJECTID_y', 'STREET_NAM',\n",
       "       'LENGTH_MIL', 'STATUS_y', 'COMPKEY', 'CATALYTIC_', 'NETWORK',\n",
       "       'DATE_COMPL', 'EXISTING_F', 'PLANNED_FA', 'PROJECT_NU', 'DATE_PLANN',\n",
       "       'DATE_EXPIR', 'SHAPE_Leng', 'geometry_y', 'index', 'bike_facility',\n",
       "       'bikelane_yr_complete', 'accident_year'],\n",
       "      dtype='object')"
      ]
     },
     "execution_count": 70,
     "metadata": {},
     "output_type": "execute_result"
    }
   ],
   "source": [
    "bikecl.columns"
   ]
  },
  {
   "cell_type": "code",
   "execution_count": 119,
   "metadata": {},
   "outputs": [],
   "source": [
    "## streets with added sidewalk \n",
    "\n",
    "strt2_temp = pd.read_csv('./data/filtedstreets_withsidewalk.csv', sep = \",\" , na_values= 'None') ## street and sidewalk "
   ]
  },
  {
   "cell_type": "code",
   "execution_count": 120,
   "metadata": {},
   "outputs": [
    {
     "data": {
      "text/plain": [
       "(23495, 58)"
      ]
     },
     "execution_count": 120,
     "metadata": {},
     "output_type": "execute_result"
    }
   ],
   "source": [
    "strt2_temp.shape"
   ]
  },
  {
   "cell_type": "code",
   "execution_count": 121,
   "metadata": {},
   "outputs": [],
   "source": [
    "## add CURRENT bikelane information to street databse \n",
    "str_bike = pd.read_csv('./data/strt2_withbikelane.csv', sep = \",\") #temporary file with link to bikelane \n",
    "bikelane = pd.read_csv('./data/Existing_Bike_Facilities.csv', sep= \",\")"
   ]
  },
  {
   "cell_type": "code",
   "execution_count": 122,
   "metadata": {},
   "outputs": [
    {
     "data": {
      "text/plain": [
       "Index(['OBJECTID', 'ARTCLASS', 'COMPKEY', 'UNITIDSORT', 'UNITDESC',\n",
       "       'STNAME_ORD', 'XSTRLO', 'XSTRHI', 'ARTDESCRIP', 'OWNER', 'STATUS',\n",
       "       'BLOCKNBR', 'SPEEDLIMIT', 'SEGDIR', 'ONEWAY', 'ONEWAYDIR', 'FLOW',\n",
       "       'SEGLENGTH', 'SURFACEWID', 'SURFACETYP', 'SURFACET_1', 'INTRLO',\n",
       "       'DIRLO', 'INTKEYLO', 'INTRHI', 'DIRHI', 'NATIONHWYS', 'STREETTYPE',\n",
       "       'PVMTCONDIN', 'PVMTCOND_1', 'TRANCLASS', 'TRANDESCRI', 'SLOPE_PCT',\n",
       "       'PVMTCATEGO', 'PARKBOULEV', 'SHAPE_Leng', 'geometry',\n",
       "       'closest_bike_index', 'closest_bike_distance'],\n",
       "      dtype='object')"
      ]
     },
     "execution_count": 122,
     "metadata": {},
     "output_type": "execute_result"
    }
   ],
   "source": [
    "str_bike.columns"
   ]
  },
  {
   "cell_type": "code",
   "execution_count": 123,
   "metadata": {},
   "outputs": [],
   "source": [
    "bikelane['index'] = bikelane.index"
   ]
  },
  {
   "cell_type": "code",
   "execution_count": 124,
   "metadata": {},
   "outputs": [
    {
     "data": {
      "text/plain": [
       "closest_bike_index\n",
       "1.0       1\n",
       "2.0       1\n",
       "3.0       1\n",
       "4.0       3\n",
       "5.0       4\n",
       "         ..\n",
       "3246.0    2\n",
       "3248.0    1\n",
       "3249.0    1\n",
       "3250.0    1\n",
       "3252.0    2\n",
       "Length: 2785, dtype: int64"
      ]
     },
     "execution_count": 124,
     "metadata": {},
     "output_type": "execute_result"
    }
   ],
   "source": [
    "# change invalid values to NA\n",
    "str_bike.loc[str_bike['closest_bike_index'] <= 0 ,'closest_bike_index'] = np.nan\n",
    "str_bike.groupby('closest_bike_index').size() "
   ]
  },
  {
   "cell_type": "code",
   "execution_count": 125,
   "metadata": {},
   "outputs": [
    {
     "data": {
      "text/plain": [
       "3253"
      ]
     },
     "execution_count": 125,
     "metadata": {},
     "output_type": "execute_result"
    }
   ],
   "source": [
    "max(str_bike['closest_bike_index'])\n",
    "len(bikelane)"
   ]
  },
  {
   "cell_type": "code",
   "execution_count": 126,
   "metadata": {},
   "outputs": [],
   "source": [
    "## add the index to strt2 data (sidewalk + street)\n",
    "strt2_temp['closest_bike_index'] = str_bike['closest_bike_index'] "
   ]
  },
  {
   "cell_type": "code",
   "execution_count": 127,
   "metadata": {},
   "outputs": [],
   "source": [
    "strt2 = strt2_temp.merge(bikelane, left_on = 'closest_bike_index', right_on = 'index' , how = 'left')"
   ]
  },
  {
   "cell_type": "code",
   "execution_count": 128,
   "metadata": {},
   "outputs": [
    {
     "data": {
      "text/plain": [
       "(23495, 74)"
      ]
     },
     "execution_count": 128,
     "metadata": {},
     "output_type": "execute_result"
    }
   ],
   "source": [
    "strt2.shape\n"
   ]
  },
  {
   "cell_type": "code",
   "execution_count": 129,
   "metadata": {},
   "outputs": [],
   "source": [
    "# rename some columns \n",
    "strt2 = strt2.rename(columns={\"STATUS_y\": \"STATUS_bike\", \"STATUS_x\": \"STATUS_street\"})"
   ]
  },
  {
   "cell_type": "code",
   "execution_count": 130,
   "metadata": {},
   "outputs": [],
   "source": [
    "# clean bike_facility_definition \n",
    "strt2.loc[strt2['EXISTING_FACILITY_TYPE']== 'Sharow' ,'EXISTING_FACILITY_TYPE'] = 'Sharrow'\n",
    "# clean bike_facility_definition \n",
    "strt2.loc[strt2['EXISTING_FACILITY_TYPE']== 'sharrow' ,'EXISTING_FACILITY_TYPE'] = 'Sharrow'\n",
    "strt2.loc[strt2['EXISTING_FACILITY_TYPE'].isnull() ,'EXISTING_FACILITY_TYPE']  = 'NoFacility'\n",
    "## Clean Speed Limit \n",
    "strt2.loc[strt2['SPEEDLIMIT'] == 0 ,'SPEEDLIMIT']  = None\n",
    "\n",
    "## more cleaning \n",
    "\n",
    "strt2.loc[strt2['SURFACEWID'] == 0 ,['SURFACEWID']] = np.nan\n",
    "strt2.loc[strt2['PVMTCONDIN'] == 0 ,['PVMTCONDIN']]  = np.nan\n",
    "strt2.loc[strt2['PVMTCOND_1'] == 0 ,['PVMTCOND_1']] = np.nan"
   ]
  },
  {
   "cell_type": "code",
   "execution_count": 131,
   "metadata": {},
   "outputs": [],
   "source": [
    "## transformation \n",
    "strt2['SEGLENGTH_log'] = np.log(strt2['SEGLENGTH'])\n",
    "strt2['SURFACEWID_log'] = np.log(strt2['SURFACEWID'])"
   ]
  },
  {
   "cell_type": "code",
   "execution_count": 132,
   "metadata": {},
   "outputs": [
    {
     "data": {
      "text/plain": [
       "EXISTING_FACILITY_TYPE\n",
       "In Street, Major Separation      373\n",
       "In Street, Minor Separation     1571\n",
       "Multi-use Trail                  300\n",
       "Neighborhood Greenway           1009\n",
       "NoFacility                     18556\n",
       "Sharrow                         1686\n",
       "dtype: int64"
      ]
     },
     "execution_count": 132,
     "metadata": {},
     "output_type": "execute_result"
    }
   ],
   "source": [
    "strt2.groupby('EXISTING_FACILITY_TYPE').size()"
   ]
  },
  {
   "cell_type": "code",
   "execution_count": 133,
   "metadata": {},
   "outputs": [
    {
     "data": {
      "text/plain": [
       "(23495, 76)"
      ]
     },
     "execution_count": 133,
     "metadata": {},
     "output_type": "execute_result"
    }
   ],
   "source": [
    "strt2.shape"
   ]
  },
  {
   "cell_type": "code",
   "execution_count": 134,
   "metadata": {},
   "outputs": [
    {
     "data": {
      "text/plain": [
       "Index(['OBJECTID_x', 'ARTCLASS', 'COMPKEY_x', 'UNITIDSORT', 'UNITDESC_x',\n",
       "       'STNAME_ORD', 'XSTRLO', 'XSTRHI', 'ARTDESCRIP', 'OWNER',\n",
       "       'STATUS_street', 'BLOCKNBR', 'SPEEDLIMIT', 'SEGDIR', 'ONEWAY',\n",
       "       'ONEWAYDIR', 'FLOW', 'SEGLENGTH', 'SURFACEWID', 'SURFACETYP',\n",
       "       'SURFACET_1', 'INTRLO', 'DIRLO', 'INTKEYLO', 'INTRHI', 'DIRHI',\n",
       "       'NATIONHWYS', 'STREETTYPE', 'PVMTCONDIN', 'PVMTCOND_1', 'TRANCLASS',\n",
       "       'TRANDESCRI', 'SLOPE_PCT', 'PVMTCATEGO', 'PARKBOULEV', 'SHAPE_Leng',\n",
       "       'geometry', 'index_x', 'UNITDESC_y', 'STR', 'Side', 'CONDITION',\n",
       "       'CURBTYPE', 'CURRENT_STATUS', 'FILLERTYPE', 'FILLERWID', 'LENUOM',\n",
       "       'SW_WIDTH', 'MATL', 'SURFTYPE', 'SWINCOMPLETEYN', 'MULTIPLESURFACEYN',\n",
       "       'CURBRAMPHIGH', 'CURBRAMPMID', 'CURBRAMPLOW', 'SRTS_SIDEWALK_RANK',\n",
       "       'PRIMARYCROSSSLOPE', 'MINIMUMVARIABLEWIDTH', 'closest_bike_index',\n",
       "       'OBJECTID_y', 'STREET_NAME', 'LENGTH_MILES', 'STATUS_bike', 'COMPKEY_y',\n",
       "       'CATALYTIC_PROJECTS', 'NETWORK', 'DATE_COMPLETED',\n",
       "       'EXISTING_FACILITY_TYPE', 'PLANNED_FACILITY_TYPE', 'PROJECT_NUMBER',\n",
       "       'DATE_PLANNED', 'DATE_EXPIRED', 'SHAPE_Length', 'index_y',\n",
       "       'SEGLENGTH_log', 'SURFACEWID_log'],\n",
       "      dtype='object')"
      ]
     },
     "execution_count": 134,
     "metadata": {},
     "output_type": "execute_result"
    }
   ],
   "source": [
    "strt2.columns"
   ]
  },
  {
   "cell_type": "code",
   "execution_count": 135,
   "metadata": {},
   "outputs": [],
   "source": [
    "strt2.loc[strt2['PVMTCATEGO'] == 'NONE' ,['PVMTCATEGO']  ] = 'NON-ART'\n",
    "strt2.loc[strt2['PVMTCATEGO'] == 'PATHWAY', ['PVMTCATEGO'] ] = 'NON-ART'\n",
    "strt2.loc[strt2['PVMTCATEGO'] == 'PVMTTOPARK', ['PVMTCATEGO'] ] = 'NON-ART'"
   ]
  },
  {
   "cell_type": "code",
   "execution_count": 136,
   "metadata": {},
   "outputs": [],
   "source": [
    "strt2.to_csv('./data/street_bike_sidewalk_oct6.csv', sep = ',', index= False)"
   ]
  },
  {
   "cell_type": "code",
   "execution_count": 86,
   "metadata": {},
   "outputs": [
    {
     "data": {
      "text/plain": [
       "Index(['OBJECTID_x', 'INCKEY', 'COLDETKEY', 'REPORTNO', 'STATUS_x', 'ADDRTYPE',\n",
       "       'INTKEY', 'LOCATION', 'EXCEPTRSNC', 'EXCEPTRSND', 'SEVERITYCO',\n",
       "       'SEVERITYDE', 'COLLISIONT', 'PERSONCOUN', 'PEDCOUNT', 'PEDCYLCOUN',\n",
       "       'VEHCOUNT', 'INJURIES', 'SERIOUSINJ', 'FATALITIES', 'INCDATE',\n",
       "       'INCDTTM', 'JUNCTIONTY', 'SDOT_COLCO', 'SDOT_COLDE', 'INATTENTIO',\n",
       "       'UNDERINFL', 'WEATHER', 'ROADCOND', 'LIGHTCOND', 'PEDROWNOTG',\n",
       "       'SDOTCOLNUM', 'SPEEDING', 'ST_COLCODE', 'ST_COLDESC', 'SEGLANEKEY',\n",
       "       'CROSSWALKK', 'HITPARKEDC', 'geometry_x', 'near_str_index',\n",
       "       'min_length', 'weather_group', 'date', 'time', 'hour', 'dayofweek',\n",
       "       'weekday', 'rushhour', 'weather_group2', 'min_length_cl_to_bike',\n",
       "       'min_index_cl_to_bike', 'cl_bike_match', 'OBJECTID_y', 'STREET_NAM',\n",
       "       'LENGTH_MIL', 'STATUS_y', 'COMPKEY', 'CATALYTIC_', 'NETWORK',\n",
       "       'DATE_COMPL', 'EXISTING_F', 'PLANNED_FA', 'PROJECT_NU', 'DATE_PLANN',\n",
       "       'DATE_EXPIR', 'SHAPE_Leng', 'geometry_y', 'index', 'bike_facility',\n",
       "       'bikelane_yr_complete', 'accident_year'],\n",
       "      dtype='object')"
      ]
     },
     "execution_count": 86,
     "metadata": {},
     "output_type": "execute_result"
    }
   ],
   "source": [
    "bikecl.columns"
   ]
  },
  {
   "cell_type": "code",
   "execution_count": 87,
   "metadata": {},
   "outputs": [
    {
     "data": {
      "text/plain": [
       "616"
      ]
     },
     "execution_count": 87,
     "metadata": {},
     "output_type": "execute_result"
    }
   ],
   "source": [
    "24111-23495"
   ]
  },
  {
   "cell_type": "code",
   "execution_count": null,
   "metadata": {},
   "outputs": [],
   "source": []
  },
  {
   "cell_type": "code",
   "execution_count": null,
   "metadata": {},
   "outputs": [],
   "source": []
  },
  {
   "cell_type": "code",
   "execution_count": null,
   "metadata": {},
   "outputs": [],
   "source": []
  },
  {
   "cell_type": "code",
   "execution_count": null,
   "metadata": {},
   "outputs": [],
   "source": []
  },
  {
   "cell_type": "code",
   "execution_count": null,
   "metadata": {},
   "outputs": [],
   "source": []
  },
  {
   "cell_type": "code",
   "execution_count": 88,
   "metadata": {},
   "outputs": [
    {
     "data": {
      "text/plain": [
       "0.43805852461888906"
      ]
     },
     "execution_count": 88,
     "metadata": {},
     "output_type": "execute_result"
    }
   ],
   "source": [
    "len(bikecl.loc[bikecl['FATALITIES'] > 0,:])/5707*100"
   ]
  },
  {
   "cell_type": "code",
   "execution_count": 89,
   "metadata": {},
   "outputs": [
    {
     "data": {
      "text/plain": [
       "7.639740669353426"
      ]
     },
     "execution_count": 89,
     "metadata": {},
     "output_type": "execute_result"
    }
   ],
   "source": [
    "# serious or fatalites\n",
    "(len(bikecl.loc[bikecl['SERIOUSINJ'] > 0,:]) + len(bikecl.loc[bikecl['FATALITIES'] > 0,:]) )/5707*100"
   ]
  },
  {
   "cell_type": "code",
   "execution_count": 90,
   "metadata": {},
   "outputs": [
    {
     "data": {
      "text/plain": [
       "88.11985281233574"
      ]
     },
     "execution_count": 90,
     "metadata": {},
     "output_type": "execute_result"
    }
   ],
   "source": [
    "bikecl['INJURIES'].describe()\n",
    "len(bikecl.loc[bikecl['INJURIES'] > 0,:])/5707 *100"
   ]
  },
  {
   "cell_type": "code",
   "execution_count": 91,
   "metadata": {},
   "outputs": [],
   "source": [
    "strt2['index'] = strt2.index"
   ]
  },
  {
   "cell_type": "code",
   "execution_count": 48,
   "metadata": {},
   "outputs": [],
   "source": []
  },
  {
   "cell_type": "code",
   "execution_count": 49,
   "metadata": {},
   "outputs": [
    {
     "data": {
      "text/plain": [
       "TRANDESCRI\n",
       "LOCAL TRANSIT ROUTE              184\n",
       "MAJOR TRANSIT ROUTE             1724\n",
       "MINOR RESTRICTED TRANSIT RT       13\n",
       "MINOR TRANSIT ROUTE             3078\n",
       "NON-ART                           26\n",
       "NOT DESIGNATED                 18058\n",
       "PRINCIPAL TRANSIT ROUTE          222\n",
       "TEMPORARY TRANSIT ROUTE           32\n",
       "dtype: int64"
      ]
     },
     "execution_count": 49,
     "metadata": {},
     "output_type": "execute_result"
    }
   ],
   "source": [
    "# drop 'TRANDESCRI' due to high number of unknown\n",
    "strt2.groupby('TRANDESCRI').size()"
   ]
  },
  {
   "cell_type": "code",
   "execution_count": 50,
   "metadata": {},
   "outputs": [
    {
     "data": {
      "text/plain": [
       "PVMTCATEGO  ARTCLASS\n",
       "ART         0              16\n",
       "            1            2178\n",
       "            2            2446\n",
       "            3            1870\n",
       "MLTUSETRL   0             147\n",
       "NON-ART     0           16734\n",
       "            1               3\n",
       "            2               3\n",
       "            3              12\n",
       "            NON-ART        26\n",
       "dtype: int64"
      ]
     },
     "execution_count": 50,
     "metadata": {},
     "output_type": "execute_result"
    }
   ],
   "source": [
    "strt2.groupby('TRANCLASS').size()\n",
    "strt2.groupby('ARTCLASS').size()\n",
    "strt2.groupby('PARKBOULEV').size()\n",
    "strt2.groupby('PVMTCATEGO').size()\n",
    "strt2.groupby(['PVMTCATEGO', 'ARTCLASS']).size()\n"
   ]
  },
  {
   "cell_type": "code",
   "execution_count": 51,
   "metadata": {},
   "outputs": [
    {
     "data": {
      "text/plain": [
       "382"
      ]
     },
     "execution_count": 51,
     "metadata": {},
     "output_type": "execute_result"
    }
   ],
   "source": [
    "len(changedstreet_index)"
   ]
  },
  {
   "cell_type": "code",
   "execution_count": 52,
   "metadata": {},
   "outputs": [
    {
     "data": {
      "text/plain": [
       "382"
      ]
     },
     "execution_count": 52,
     "metadata": {},
     "output_type": "execute_result"
    }
   ],
   "source": [
    "tempstr = strt2.iloc[changedstreet_index, :].reset_index(drop = True).copy() \n",
    "len(tempstr)"
   ]
  },
  {
   "cell_type": "code",
   "execution_count": 53,
   "metadata": {},
   "outputs": [
    {
     "data": {
      "text/html": [
       "<div>\n",
       "<style scoped>\n",
       "    .dataframe tbody tr th:only-of-type {\n",
       "        vertical-align: middle;\n",
       "    }\n",
       "\n",
       "    .dataframe tbody tr th {\n",
       "        vertical-align: top;\n",
       "    }\n",
       "\n",
       "    .dataframe thead th {\n",
       "        text-align: right;\n",
       "    }\n",
       "</style>\n",
       "<table border=\"1\" class=\"dataframe\">\n",
       "  <thead>\n",
       "    <tr style=\"text-align: right;\">\n",
       "      <th></th>\n",
       "      <th>OBJECTID_x</th>\n",
       "      <th>ARTCLASS</th>\n",
       "      <th>COMPKEY_x</th>\n",
       "      <th>UNITIDSORT</th>\n",
       "      <th>UNITDESC_x</th>\n",
       "      <th>STNAME_ORD</th>\n",
       "      <th>XSTRLO</th>\n",
       "      <th>XSTRHI</th>\n",
       "      <th>ARTDESCRIP</th>\n",
       "      <th>OWNER</th>\n",
       "      <th>...</th>\n",
       "      <th>DATE_COMPLETED</th>\n",
       "      <th>EXISTING_FACILITY_TYPE</th>\n",
       "      <th>PLANNED_FACILITY_TYPE</th>\n",
       "      <th>PROJECT_NUMBER</th>\n",
       "      <th>DATE_PLANNED</th>\n",
       "      <th>DATE_EXPIRED</th>\n",
       "      <th>SHAPE_Length</th>\n",
       "      <th>index_y</th>\n",
       "      <th>SEGLENGTH_log</th>\n",
       "      <th>SURFACEWID_log</th>\n",
       "    </tr>\n",
       "  </thead>\n",
       "  <tbody>\n",
       "    <tr>\n",
       "      <td>0</td>\n",
       "      <td>2</td>\n",
       "      <td>2</td>\n",
       "      <td>1009</td>\n",
       "      <td>100150</td>\n",
       "      <td>1ST AVE BETWEEN PIKE ST AND PINE ST</td>\n",
       "      <td>1ST AVE</td>\n",
       "      <td>PIKE ST</td>\n",
       "      <td>PINE ST</td>\n",
       "      <td>Minor Arterial</td>\n",
       "      <td>NaN</td>\n",
       "      <td>...</td>\n",
       "      <td>2014-12-31T00:00:00.000Z</td>\n",
       "      <td>In Street, Major Separation</td>\n",
       "      <td>NaN</td>\n",
       "      <td>NaN</td>\n",
       "      <td>NaN</td>\n",
       "      <td>NaN</td>\n",
       "      <td>321.874</td>\n",
       "      <td>307</td>\n",
       "      <td>6.05444</td>\n",
       "      <td>4.64439</td>\n",
       "    </tr>\n",
       "    <tr>\n",
       "      <td>1</td>\n",
       "      <td>22</td>\n",
       "      <td>2</td>\n",
       "      <td>1296</td>\n",
       "      <td>1500180</td>\n",
       "      <td>10TH AVE E BETWEEN E BLAINE ST AND E HOWE ST</td>\n",
       "      <td>10TH AVE E</td>\n",
       "      <td>E BLAINE ST</td>\n",
       "      <td>E HOWE ST</td>\n",
       "      <td>Minor Arterial</td>\n",
       "      <td>NaN</td>\n",
       "      <td>...</td>\n",
       "      <td>2008-12-31T00:00:00.000Z</td>\n",
       "      <td>In Street, Minor Separation</td>\n",
       "      <td>In Street, Major Separation</td>\n",
       "      <td>102</td>\n",
       "      <td>NaN</td>\n",
       "      <td>NaN</td>\n",
       "      <td>323.099</td>\n",
       "      <td>974</td>\n",
       "      <td>5.77765</td>\n",
       "      <td>3.73767</td>\n",
       "    </tr>\n",
       "    <tr>\n",
       "      <td>2</td>\n",
       "      <td>23</td>\n",
       "      <td>2</td>\n",
       "      <td>1299</td>\n",
       "      <td>1500220</td>\n",
       "      <td>10TH AVE E BETWEEN E BOSTON ST AND E LYNN ST</td>\n",
       "      <td>10TH AVE E</td>\n",
       "      <td>E BOSTON ST</td>\n",
       "      <td>E LYNN ST</td>\n",
       "      <td>Minor Arterial</td>\n",
       "      <td>NaN</td>\n",
       "      <td>...</td>\n",
       "      <td>2008-12-31T00:00:00.000Z</td>\n",
       "      <td>In Street, Minor Separation</td>\n",
       "      <td>In Street, Major Separation</td>\n",
       "      <td>102</td>\n",
       "      <td>NaN</td>\n",
       "      <td>NaN</td>\n",
       "      <td>417.256</td>\n",
       "      <td>100</td>\n",
       "      <td>6.03309</td>\n",
       "      <td>3.73767</td>\n",
       "    </tr>\n",
       "    <tr>\n",
       "      <td>3</td>\n",
       "      <td>40</td>\n",
       "      <td>2</td>\n",
       "      <td>1536</td>\n",
       "      <td>3200140</td>\n",
       "      <td>12TH AVE BETWEEN E MADISON ST AND E PIKE ST</td>\n",
       "      <td>12TH AVE</td>\n",
       "      <td>E MADISON ST</td>\n",
       "      <td>E PIKE ST</td>\n",
       "      <td>Minor Arterial</td>\n",
       "      <td>NaN</td>\n",
       "      <td>...</td>\n",
       "      <td>2009-12-31T00:00:00.000Z</td>\n",
       "      <td>In Street, Minor Separation</td>\n",
       "      <td>NaN</td>\n",
       "      <td>0</td>\n",
       "      <td>NaN</td>\n",
       "      <td>NaN</td>\n",
       "      <td>443.74</td>\n",
       "      <td>1480</td>\n",
       "      <td>6.09582</td>\n",
       "      <td>3.95124</td>\n",
       "    </tr>\n",
       "    <tr>\n",
       "      <td>4</td>\n",
       "      <td>50</td>\n",
       "      <td>3</td>\n",
       "      <td>1659</td>\n",
       "      <td>3400150</td>\n",
       "      <td>12TH AVE S BETWEEN S ATLANTIC ST AND S MASSACH...</td>\n",
       "      <td>12TH AVE S</td>\n",
       "      <td>S ATLANTIC ST</td>\n",
       "      <td>S MASSACHUSETTS ST</td>\n",
       "      <td>Collector Arterial</td>\n",
       "      <td>NaN</td>\n",
       "      <td>...</td>\n",
       "      <td>2009-12-31T00:00:00.000Z</td>\n",
       "      <td>Sharrow</td>\n",
       "      <td>In Street, Major Separation</td>\n",
       "      <td>122</td>\n",
       "      <td>NaN</td>\n",
       "      <td>NaN</td>\n",
       "      <td>565.95</td>\n",
       "      <td>33</td>\n",
       "      <td>6.33859</td>\n",
       "      <td>3.73767</td>\n",
       "    </tr>\n",
       "  </tbody>\n",
       "</table>\n",
       "<p>5 rows × 76 columns</p>\n",
       "</div>"
      ],
      "text/plain": [
       "  OBJECTID_x ARTCLASS COMPKEY_x UNITIDSORT  \\\n",
       "0          2        2      1009     100150   \n",
       "1         22        2      1296    1500180   \n",
       "2         23        2      1299    1500220   \n",
       "3         40        2      1536    3200140   \n",
       "4         50        3      1659    3400150   \n",
       "\n",
       "                                          UNITDESC_x  STNAME_ORD  \\\n",
       "0                1ST AVE BETWEEN PIKE ST AND PINE ST     1ST AVE   \n",
       "1       10TH AVE E BETWEEN E BLAINE ST AND E HOWE ST  10TH AVE E   \n",
       "2       10TH AVE E BETWEEN E BOSTON ST AND E LYNN ST  10TH AVE E   \n",
       "3        12TH AVE BETWEEN E MADISON ST AND E PIKE ST    12TH AVE   \n",
       "4  12TH AVE S BETWEEN S ATLANTIC ST AND S MASSACH...  12TH AVE S   \n",
       "\n",
       "          XSTRLO              XSTRHI          ARTDESCRIP OWNER  ...  \\\n",
       "0        PIKE ST             PINE ST      Minor Arterial   NaN  ...   \n",
       "1    E BLAINE ST           E HOWE ST      Minor Arterial   NaN  ...   \n",
       "2    E BOSTON ST           E LYNN ST      Minor Arterial   NaN  ...   \n",
       "3   E MADISON ST           E PIKE ST      Minor Arterial   NaN  ...   \n",
       "4  S ATLANTIC ST  S MASSACHUSETTS ST  Collector Arterial   NaN  ...   \n",
       "\n",
       "             DATE_COMPLETED       EXISTING_FACILITY_TYPE  \\\n",
       "0  2014-12-31T00:00:00.000Z  In Street, Major Separation   \n",
       "1  2008-12-31T00:00:00.000Z  In Street, Minor Separation   \n",
       "2  2008-12-31T00:00:00.000Z  In Street, Minor Separation   \n",
       "3  2009-12-31T00:00:00.000Z  In Street, Minor Separation   \n",
       "4  2009-12-31T00:00:00.000Z                      Sharrow   \n",
       "\n",
       "         PLANNED_FACILITY_TYPE PROJECT_NUMBER DATE_PLANNED DATE_EXPIRED  \\\n",
       "0                          NaN            NaN          NaN          NaN   \n",
       "1  In Street, Major Separation            102          NaN          NaN   \n",
       "2  In Street, Major Separation            102          NaN          NaN   \n",
       "3                          NaN              0          NaN          NaN   \n",
       "4  In Street, Major Separation            122          NaN          NaN   \n",
       "\n",
       "  SHAPE_Length index_y SEGLENGTH_log SURFACEWID_log  \n",
       "0      321.874     307       6.05444        4.64439  \n",
       "1      323.099     974       5.77765        3.73767  \n",
       "2      417.256     100       6.03309        3.73767  \n",
       "3       443.74    1480       6.09582        3.95124  \n",
       "4       565.95      33       6.33859        3.73767  \n",
       "\n",
       "[5 rows x 76 columns]"
      ]
     },
     "execution_count": 53,
     "metadata": {},
     "output_type": "execute_result"
    }
   ],
   "source": [
    "tempstr2 = tempstr.loc[tempstr['EXISTING_FACILITY_TYPE'] != 'NoFacility', :].reset_index(drop = True).copy()\n",
    "tempstr2.head()"
   ]
  },
  {
   "cell_type": "code",
   "execution_count": 112,
   "metadata": {},
   "outputs": [
    {
     "name": "stdout",
     "output_type": "stream",
     "text": [
      "[1, 'In Street, Major Separation']\n",
      "[21, 'In Street, Minor Separation']\n",
      "[22, 'In Street, Minor Separation']\n",
      "[28, 'In Street, Minor Separation']\n",
      "[39, 'Sharrow']\n",
      "[49, 'Neighborhood Greenway']\n",
      "[51, 'Sharrow']\n",
      "[64, 'In Street, Minor Separation']\n",
      "[88, 'Sharrow']\n",
      "[92, 'Sharrow']\n",
      "[126, 'In Street, Major Separation']\n",
      "[127, 'In Street, Major Separation']\n",
      "[134, 'Neighborhood Greenway']\n",
      "[135, 'In Street, Minor Separation']\n",
      "[162, 'Sharrow']\n",
      "[180, 'Sharrow']\n",
      "[212, 'Sharrow']\n",
      "[262, 'Sharrow']\n",
      "[397, 'In Street, Minor Separation']\n",
      "[398, 'In Street, Major Separation']\n",
      "[481, 'Sharrow']\n",
      "[482, 'In Street, Minor Separation']\n",
      "[489, 'Sharrow']\n",
      "[534, 'Sharrow']\n",
      "[547, 'Sharrow']\n",
      "[554, 'Sharrow']\n",
      "[564, 'Sharrow']\n",
      "[572, 'In Street, Major Separation']\n",
      "[627, 'Sharrow']\n",
      "[632, 'In Street, Minor Separation']\n",
      "[638, 'Neighborhood Greenway']\n",
      "[640, 'Sharrow']\n",
      "[643, 'In Street, Major Separation']\n",
      "[650, 'Sharrow']\n",
      "[651, 'In Street, Major Separation']\n",
      "[670, 'In Street, Minor Separation']\n",
      "[696, 'In Street, Minor Separation']\n",
      "[704, 'Sharrow']\n",
      "[707, 'Sharrow']\n",
      "[763, 'In Street, Minor Separation']\n",
      "[771, 'In Street, Major Separation']\n",
      "[776, 'Sharrow']\n",
      "[778, 'Sharrow']\n",
      "[853, 'In Street, Minor Separation']\n",
      "[904, 'In Street, Minor Separation']\n",
      "[936, 'In Street, Minor Separation']\n",
      "[937, 'In Street, Major Separation']\n",
      "[938, 'In Street, Minor Separation']\n",
      "[952, 'Sharrow']\n",
      "[953, 'In Street, Minor Separation']\n",
      "[972, 'Sharrow']\n",
      "[995, 'In Street, Minor Separation']\n",
      "[998, 'In Street, Major Separation']\n",
      "[999, 'Sharrow']\n",
      "[1027, 'In Street, Major Separation']\n",
      "[1103, 'In Street, Minor Separation']\n",
      "[1172, 'In Street, Minor Separation']\n",
      "[1176, 'Neighborhood Greenway']\n",
      "[1222, 'Sharrow']\n",
      "[1223, 'Sharrow']\n",
      "[1345, 'Sharrow']\n",
      "[1360, 'Multi-use Trail']\n",
      "[1400, 'Sharrow']\n",
      "[1445, 'Sharrow']\n",
      "[1446, 'Sharrow']\n",
      "[1447, 'In Street, Minor Separation']\n",
      "[1466, 'In Street, Minor Separation']\n",
      "[1474, 'In Street, Minor Separation']\n",
      "[1475, 'Neighborhood Greenway']\n",
      "[1476, 'In Street, Minor Separation']\n",
      "[1731, 'Sharrow']\n",
      "[1776, 'In Street, Major Separation']\n",
      "[1783, 'In Street, Minor Separation']\n",
      "[1802, 'In Street, Major Separation']\n",
      "[1904, 'In Street, Major Separation']\n",
      "[2197, 'In Street, Major Separation']\n",
      "[2208, 'In Street, Minor Separation']\n",
      "[2268, 'In Street, Minor Separation']\n",
      "[2269, 'Sharrow']\n",
      "[2294, 'Sharrow']\n",
      "[2303, 'Sharrow']\n",
      "[2320, 'In Street, Minor Separation']\n",
      "[2326, 'In Street, Minor Separation']\n",
      "[2334, 'Sharrow']\n",
      "[2369, 'Neighborhood Greenway']\n",
      "[2386, 'Sharrow']\n",
      "[2391, 'Sharrow']\n",
      "[2398, 'Sharrow']\n",
      "[2404, 'Sharrow']\n",
      "[2488, 'Sharrow']\n",
      "[2489, 'Sharrow']\n",
      "[2490, 'In Street, Major Separation']\n",
      "[2588, 'Sharrow']\n",
      "[2781, 'In Street, Major Separation']\n",
      "[2795, 'In Street, Major Separation']\n",
      "[2955, 'In Street, Minor Separation']\n",
      "[2971, 'In Street, Minor Separation']\n",
      "[3108, 'In Street, Minor Separation']\n",
      "[3200, 'In Street, Minor Separation']\n",
      "[3225, 'In Street, Major Separation']\n",
      "[3241, 'In Street, Minor Separation']\n",
      "[3249, 'In Street, Minor Separation']\n",
      "[3255, 'In Street, Major Separation']\n",
      "[3278, 'In Street, Major Separation']\n",
      "[3285, 'In Street, Minor Separation']\n",
      "[3286, 'In Street, Minor Separation']\n",
      "[3323, 'In Street, Minor Separation']\n",
      "[3361, 'In Street, Major Separation']\n",
      "[3388, 'Sharrow']\n",
      "[3393, 'Sharrow']\n",
      "[3394, 'In Street, Minor Separation']\n",
      "[3397, 'Sharrow']\n",
      "[3410, 'In Street, Minor Separation']\n",
      "[3421, 'Sharrow']\n",
      "[3437, 'Neighborhood Greenway']\n",
      "[3440, 'Sharrow']\n",
      "[3489, 'Neighborhood Greenway']\n",
      "[3501, 'Sharrow']\n",
      "[3525, 'Sharrow']\n",
      "[3534, 'In Street, Major Separation']\n",
      "[3578, 'In Street, Minor Separation']\n",
      "[3635, 'Sharrow']\n",
      "[3646, 'In Street, Minor Separation']\n",
      "[3652, 'In Street, Minor Separation']\n",
      "[3657, 'In Street, Major Separation']\n",
      "[3705, 'Sharrow']\n",
      "[3707, 'Sharrow']\n",
      "[3726, 'Sharrow']\n",
      "[3733, 'In Street, Minor Separation']\n",
      "[3740, 'In Street, Minor Separation']\n",
      "[3741, 'Neighborhood Greenway']\n",
      "[3756, 'Sharrow']\n",
      "[3766, 'In Street, Major Separation']\n",
      "[3767, 'In Street, Minor Separation']\n",
      "[3770, 'Neighborhood Greenway']\n",
      "[3792, 'Neighborhood Greenway']\n",
      "[3817, 'Neighborhood Greenway']\n",
      "[3854, 'In Street, Minor Separation']\n",
      "[3909, 'Sharrow']\n",
      "[3967, 'Sharrow']\n",
      "[4014, 'Sharrow']\n",
      "[4127, 'In Street, Minor Separation']\n",
      "[4158, 'Multi-use Trail']\n",
      "[4159, 'Sharrow']\n",
      "[4208, 'In Street, Major Separation']\n",
      "[4226, 'In Street, Major Separation']\n",
      "[4228, 'Sharrow']\n",
      "[4285, 'In Street, Minor Separation']\n",
      "[4286, 'In Street, Minor Separation']\n",
      "[4748, 'In Street, Major Separation']\n",
      "[4816, 'In Street, Minor Separation']\n",
      "[4817, 'In Street, Major Separation']\n",
      "[4920, 'Sharrow']\n",
      "[4940, 'Sharrow']\n",
      "[4942, 'Sharrow']\n",
      "[4943, 'Sharrow']\n",
      "[5017, 'Sharrow']\n",
      "[5085, 'Sharrow']\n",
      "[5187, 'Sharrow']\n",
      "[5192, 'Sharrow']\n",
      "[5206, 'In Street, Major Separation']\n",
      "[5213, 'In Street, Major Separation']\n",
      "[5260, 'In Street, Major Separation']\n",
      "[5339, 'In Street, Major Separation']\n",
      "[5677, 'In Street, Major Separation']\n",
      "[5719, 'In Street, Major Separation']\n",
      "[5720, 'In Street, Major Separation']\n",
      "[5733, 'In Street, Minor Separation']\n",
      "[5902, 'Sharrow']\n",
      "[6027, 'Sharrow']\n",
      "[6163, 'Sharrow']\n",
      "[6173, 'Sharrow']\n",
      "[6207, 'Sharrow']\n",
      "[6210, 'In Street, Minor Separation']\n",
      "[6211, 'Sharrow']\n",
      "[6215, 'Sharrow']\n",
      "[6242, 'Sharrow']\n",
      "[6245, 'In Street, Minor Separation']\n",
      "[6248, 'In Street, Minor Separation']\n",
      "[6250, 'In Street, Major Separation']\n",
      "[6281, 'Neighborhood Greenway']\n",
      "[6297, 'In Street, Major Separation']\n",
      "[6314, 'In Street, Major Separation']\n",
      "[6319, 'Sharrow']\n",
      "[6356, 'Multi-use Trail']\n",
      "[6404, 'Sharrow']\n",
      "[6407, 'Neighborhood Greenway']\n",
      "[6426, 'In Street, Major Separation']\n",
      "[6450, 'Sharrow']\n",
      "[6462, 'Multi-use Trail']\n",
      "[6565, 'In Street, Minor Separation']\n",
      "[6586, 'In Street, Major Separation']\n",
      "[6590, 'Sharrow']\n",
      "[6591, 'In Street, Minor Separation']\n",
      "[6621, 'In Street, Minor Separation']\n",
      "[6641, 'Sharrow']\n",
      "[6642, 'Sharrow']\n",
      "[6643, 'Sharrow']\n",
      "[6705, 'In Street, Minor Separation']\n",
      "[6711, 'Sharrow']\n",
      "[6723, 'In Street, Minor Separation']\n",
      "[6761, 'In Street, Major Separation']\n",
      "[6816, 'In Street, Major Separation']\n",
      "[6861, 'Sharrow']\n",
      "[6955, 'In Street, Minor Separation']\n",
      "[6963, 'Sharrow']\n",
      "[7050, 'Multi-use Trail']\n",
      "[7167, 'In Street, Minor Separation']\n",
      "[7189, 'In Street, Minor Separation']\n",
      "[7253, 'Sharrow']\n",
      "[7288, 'Neighborhood Greenway']\n",
      "[7304, 'In Street, Major Separation']\n",
      "[7478, 'Sharrow']\n",
      "[7666, 'Sharrow']\n",
      "[7667, 'Neighborhood Greenway']\n",
      "[7778, 'Neighborhood Greenway']\n",
      "[8210, 'In Street, Minor Separation']\n",
      "[8300, 'In Street, Major Separation']\n",
      "[8354, 'In Street, Minor Separation']\n",
      "[8367, 'In Street, Minor Separation']\n",
      "[8447, 'In Street, Minor Separation']\n",
      "[8462, 'Neighborhood Greenway']\n",
      "[8469, 'Sharrow']\n",
      "[8496, 'In Street, Major Separation']\n",
      "[8662, 'In Street, Minor Separation']\n",
      "[8754, 'In Street, Minor Separation']\n",
      "[8918, 'In Street, Major Separation']\n",
      "[8922, 'In Street, Minor Separation']\n",
      "[8927, 'Sharrow']\n",
      "[8948, 'In Street, Major Separation']\n",
      "[9056, 'In Street, Major Separation']\n",
      "[9078, 'Sharrow']\n",
      "[9149, 'Sharrow']\n",
      "[9322, 'In Street, Minor Separation']\n",
      "[9335, 'Sharrow']\n",
      "[9555, 'Sharrow']\n",
      "[9619, 'In Street, Minor Separation']\n",
      "[9627, 'In Street, Minor Separation']\n",
      "[9826, 'In Street, Major Separation']\n",
      "[9849, 'Neighborhood Greenway']\n",
      "[9886, 'In Street, Major Separation']\n",
      "[10130, 'In Street, Major Separation']\n",
      "[10179, 'Multi-use Trail']\n",
      "[10284, 'In Street, Major Separation']\n",
      "[10391, 'Sharrow']\n",
      "[10399, 'In Street, Major Separation']\n",
      "[10670, 'In Street, Major Separation']\n",
      "[10813, 'In Street, Major Separation']\n",
      "[10824, 'Sharrow']\n",
      "[10827, 'In Street, Major Separation']\n",
      "[10841, 'Sharrow']\n",
      "[10850, 'In Street, Major Separation']\n",
      "[11049, 'Sharrow']\n",
      "[11082, 'In Street, Minor Separation']\n",
      "[11164, 'Sharrow']\n",
      "[11298, 'Sharrow']\n",
      "[11435, 'In Street, Major Separation']\n",
      "[11624, 'In Street, Major Separation']\n",
      "[11800, 'In Street, Major Separation']\n",
      "[11803, 'Sharrow']\n",
      "[11928, 'In Street, Major Separation']\n",
      "[11998, 'Sharrow']\n",
      "[12034, 'Sharrow']\n",
      "[12152, 'Sharrow']\n",
      "[12298, 'In Street, Major Separation']\n",
      "[12524, 'In Street, Major Separation']\n",
      "[12567, 'In Street, Minor Separation']\n",
      "[12661, 'In Street, Minor Separation']\n",
      "[12713, 'Sharrow']\n",
      "[12900, 'In Street, Minor Separation']\n",
      "[13117, 'In Street, Major Separation']\n",
      "[13152, 'Sharrow']\n",
      "[13193, 'In Street, Major Separation']\n",
      "[13341, 'Sharrow']\n",
      "[13344, 'In Street, Major Separation']\n",
      "[13369, 'Sharrow']\n",
      "[13404, 'Sharrow']\n",
      "[13470, 'Sharrow']\n",
      "[13801, 'In Street, Major Separation']\n",
      "[13805, 'In Street, Minor Separation']\n",
      "[13834, 'In Street, Major Separation']\n",
      "[13845, 'Sharrow']\n",
      "[13915, 'In Street, Major Separation']\n",
      "[14371, 'Sharrow']\n",
      "[14459, 'Neighborhood Greenway']\n",
      "[14484, 'Sharrow']\n",
      "[14535, 'In Street, Major Separation']\n",
      "[14593, 'Sharrow']\n",
      "[14707, 'In Street, Minor Separation']\n",
      "[14732, 'Sharrow']\n",
      "[14763, 'In Street, Minor Separation']\n",
      "[14778, 'Sharrow']\n",
      "[14820, 'In Street, Major Separation']\n",
      "[14834, 'Sharrow']\n",
      "[14900, 'In Street, Minor Separation']\n",
      "[15133, 'In Street, Major Separation']\n",
      "[15167, 'Sharrow']\n",
      "[15192, 'Sharrow']\n",
      "[15569, 'In Street, Major Separation']\n",
      "[15686, 'In Street, Major Separation']\n",
      "[15771, 'In Street, Minor Separation']\n",
      "[15808, 'Sharrow']\n",
      "[15815, 'In Street, Major Separation']\n",
      "[15934, 'In Street, Minor Separation']\n",
      "[15971, 'Sharrow']\n",
      "[16023, 'In Street, Minor Separation']\n",
      "[16279, 'In Street, Minor Separation']\n",
      "[16347, 'In Street, Minor Separation']\n",
      "[16415, 'Neighborhood Greenway']\n",
      "[16482, 'Sharrow']\n",
      "[16486, 'Sharrow']\n",
      "[16494, 'Sharrow']\n",
      "[16565, 'In Street, Minor Separation']\n",
      "[16644, 'In Street, Major Separation']\n",
      "[16748, 'In Street, Minor Separation']\n",
      "[16946, 'In Street, Major Separation']\n",
      "[17167, 'Sharrow']\n",
      "[17184, 'In Street, Minor Separation']\n",
      "[17217, 'In Street, Major Separation']\n",
      "[17446, 'In Street, Major Separation']\n",
      "[17459, 'In Street, Minor Separation']\n",
      "[17466, 'Sharrow']\n",
      "[17659, 'Sharrow']\n",
      "[17665, 'In Street, Minor Separation']\n",
      "[17678, 'In Street, Minor Separation']\n",
      "[17918, 'In Street, Minor Separation']\n",
      "[17928, 'In Street, Minor Separation']\n",
      "[17951, 'In Street, Minor Separation']\n",
      "[18017, 'Sharrow']\n",
      "[18060, 'In Street, Major Separation']\n",
      "[18194, 'In Street, Major Separation']\n",
      "[18208, 'In Street, Minor Separation']\n",
      "[18257, 'In Street, Minor Separation']\n",
      "[18338, 'In Street, Minor Separation']\n",
      "[18368, 'In Street, Minor Separation']\n"
     ]
    }
   ],
   "source": [
    "for i in np.arange(0,len(tempstr2)):\n",
    "    print([changedstreet_index[i],tempstr2.iloc[i,-10]])\n",
    "    "
   ]
  },
  {
   "cell_type": "code",
   "execution_count": 115,
   "metadata": {},
   "outputs": [],
   "source": [
    "for i in np.arange(0,len(tempstr2)):\n",
    "    tempstr2.iloc[i,-10] = 'NoFacility'\n",
    "    \n",
    "strt2_new = pd.concat([strt2, tempstr2],ignore_index = True)"
   ]
  },
  {
   "cell_type": "code",
   "execution_count": 118,
   "metadata": {},
   "outputs": [],
   "source": []
  },
  {
   "cell_type": "code",
   "execution_count": 119,
   "metadata": {},
   "outputs": [],
   "source": [
    "strt2_new.to_csv('./data/street_withlane_Oct5.csv', sep= \",\")"
   ]
  },
  {
   "cell_type": "code",
   "execution_count": 120,
   "metadata": {},
   "outputs": [
    {
     "data": {
      "text/plain": [
       "23830"
      ]
     },
     "execution_count": 120,
     "metadata": {},
     "output_type": "execute_result"
    }
   ],
   "source": [
    "len(strt2_new)"
   ]
  },
  {
   "cell_type": "code",
   "execution_count": null,
   "metadata": {},
   "outputs": [],
   "source": []
  },
  {
   "cell_type": "code",
   "execution_count": null,
   "metadata": {},
   "outputs": [],
   "source": []
  },
  {
   "cell_type": "code",
   "execution_count": null,
   "metadata": {},
   "outputs": [],
   "source": []
  },
  {
   "cell_type": "code",
   "execution_count": null,
   "metadata": {},
   "outputs": [],
   "source": []
  },
  {
   "cell_type": "code",
   "execution_count": null,
   "metadata": {},
   "outputs": [],
   "source": []
  },
  {
   "cell_type": "markdown",
   "metadata": {},
   "source": [
    "## Old"
   ]
  },
  {
   "cell_type": "code",
   "execution_count": null,
   "metadata": {},
   "outputs": [],
   "source": [
    "## increase street size to 2x to include rushhour \n",
    "n = 24 * len(strt2)\n",
    "temp = np.zeros(len(strt2)).tolist()\n",
    "for i in np.arange(1,24):\n",
    "    temp += np.zeros(len(strt2)).tolist()\n",
    "\n",
    "simulate_street = pd.concat([strt2]*24, ignore_index = True)  \n",
    "simulate_street['hour'] = temp"
   ]
  },
  {
   "cell_type": "code",
   "execution_count": null,
   "metadata": {},
   "outputs": [],
   "source": []
  },
  {
   "cell_type": "code",
   "execution_count": null,
   "metadata": {},
   "outputs": [],
   "source": [
    "n = 24 * len(strt2)\n",
    "#temp = (np.zeros(int(n*0.5))).tolist() + (np.ones(n- int(n*0.5))).tolist()"
   ]
  },
  {
   "cell_type": "code",
   "execution_count": null,
   "metadata": {},
   "outputs": [],
   "source": []
  },
  {
   "cell_type": "code",
   "execution_count": null,
   "metadata": {},
   "outputs": [],
   "source": [
    "# increase data to 4x to incorporate bike facility \n",
    "#simulate_street = pd.concat([strt2]*24, ignore_index = True)  "
   ]
  },
  {
   "cell_type": "code",
   "execution_count": null,
   "metadata": {},
   "outputs": [],
   "source": [
    "#simulate_street['simulate_rushhour'] = temp"
   ]
  },
  {
   "cell_type": "code",
   "execution_count": null,
   "metadata": {},
   "outputs": [],
   "source": [
    "bikecl.columns"
   ]
  },
  {
   "cell_type": "code",
   "execution_count": null,
   "metadata": {},
   "outputs": [],
   "source": [
    "full = pd.merge(simulate_street, bikecl, left_on= ['index','hour'],\n",
    "                right_on = ['near_str_index','hour'], how ='left', indicator = True)"
   ]
  },
  {
   "cell_type": "code",
   "execution_count": null,
   "metadata": {},
   "outputs": [],
   "source": [
    "bikecl['near_str_index'].describe()"
   ]
  },
  {
   "cell_type": "code",
   "execution_count": null,
   "metadata": {},
   "outputs": [],
   "source": [
    "simulate_street['index']"
   ]
  },
  {
   "cell_type": "code",
   "execution_count": null,
   "metadata": {},
   "outputs": [],
   "source": [
    "len(simulate_street)"
   ]
  },
  {
   "cell_type": "code",
   "execution_count": null,
   "metadata": {},
   "outputs": [],
   "source": [
    "full.loc[full['_merge'] == 'right_only','near_str_index']"
   ]
  },
  {
   "cell_type": "code",
   "execution_count": null,
   "metadata": {},
   "outputs": [],
   "source": [
    "strt2.groupby('EXISTING_FACILITY_TYPE').size()"
   ]
  },
  {
   "cell_type": "code",
   "execution_count": null,
   "metadata": {},
   "outputs": [],
   "source": [
    "full.groupby('_merge').size()"
   ]
  },
  {
   "cell_type": "code",
   "execution_count": null,
   "metadata": {},
   "outputs": [],
   "source": [
    "full['acc'] = [ 1 if i == 'both' else 0 for i in full['_merge']]"
   ]
  },
  {
   "cell_type": "code",
   "execution_count": null,
   "metadata": {},
   "outputs": [],
   "source": [
    "full.groupby('acc').size()"
   ]
  },
  {
   "cell_type": "code",
   "execution_count": null,
   "metadata": {},
   "outputs": [],
   "source": [
    "bikecl['rushhour'].isnull().sum()"
   ]
  },
  {
   "cell_type": "code",
   "execution_count": null,
   "metadata": {},
   "outputs": [],
   "source": []
  },
  {
   "cell_type": "markdown",
   "metadata": {},
   "source": []
  },
  {
   "cell_type": "code",
   "execution_count": null,
   "metadata": {},
   "outputs": [],
   "source": [
    "numeric_features = ['SEGLENGTH_log','SURFACEWID_log', 'PVMTCONDIN', 'PVMTCOND_1','SLOPE_PCT' ,\n",
    "                    'SW_WIDTH' ,'FILLERWID','MINIMUMVARIABLEWIDTH', 'PRIMARYCROSSSLOPE', 'LENGTH_MIL']\n",
    "#categorical_features = ['ARTCLASS', 'SEGDIR', 'ONEWAY', 'SURFACETYP','NATIONHWYS' ,'PVMTCATEGO', 'PARKBOULEV' ,'TRANDESCRI', 'rushhour']\n",
    "categorical_features = ['SPEEDLIMIT','SEGDIR', 'STREETTYPE','ONEWAY', 'SURFACETYP','NATIONHWYS' ,'PVMTCATEGO', 'PARKBOULEV' , 'hour',\n",
    "'CONDITION','SURFTYPE', 'SWINCOMPLETEYN', 'MATL' , 'FILLERTYPE', 'CURBTYPE', 'EXISTING_FACILITY_TYPE']\n",
    "X = full[numeric_features + categorical_features ].copy()\n",
    "y = full['acc']"
   ]
  },
  {
   "cell_type": "code",
   "execution_count": null,
   "metadata": {},
   "outputs": [],
   "source": [
    "#print(X.dtypes[full.dtypes == object])"
   ]
  },
  {
   "cell_type": "code",
   "execution_count": null,
   "metadata": {},
   "outputs": [],
   "source": [
    "full.groupby(['acc']).size()"
   ]
  },
  {
   "cell_type": "code",
   "execution_count": null,
   "metadata": {},
   "outputs": [],
   "source": [
    "len(strt2)"
   ]
  },
  {
   "cell_type": "code",
   "execution_count": null,
   "metadata": {},
   "outputs": [],
   "source": [
    "from sklearn.model_selection import train_test_split\n",
    "\n",
    "X_train, X_test, y_train, y_test = train_test_split(X, y, stratify = y,test_size=0.1)"
   ]
  },
  {
   "cell_type": "code",
   "execution_count": null,
   "metadata": {},
   "outputs": [],
   "source": [
    "y_train = y_train.astype('int')"
   ]
  },
  {
   "cell_type": "code",
   "execution_count": null,
   "metadata": {},
   "outputs": [],
   "source": [
    "# initial parameters\n",
    "RANDOM_STATE = 42\n",
    "#RATIO = 0.1\n",
    "#K_FOLD = 5\n",
    "from sklearn.model_selection import StratifiedKFold\n",
    "K_FOLD = StratifiedKFold(n_splits=5, random_state=42, shuffle=True)"
   ]
  },
  {
   "cell_type": "code",
   "execution_count": null,
   "metadata": {},
   "outputs": [],
   "source": [
    "from sklearn.pipeline import Pipeline\n",
    "from sklearn.impute import SimpleImputer\n",
    "from sklearn.preprocessing import StandardScaler, OneHotEncoder\n",
    "from imblearn.under_sampling import RandomUnderSampler\n",
    "from imblearn.pipeline import make_pipeline\n",
    "\n",
    "\n",
    "## pre-processing \n",
    "\n",
    "numeric_transformer = Pipeline(steps=[\n",
    "    ('imputer', SimpleImputer(strategy='median')),\n",
    "    ('scaler', StandardScaler())])\n",
    "categorical_transformer = Pipeline(steps=[\n",
    "    ('imputer', SimpleImputer(strategy='most_frequent')),\n",
    "    ('onehot', OneHotEncoder(handle_unknown='ignore'))])"
   ]
  },
  {
   "cell_type": "code",
   "execution_count": null,
   "metadata": {},
   "outputs": [],
   "source": [
    "from sklearn.compose import ColumnTransformer\n",
    "preprocessor = ColumnTransformer(\n",
    "    transformers=[\n",
    "        ('num', numeric_transformer, numeric_features),\n",
    "        ('cat', categorical_transformer, categorical_features)])"
   ]
  },
  {
   "cell_type": "code",
   "execution_count": null,
   "metadata": {},
   "outputs": [],
   "source": [
    "# imbalanced learn \n",
    "rus = RandomUnderSampler(random_state=RANDOM_STATE) #ratio = RATIO"
   ]
  },
  {
   "cell_type": "code",
   "execution_count": null,
   "metadata": {},
   "outputs": [],
   "source": [
    "from sklearn.linear_model import LogisticRegression\n",
    "log = LogisticRegression(solver='liblinear')"
   ]
  },
  {
   "cell_type": "code",
   "execution_count": null,
   "metadata": {},
   "outputs": [],
   "source": [
    "## Logsitic Regression\n",
    "from imblearn.pipeline import make_pipeline\n",
    "\n",
    "logReg = make_pipeline(preprocessor,rus, log)\n",
    "#logReg = Pipeline(steps=[('preprocessor', preprocessor),('undersampler', rus),('classifier', log)])"
   ]
  },
  {
   "cell_type": "code",
   "execution_count": null,
   "metadata": {},
   "outputs": [],
   "source": [
    "## cross validate \n",
    "from sklearn.model_selection import cross_validate\n",
    "\n",
    "scores = cross_validate(logReg, X_train, y_train, scoring=['roc_auc','recall','accuracy'], cv = K_FOLD, return_train_score= True, return_estimator=True)"
   ]
  },
  {
   "cell_type": "code",
   "execution_count": null,
   "metadata": {},
   "outputs": [],
   "source": [
    "scores"
   ]
  },
  {
   "cell_type": "code",
   "execution_count": null,
   "metadata": {},
   "outputs": [],
   "source": [
    "## Random Oversampler "
   ]
  },
  {
   "cell_type": "code",
   "execution_count": null,
   "metadata": {},
   "outputs": [],
   "source": [
    "from imblearn.over_sampling import RandomOverSampler\n",
    "ros = RandomOverSampler(random_state=RANDOM_STATE) #ratio = RATIO\n",
    "\n",
    "## Logsitic Regression\n",
    "from imblearn.pipeline import make_pipeline\n",
    "\n",
    "from sklearn.linear_model import LogisticRegression\n",
    "log = LogisticRegression(solver='liblinear')\n",
    "\n",
    "logReg_ros = make_pipeline(preprocessor,ros, log)\n",
    "\n",
    "## cross validate \n",
    "from sklearn.model_selection import cross_validate\n",
    "\n",
    "scores = cross_validate(logReg_ros, X_train, y_train, scoring=['roc_auc','recall','accuracy'], cv = K_FOLD, return_train_score= True, return_estimator=True)"
   ]
  },
  {
   "cell_type": "code",
   "execution_count": null,
   "metadata": {},
   "outputs": [],
   "source": [
    "scores"
   ]
  },
  {
   "cell_type": "code",
   "execution_count": null,
   "metadata": {},
   "outputs": [],
   "source": [
    "## SMOTE \n",
    "\n",
    "from imblearn.over_sampling import SMOTE, ADASYN,KMeansSMOTE\n",
    "\n",
    "sm = SMOTE(random_state=42)\n",
    "#sm = KMeansSMOTE(sampling_strategy= 'minority', random_state=42)\n",
    "## Logsitic Regression\n",
    "from imblearn.pipeline import make_pipeline\n",
    "\n",
    "from sklearn.linear_model import LogisticRegression\n",
    "log = LogisticRegression(solver='liblinear')\n",
    "\n",
    "logReg_sm = make_pipeline(preprocessor,sm, log)\n",
    "\n",
    "## cross validate \n",
    "from sklearn.model_selection import cross_validate\n",
    "\n",
    "scores = cross_validate(logReg_sm, X_train, y_train, scoring=['roc_auc','recall','accuracy'], cv = K_FOLD, return_train_score= True, return_estimator=True)"
   ]
  },
  {
   "cell_type": "code",
   "execution_count": null,
   "metadata": {},
   "outputs": [],
   "source": [
    "scores"
   ]
  },
  {
   "cell_type": "code",
   "execution_count": null,
   "metadata": {},
   "outputs": [],
   "source": [
    "## Random Forest \n",
    "from sklearn.ensemble import RandomForestClassifier\n",
    "clf = RandomForestClassifier(n_estimators=100, max_depth=4, random_state=RANDOM_STATE)\n",
    "rf = make_pipeline(preprocessor,rus, clf)\n",
    "## cross validate \n",
    "from sklearn.model_selection import cross_validate\n",
    "\n",
    "scores = cross_validate(rf, X_train, y_train, scoring=['roc_auc','recall','accuracy','precision', 'f1'], cv = K_FOLD, return_train_score = True, return_estimator=True)"
   ]
  },
  {
   "cell_type": "code",
   "execution_count": null,
   "metadata": {},
   "outputs": [],
   "source": [
    "scores "
   ]
  },
  {
   "cell_type": "code",
   "execution_count": null,
   "metadata": {},
   "outputs": [],
   "source": [
    "from sklearn.model_selection import GridSearchCV\n",
    "params = {\n",
    "    'n_estimators': [50, 100, 200],\n",
    "    'max_depth': [4, 6, 10, 12],\n",
    "    'random_state': [13]\n",
    "}\n",
    "new_params = {'randomforestclassifier__' + key: params[key] for key in params}\n",
    "grid_imba = GridSearchCV(rf, param_grid=new_params, cv=K_FOLD, scoring='recall', return_train_score=True)\n",
    "grid_imba.fit(X_train, y_train);"
   ]
  },
  {
   "cell_type": "code",
   "execution_count": null,
   "metadata": {},
   "outputs": [],
   "source": [
    "grid_imba.best_params_"
   ]
  },
  {
   "cell_type": "code",
   "execution_count": null,
   "metadata": {},
   "outputs": [],
   "source": [
    "grid_imba.best_score_"
   ]
  },
  {
   "cell_type": "code",
   "execution_count": null,
   "metadata": {},
   "outputs": [],
   "source": [
    "f_imp = grid_imba.best_estimator_['randomforestclassifier'].feature_importances_"
   ]
  },
  {
   "cell_type": "code",
   "execution_count": null,
   "metadata": {},
   "outputs": [],
   "source": [
    "cat_name = grid_imba.best_estimator_.named_steps['columntransformer'].transformers_[1][1].named_steps['onehot'].get_feature_names()\n"
   ]
  },
  {
   "cell_type": "code",
   "execution_count": null,
   "metadata": {},
   "outputs": [],
   "source": [
    "featurename = np.array(np.concatenate(( np.array(numeric_features), cat_name,)))"
   ]
  },
  {
   "cell_type": "code",
   "execution_count": null,
   "metadata": {},
   "outputs": [],
   "source": [
    "featurename "
   ]
  },
  {
   "cell_type": "code",
   "execution_count": null,
   "metadata": {},
   "outputs": [],
   "source": [
    "categorical_features"
   ]
  },
  {
   "cell_type": "code",
   "execution_count": null,
   "metadata": {},
   "outputs": [],
   "source": [
    "feat_imp = pd.DataFrame({\n",
    "    'Feature': featurename [np.argsort(f_imp)],\n",
    "    'Importance': np.sort(f_imp)\n",
    "}).sort_values('Importance', ascending=False)\n",
    "\n",
    "plt.figure(figsize=(10,10))\n",
    "plt.barh(y = feat_imp['Feature'], width=feat_imp['Importance'])\n",
    "plt.gca().invert_yaxis()\n",
    "plt.xlabel('Feature importance')\n",
    "plt.title('Random forest feature importance')\n",
    "#plt.savefig(\"fig/rf_feat_importance.png\", bbox_inches='tight')"
   ]
  },
  {
   "cell_type": "code",
   "execution_count": null,
   "metadata": {},
   "outputs": [],
   "source": [
    "featurename [np.argsort(f_imp)]"
   ]
  },
  {
   "cell_type": "code",
   "execution_count": null,
   "metadata": {},
   "outputs": [],
   "source": [
    "np.sort(f_imp)"
   ]
  },
  {
   "cell_type": "code",
   "execution_count": null,
   "metadata": {},
   "outputs": [],
   "source": []
  },
  {
   "cell_type": "code",
   "execution_count": null,
   "metadata": {},
   "outputs": [],
   "source": []
  },
  {
   "cell_type": "code",
   "execution_count": null,
   "metadata": {},
   "outputs": [],
   "source": [
    "logReg.fit(X_train, y_train)"
   ]
  },
  {
   "cell_type": "code",
   "execution_count": null,
   "metadata": {},
   "outputs": [],
   "source": [
    "prediction = logReg.predict(X_test)\n",
    "len(prediction)\n"
   ]
  },
  {
   "cell_type": "code",
   "execution_count": null,
   "metadata": {},
   "outputs": [],
   "source": [
    "metrics.recall_score(y_test, prediction)"
   ]
  },
  {
   "cell_type": "code",
   "execution_count": null,
   "metadata": {},
   "outputs": [],
   "source": [
    "metrics.precision_score(y_test, prediction)"
   ]
  },
  {
   "cell_type": "code",
   "execution_count": null,
   "metadata": {},
   "outputs": [],
   "source": [
    "metrics.roc_auc_score(y_test, prediction)"
   ]
  },
  {
   "cell_type": "code",
   "execution_count": null,
   "metadata": {},
   "outputs": [],
   "source": [
    "metrics.f1_score(y_test, prediction)"
   ]
  },
  {
   "cell_type": "code",
   "execution_count": null,
   "metadata": {},
   "outputs": [],
   "source": [
    "metrics.confusion_matrix(y_test, prediction)"
   ]
  },
  {
   "cell_type": "code",
   "execution_count": null,
   "metadata": {},
   "outputs": [],
   "source": [
    "\n",
    "def plot_confusion_matrix(y_true, y_pred, classes,\n",
    "                          normalize=False,\n",
    "                          title=None,\n",
    "                          cmap=plt.cm.Blues):\n",
    "    \"\"\"\n",
    "    This function prints and plots the confusion matrix.\n",
    "    Normalization can be applied by setting `normalize=True`.\n",
    "    \"\"\"\n",
    "    if not title:\n",
    "        if normalize:\n",
    "            title = 'Normalized confusion matrix'\n",
    "        else:\n",
    "            title = 'Confusion matrix, without normalization'\n",
    "\n",
    "    # Compute confusion matrix\n",
    "    cm = confusion_matrix(y_true, y_pred)\n",
    "    # Only use the labels that appear in the data\n",
    "    classes = classes[unique_labels(y_true, y_pred)]\n",
    "    if normalize:\n",
    "        cm = cm.astype('float') / cm.sum(axis=1)[:, np.newaxis]\n",
    "        print(\"Normalized confusion matrix\")\n",
    "    else:\n",
    "        print('Confusion matrix, without normalization')\n",
    "\n",
    "    print(cm)\n",
    "\n",
    "    fig, ax = plt.subplots()\n",
    "    im = ax.imshow(cm, interpolation='nearest', cmap=cmap)\n",
    "    ax.figure.colorbar(im, ax=ax)\n",
    "    # We want to show all ticks...\n",
    "    ax.set(xticks=np.arange(cm.shape[1]),\n",
    "           yticks=np.arange(cm.shape[0]),\n",
    "           # ... and label them with the respective list entries\n",
    "           xticklabels=classes, yticklabels=classes,\n",
    "           title=title,\n",
    "           ylabel='True label',\n",
    "           xlabel='Predicted label')\n",
    "\n",
    "    # Rotate the tick labels and set their alignment.\n",
    "    plt.setp(ax.get_xticklabels(), rotation=45, ha=\"right\",\n",
    "             rotation_mode=\"anchor\")\n",
    "\n",
    "    # Loop over data dimensions and create text annotations.\n",
    "    fmt = '.2f' if normalize else 'd'\n",
    "    thresh = cm.max() / 2.\n",
    "    for i in range(cm.shape[0]):\n",
    "        for j in range(cm.shape[1]):\n",
    "            ax.text(j, i, format(cm[i, j], fmt),\n",
    "                    ha=\"center\", va=\"center\",\n",
    "                    color=\"white\" if cm[i, j] > thresh else \"black\")\n",
    "    fig.tight_layout()\n",
    "    return ax\n",
    "\n",
    "\n"
   ]
  },
  {
   "cell_type": "code",
   "execution_count": null,
   "metadata": {},
   "outputs": [],
   "source": [
    "np.set_printoptions(precision=2)\n",
    "\n"
   ]
  },
  {
   "cell_type": "code",
   "execution_count": null,
   "metadata": {},
   "outputs": [],
   "source": [
    "# Plot non-normalized confusion matrix\n",
    "plot_confusion_matrix(y_test, prediction, classes=class_names,\n",
    "                      title='Confusion matrix, without normalization')\n",
    "\n",
    "# Plot normalized confusion matrix\n",
    "plot_confusion_matrix(y_test, prediction, classes=class_names, normalize=True,\n",
    "                      title='Normalized confusion matrix')\n",
    "\n",
    "plt.show()"
   ]
  },
  {
   "cell_type": "code",
   "execution_count": null,
   "metadata": {},
   "outputs": [],
   "source": [
    "log.coef_.T"
   ]
  },
  {
   "cell_type": "code",
   "execution_count": null,
   "metadata": {},
   "outputs": [],
   "source": [
    "X_train.columns"
   ]
  },
  {
   "cell_type": "code",
   "execution_count": null,
   "metadata": {},
   "outputs": [],
   "source": [
    "logReg.predict_proba(X_train)\n",
    "#https://www.guru99.com/scikit-learn-tutorial.html"
   ]
  },
  {
   "cell_type": "code",
   "execution_count": null,
   "metadata": {},
   "outputs": [],
   "source": [
    "cat_name = logReg.named_steps['columntransformer'].transformers_[1][1].named_steps['onehot'].get_feature_names()\n",
    "featurename = np.array(np.concatenate(( np.array(numeric_features), cat_name,)))"
   ]
  },
  {
   "cell_type": "code",
   "execution_count": null,
   "metadata": {},
   "outputs": [],
   "source": [
    "featurename = np.array(np.concatenate(( np.array(numeric_features), cat_name,)))"
   ]
  },
  {
   "cell_type": "code",
   "execution_count": null,
   "metadata": {},
   "outputs": [],
   "source": [
    "featurename.size"
   ]
  },
  {
   "cell_type": "code",
   "execution_count": null,
   "metadata": {},
   "outputs": [],
   "source": [
    "type(logReg.named_steps['columntransformer'].transformers_[1][1].named_steps['onehot'].get_feature_names())"
   ]
  },
  {
   "cell_type": "code",
   "execution_count": null,
   "metadata": {
    "scrolled": true
   },
   "outputs": [],
   "source": [
    "plt.figure(figsize=(6,6))\n",
    "plt.barh(range(len(log.coef_[0])), width=np.sort(log.coef_[0]))\n",
    "plt.yticks(ticks=range(len(log.coef_[0])), labels=featurename[np.argsort(log.coef_[0])])\n",
    "plt.title('Logistic regression coefficients')\n",
    "print(featurename[np.argsort(log.coef_[0])])\n",
    "print(np.sort(log.coef_[0]))\n",
    "#plt.savefig(\"fig/lr_coeff.png\", bbox_inches='tight')"
   ]
  },
  {
   "cell_type": "code",
   "execution_count": null,
   "metadata": {},
   "outputs": [],
   "source": [
    "featurename[np.argsort(log.coef_[0])]"
   ]
  },
  {
   "cell_type": "code",
   "execution_count": null,
   "metadata": {},
   "outputs": [],
   "source": [
    "np.argsort(log.coef_[0])"
   ]
  },
  {
   "cell_type": "code",
   "execution_count": null,
   "metadata": {},
   "outputs": [],
   "source": [
    "np.argsort(log.coef_[0])"
   ]
  },
  {
   "cell_type": "code",
   "execution_count": null,
   "metadata": {},
   "outputs": [],
   "source": [
    "range(len(log.coef_[0]))"
   ]
  },
  {
   "cell_type": "code",
   "execution_count": null,
   "metadata": {},
   "outputs": [],
   "source": [
    "log.coef_[0]"
   ]
  },
  {
   "cell_type": "code",
   "execution_count": null,
   "metadata": {},
   "outputs": [],
   "source": []
  }
 ],
 "metadata": {
  "kernelspec": {
   "display_name": "Python 3",
   "language": "python",
   "name": "python3"
  },
  "language_info": {
   "codemirror_mode": {
    "name": "ipython",
    "version": 3
   },
   "file_extension": ".py",
   "mimetype": "text/x-python",
   "name": "python",
   "nbconvert_exporter": "python",
   "pygments_lexer": "ipython3",
   "version": "3.7.3"
  }
 },
 "nbformat": 4,
 "nbformat_minor": 2
}
