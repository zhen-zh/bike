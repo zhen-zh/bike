{
 "cells": [
  {
   "cell_type": "code",
   "execution_count": 5,
   "metadata": {},
   "outputs": [],
   "source": [
    "# Import necessary modules\n",
    "import pandas as pd\n",
    "import numpy as np\n",
    "\n",
    "import matplotlib.pyplot as plt\n",
    "from matplotlib.pyplot import figure\n",
    "\n",
    "import imblearn\n",
    "import sklearn\n",
    "pd.set_option('display.max_rows', 1000)"
   ]
  },
  {
   "cell_type": "code",
   "execution_count": 6,
   "metadata": {},
   "outputs": [],
   "source": [
    "acci_strtindex = pd.read_csv('./data/bikecollisiondata_with_nearest_street_index2.csv',sep = ',')"
   ]
  },
  {
   "cell_type": "code",
   "execution_count": 7,
   "metadata": {},
   "outputs": [],
   "source": [
    "# data clearning on speedlimit \n",
    "numeric_features = ['SEGLENGTH','SURFACEWID', 'PVMTCONDIN', 'PVMTCOND_1','SLOPE_PCT' ]\n",
    "categorical_features = ['SPEEDLIMIT', 'ARTCLASS', 'SEGDIR', 'ONEWAY', 'SURFACETYP','NATIONHWYS' ,'PVMTCATEGO', 'PARKBOULEV' ,'TRANDESCRI']\n",
    "#X = strt2[numeric_features + categorical_features ].copy()\n",
    "#y = strt2['acc']"
   ]
  },
  {
   "cell_type": "code",
   "execution_count": 8,
   "metadata": {},
   "outputs": [
    {
     "data": {
      "text/plain": [
       "5707"
      ]
     },
     "execution_count": 8,
     "metadata": {},
     "output_type": "execute_result"
    }
   ],
   "source": [
    "len(acci_strtindex)"
   ]
  },
  {
   "cell_type": "code",
   "execution_count": 9,
   "metadata": {},
   "outputs": [
    {
     "data": {
      "text/plain": [
       "str"
      ]
     },
     "execution_count": 9,
     "metadata": {},
     "output_type": "execute_result"
    }
   ],
   "source": [
    "type(acci_strtindex['INCDATE'][0])"
   ]
  },
  {
   "cell_type": "code",
   "execution_count": 10,
   "metadata": {},
   "outputs": [],
   "source": [
    "acci_strtindex['date'] = pd.to_datetime(acci_strtindex['INCDATE']).dt.date"
   ]
  },
  {
   "cell_type": "code",
   "execution_count": 11,
   "metadata": {},
   "outputs": [
    {
     "data": {
      "text/plain": [
       "0      2006-05-16 06:30:00\n",
       "1      2007-02-27 10:40:00\n",
       "2      2007-06-02 00:00:00\n",
       "3      2008-08-05 00:00:00\n",
       "4      2011-12-07 21:57:00\n",
       "               ...        \n",
       "5702   2019-07-10 10:21:00\n",
       "5703   2019-07-13 16:36:00\n",
       "5704   2019-06-01 19:56:00\n",
       "5705   2019-06-29 17:21:00\n",
       "5706   2019-04-26 16:42:00\n",
       "Name: INCDTTM, Length: 5707, dtype: datetime64[ns]"
      ]
     },
     "execution_count": 11,
     "metadata": {},
     "output_type": "execute_result"
    }
   ],
   "source": [
    "pd.to_datetime(acci_strtindex['INCDTTM'])"
   ]
  },
  {
   "cell_type": "code",
   "execution_count": 12,
   "metadata": {},
   "outputs": [],
   "source": [
    "acci_strtindex['time'] = pd.to_datetime(acci_strtindex['INCDTTM']).dt.time"
   ]
  },
  {
   "cell_type": "code",
   "execution_count": 13,
   "metadata": {},
   "outputs": [
    {
     "data": {
      "text/plain": [
       "array([2006, 2007, 2008, 2011, 2012, 2009, 2013, 2010, 2014, 2016, 2015,\n",
       "       2018, 2017, 2004, 2019, 2005])"
      ]
     },
     "execution_count": 13,
     "metadata": {},
     "output_type": "execute_result"
    }
   ],
   "source": [
    "acci_strtindex['year'] = pd.to_datetime(acci_strtindex['INCDTTM']).dt.year\n",
    "acci_strtindex['year'].unique()"
   ]
  },
  {
   "cell_type": "code",
   "execution_count": 14,
   "metadata": {},
   "outputs": [],
   "source": [
    "acci_strtindex['hour'] = pd.to_datetime(acci_strtindex['INCDTTM']).dt.hour\n",
    "acci_strtindex['hour'] = [np.nan if i == 0 else i for i in acci_strtindex['hour']]"
   ]
  },
  {
   "cell_type": "code",
   "execution_count": 15,
   "metadata": {},
   "outputs": [],
   "source": [
    "acci_strtindex['dayofweek'] = pd.to_datetime(acci_strtindex['INCDATE']).dt.dayofweek"
   ]
  },
  {
   "cell_type": "code",
   "execution_count": 16,
   "metadata": {},
   "outputs": [],
   "source": [
    "acci_strtindex['month'] = pd.to_datetime(acci_strtindex['INCDATE']).dt.month"
   ]
  },
  {
   "cell_type": "code",
   "execution_count": 17,
   "metadata": {},
   "outputs": [],
   "source": [
    "acci_strtindex['weekday'] = [1 if i <= 4 else 0 for i in acci_strtindex['dayofweek']] # Monday is 0 Sunday is 6 \n",
    "#weekday is 1 weekend is 0 "
   ]
  },
  {
   "cell_type": "code",
   "execution_count": 18,
   "metadata": {},
   "outputs": [
    {
     "data": {
      "text/plain": [
       "4690"
      ]
     },
     "execution_count": 18,
     "metadata": {},
     "output_type": "execute_result"
    }
   ],
   "source": [
    "acci_strtindex['weekday'].sum()"
   ]
  },
  {
   "cell_type": "code",
   "execution_count": 19,
   "metadata": {},
   "outputs": [
    {
     "data": {
      "text/plain": [
       "<matplotlib.axes._subplots.AxesSubplot at 0x10d53e240>"
      ]
     },
     "execution_count": 19,
     "metadata": {},
     "output_type": "execute_result"
    },
    {
     "data": {
      "image/png": "[encoded data removed]",
      "text/plain": [
       "<Figure size 432x288 with 1 Axes>"
      ]
     },
     "metadata": {
      "needs_background": "light"
     },
     "output_type": "display_data"
    }
   ],
   "source": [
    "acci_strtindex.groupby('dayofweek').size().plot.bar()"
   ]
  },
  {
   "cell_type": "code",
   "execution_count": 32,
   "metadata": {},
   "outputs": [
    {
     "data": {
      "text/plain": [
       "<matplotlib.axes._subplots.AxesSubplot at 0x11e8cebe0>"
      ]
     },
     "execution_count": 32,
     "metadata": {},
     "output_type": "execute_result"
    },
    {
     "data": {
      "image/png": "[encoded data removed]",
      "text/plain": [
       "<Figure size 432x288 with 1 Axes>"
      ]
     },
     "metadata": {
      "needs_background": "light"
     },
     "output_type": "display_data"
    }
   ],
   "source": [
    "acci_strtindex.groupby('month').size().plot.bar()"
   ]
  },
  {
   "cell_type": "code",
   "execution_count": 33,
   "metadata": {},
   "outputs": [
    {
     "data": {
      "text/plain": [
       "<matplotlib.axes._subplots.AxesSubplot at 0x11e980a20>"
      ]
     },
     "execution_count": 33,
     "metadata": {},
     "output_type": "execute_result"
    },
    {
     "data": {
      "image/png": "[encoded data removed]",
      "text/plain": [
       "<Figure size 432x288 with 1 Axes>"
      ]
     },
     "metadata": {
      "needs_background": "light"
     },
     "output_type": "display_data"
    }
   ],
   "source": [
    "acci_strtindex.groupby('hour').size().plot.bar()"
   ]
  },
  {
   "cell_type": "code",
   "execution_count": 38,
   "metadata": {},
   "outputs": [
    {
     "data": {
      "text/plain": [
       "<matplotlib.axes._subplots.AxesSubplot at 0x11ea876d8>"
      ]
     },
     "execution_count": 38,
     "metadata": {},
     "output_type": "execute_result"
    },
    {
     "data": {
      "image/png": "[encoded data removed]",
      "text/plain": [
       "<Figure size 432x288 with 1 Axes>"
      ]
     },
     "metadata": {
      "needs_background": "light"
     },
     "output_type": "display_data"
    }
   ],
   "source": [
    "acci_strtindex.groupby('weather_group2').size().plot.bar()"
   ]
  },
  {
   "cell_type": "code",
   "execution_count": 34,
   "metadata": {},
   "outputs": [
    {
     "data": {
      "text/plain": [
       "weather_group\n",
       "Clear or Partly Cloudy    4129\n",
       "Overcast                   810\n",
       "Raining                    631\n",
       "dtype: int64"
      ]
     },
     "execution_count": 34,
     "metadata": {},
     "output_type": "execute_result"
    }
   ],
   "source": [
    "acci_strtindex.groupby('weather_group').size()"
   ]
  },
  {
   "cell_type": "code",
   "execution_count": 35,
   "metadata": {},
   "outputs": [],
   "source": [
    "## further group by rain or not \n",
    "weather_group2 = np.empty(len(acci_strtindex), dtype = object)\n",
    "for i in np.arange(0,len(acci_strtindex['weather_group'])):\n",
    "        weather = acci_strtindex['weather_group'][i] \n",
    "        if ( weather == 'Overcast' ):\n",
    "            weather_group2[i] = 'Clear or Partly Cloudy'\n",
    "        else:\n",
    "            weather_group2[i] = weather"
   ]
  },
  {
   "cell_type": "code",
   "execution_count": 36,
   "metadata": {},
   "outputs": [
    {
     "data": {
      "text/plain": [
       "weather_group2\n",
       "Clear or Partly Cloudy    4939\n",
       "Raining                    631\n",
       "dtype: int64"
      ]
     },
     "execution_count": 36,
     "metadata": {},
     "output_type": "execute_result"
    }
   ],
   "source": [
    "acci_strtindex['weather_group2'] = weather_group2\n",
    "acci_strtindex.groupby(['weather_group2']).size()"
   ]
  },
  {
   "cell_type": "code",
   "execution_count": 37,
   "metadata": {},
   "outputs": [],
   "source": [
    "acci_strtindex['rushhour'] = [ 1 if ((i <=9) and (i >= 7)) or ((i>= 15) and (i <= 19)) else np.nan if np.isnan(i) == True else 0 for i in acci_strtindex['hour'] ]"
   ]
  },
  {
   "cell_type": "code",
   "execution_count": null,
   "metadata": {},
   "outputs": [],
   "source": [
    "acci_strtindex.to_csv('./bikecollisiondata_with_nearest_street_index2_updated.csv', index=False,sep = \",\")"
   ]
  },
  {
   "cell_type": "markdown",
   "metadata": {},
   "source": [
    "## EDA on SlideWalk data "
   ]
  },
  {
   "cell_type": "code",
   "execution_count": null,
   "metadata": {},
   "outputs": [],
   "source": [
    "sidewalk = pd.read_csv('./data/Sidewalks.csv',sep = ',')"
   ]
  },
  {
   "cell_type": "code",
   "execution_count": null,
   "metadata": {},
   "outputs": [],
   "source": [
    "sidewalk.columns"
   ]
  },
  {
   "cell_type": "code",
   "execution_count": null,
   "metadata": {},
   "outputs": [],
   "source": [
    "sidewalk.isnull().sum()"
   ]
  },
  {
   "cell_type": "code",
   "execution_count": null,
   "metadata": {},
   "outputs": [],
   "source": [
    "len(sidewalk)"
   ]
  },
  {
   "cell_type": "code",
   "execution_count": null,
   "metadata": {},
   "outputs": [],
   "source": [
    "## EDA on Bike Facility \n",
    "facility = pd.read_csv('./data/Existing_Bike_Facilities.csv',sep = ',')"
   ]
  },
  {
   "cell_type": "code",
   "execution_count": null,
   "metadata": {},
   "outputs": [],
   "source": [
    "facility.columns"
   ]
  },
  {
   "cell_type": "code",
   "execution_count": null,
   "metadata": {},
   "outputs": [],
   "source": [
    "len(facility)"
   ]
  },
  {
   "cell_type": "code",
   "execution_count": null,
   "metadata": {},
   "outputs": [],
   "source": [
    "facility.isnull().sum()"
   ]
  },
  {
   "cell_type": "code",
   "execution_count": null,
   "metadata": {},
   "outputs": [],
   "source": []
  },
  {
   "cell_type": "code",
   "execution_count": null,
   "metadata": {},
   "outputs": [],
   "source": [
    "pd.to_datetime(facility.DATE_COMPLETED)"
   ]
  },
  {
   "cell_type": "code",
   "execution_count": null,
   "metadata": {},
   "outputs": [],
   "source": [
    "facility['yr_complete'] = pd.to_datetime(facility.DATE_COMPLETED).dt.year\n",
    "#acci_strtindex['yr_complete'].unique()"
   ]
  },
  {
   "cell_type": "code",
   "execution_count": null,
   "metadata": {},
   "outputs": [],
   "source": [
    "facility['yr_complete'].hist()"
   ]
  },
  {
   "cell_type": "code",
   "execution_count": null,
   "metadata": {},
   "outputs": [],
   "source": [
    "facility.head()"
   ]
  },
  {
   "cell_type": "code",
   "execution_count": 4,
   "metadata": {},
   "outputs": [],
   "source": [
    "# Merge bikelane info with street / accident\n",
    "\n",
    "bikecl = pd.read_csv('./data/bikecollisiondata_with_nearest_street_index2_updated.csv', sep = \",\")\n",
    "str_bike = pd.read_csv('./data/strt2_withbikelane.csv', sep= \",\")\n",
    "bike = pd.read_csv('./data/Existing_Bike_Facilities.csv', sep= \",\")"
   ]
  },
  {
   "cell_type": "code",
   "execution_count": 7,
   "metadata": {},
   "outputs": [
    {
     "data": {
      "text/plain": [
       "ADDRTYPE\n",
       "Alley              9\n",
       "Block           2434\n",
       "Intersection    3260\n",
       "dtype: int64"
      ]
     },
     "execution_count": 7,
     "metadata": {},
     "output_type": "execute_result"
    }
   ],
   "source": [
    "bikecl.groupby('ADDRTYPE').size()"
   ]
  },
  {
   "cell_type": "code",
   "execution_count": 13,
   "metadata": {},
   "outputs": [
    {
     "data": {
      "text/html": [
       "<div>\n",
       "<style scoped>\n",
       "    .dataframe tbody tr th:only-of-type {\n",
       "        vertical-align: middle;\n",
       "    }\n",
       "\n",
       "    .dataframe tbody tr th {\n",
       "        vertical-align: top;\n",
       "    }\n",
       "\n",
       "    .dataframe thead th {\n",
       "        text-align: right;\n",
       "    }\n",
       "</style>\n",
       "<table border=\"1\" class=\"dataframe\">\n",
       "  <thead>\n",
       "    <tr style=\"text-align: right;\">\n",
       "      <th></th>\n",
       "      <th>OBJECTID</th>\n",
       "      <th>INCKEY</th>\n",
       "      <th>COLDETKEY</th>\n",
       "      <th>REPORTNO</th>\n",
       "      <th>STATUS</th>\n",
       "      <th>ADDRTYPE</th>\n",
       "      <th>INTKEY</th>\n",
       "      <th>LOCATION</th>\n",
       "      <th>EXCEPTRSNC</th>\n",
       "      <th>EXCEPTRSND</th>\n",
       "      <th>...</th>\n",
       "      <th>near_str_index</th>\n",
       "      <th>min_length</th>\n",
       "      <th>weather_group</th>\n",
       "      <th>date</th>\n",
       "      <th>time</th>\n",
       "      <th>hour</th>\n",
       "      <th>dayofweek</th>\n",
       "      <th>weekday</th>\n",
       "      <th>rushhour</th>\n",
       "      <th>weather_group2</th>\n",
       "    </tr>\n",
       "  </thead>\n",
       "  <tbody>\n",
       "    <tr>\n",
       "      <td>0</td>\n",
       "      <td>1015</td>\n",
       "      <td>63600</td>\n",
       "      <td>63600</td>\n",
       "      <td>2188744</td>\n",
       "      <td>Matched</td>\n",
       "      <td>Intersection</td>\n",
       "      <td>35587.0</td>\n",
       "      <td>1ST AVE NW AND NW 143RD ST</td>\n",
       "      <td>NaN</td>\n",
       "      <td>NaN</td>\n",
       "      <td>...</td>\n",
       "      <td>2284.0</td>\n",
       "      <td>0.000000</td>\n",
       "      <td>Clear or Partly Cloudy</td>\n",
       "      <td>2006-05-16</td>\n",
       "      <td>06:30:00</td>\n",
       "      <td>6.0</td>\n",
       "      <td>1</td>\n",
       "      <td>1</td>\n",
       "      <td>0.0</td>\n",
       "      <td>Clear or Partly Cloudy</td>\n",
       "    </tr>\n",
       "    <tr>\n",
       "      <td>1</td>\n",
       "      <td>1031</td>\n",
       "      <td>76900</td>\n",
       "      <td>76900</td>\n",
       "      <td>2620912</td>\n",
       "      <td>Matched</td>\n",
       "      <td>Intersection</td>\n",
       "      <td>29072.0</td>\n",
       "      <td>BROADWAY AND E HOWELL ST</td>\n",
       "      <td>NaN</td>\n",
       "      <td>NaN</td>\n",
       "      <td>...</td>\n",
       "      <td>11910.0</td>\n",
       "      <td>0.000000</td>\n",
       "      <td>Clear or Partly Cloudy</td>\n",
       "      <td>2007-02-27</td>\n",
       "      <td>10:40:00</td>\n",
       "      <td>10.0</td>\n",
       "      <td>1</td>\n",
       "      <td>1</td>\n",
       "      <td>0.0</td>\n",
       "      <td>Clear or Partly Cloudy</td>\n",
       "    </tr>\n",
       "    <tr>\n",
       "      <td>2</td>\n",
       "      <td>1105</td>\n",
       "      <td>66700</td>\n",
       "      <td>66700</td>\n",
       "      <td>2806857</td>\n",
       "      <td>Matched</td>\n",
       "      <td>Intersection</td>\n",
       "      <td>38204.0</td>\n",
       "      <td>68TH AVE S AND RAINIER AVE S</td>\n",
       "      <td>NaN</td>\n",
       "      <td>NaN</td>\n",
       "      <td>...</td>\n",
       "      <td>3727.0</td>\n",
       "      <td>0.000000</td>\n",
       "      <td>Clear or Partly Cloudy</td>\n",
       "      <td>2007-06-02</td>\n",
       "      <td>00:00:00</td>\n",
       "      <td>NaN</td>\n",
       "      <td>5</td>\n",
       "      <td>0</td>\n",
       "      <td>NaN</td>\n",
       "      <td>Clear or Partly Cloudy</td>\n",
       "    </tr>\n",
       "    <tr>\n",
       "      <td>3</td>\n",
       "      <td>1219</td>\n",
       "      <td>82300</td>\n",
       "      <td>82300</td>\n",
       "      <td>2894257</td>\n",
       "      <td>Matched</td>\n",
       "      <td>Block</td>\n",
       "      <td>NaN</td>\n",
       "      <td>EAST MARGINAL WAY S BETWEEN S RIVER ST AND S B...</td>\n",
       "      <td>NaN</td>\n",
       "      <td>NaN</td>\n",
       "      <td>...</td>\n",
       "      <td>15724.0</td>\n",
       "      <td>0.000004</td>\n",
       "      <td>Clear or Partly Cloudy</td>\n",
       "      <td>2008-08-05</td>\n",
       "      <td>00:00:00</td>\n",
       "      <td>NaN</td>\n",
       "      <td>1</td>\n",
       "      <td>1</td>\n",
       "      <td>NaN</td>\n",
       "      <td>Clear or Partly Cloudy</td>\n",
       "    </tr>\n",
       "    <tr>\n",
       "      <td>4</td>\n",
       "      <td>1320</td>\n",
       "      <td>124600</td>\n",
       "      <td>124600</td>\n",
       "      <td>3562409</td>\n",
       "      <td>Matched</td>\n",
       "      <td>Intersection</td>\n",
       "      <td>26818.0</td>\n",
       "      <td>WOODLAND PARK AVE N AND N 43RD N ST</td>\n",
       "      <td>NaN</td>\n",
       "      <td>NaN</td>\n",
       "      <td>...</td>\n",
       "      <td>3839.0</td>\n",
       "      <td>0.000000</td>\n",
       "      <td>Clear or Partly Cloudy</td>\n",
       "      <td>2011-12-07</td>\n",
       "      <td>21:57:00</td>\n",
       "      <td>21.0</td>\n",
       "      <td>2</td>\n",
       "      <td>1</td>\n",
       "      <td>0.0</td>\n",
       "      <td>Clear or Partly Cloudy</td>\n",
       "    </tr>\n",
       "  </tbody>\n",
       "</table>\n",
       "<p>5 rows × 49 columns</p>\n",
       "</div>"
      ],
      "text/plain": [
       "   OBJECTID  INCKEY  COLDETKEY REPORTNO   STATUS      ADDRTYPE   INTKEY  \\\n",
       "0      1015   63600      63600  2188744  Matched  Intersection  35587.0   \n",
       "1      1031   76900      76900  2620912  Matched  Intersection  29072.0   \n",
       "2      1105   66700      66700  2806857  Matched  Intersection  38204.0   \n",
       "3      1219   82300      82300  2894257  Matched         Block      NaN   \n",
       "4      1320  124600     124600  3562409  Matched  Intersection  26818.0   \n",
       "\n",
       "                                            LOCATION EXCEPTRSNC EXCEPTRSND  \\\n",
       "0                         1ST AVE NW AND NW 143RD ST        NaN        NaN   \n",
       "1                           BROADWAY AND E HOWELL ST        NaN        NaN   \n",
       "2                       68TH AVE S AND RAINIER AVE S        NaN        NaN   \n",
       "3  EAST MARGINAL WAY S BETWEEN S RIVER ST AND S B...        NaN        NaN   \n",
       "4                WOODLAND PARK AVE N AND N 43RD N ST        NaN        NaN   \n",
       "\n",
       "   ... near_str_index min_length           weather_group        date  \\\n",
       "0  ...         2284.0   0.000000  Clear or Partly Cloudy  2006-05-16   \n",
       "1  ...        11910.0   0.000000  Clear or Partly Cloudy  2007-02-27   \n",
       "2  ...         3727.0   0.000000  Clear or Partly Cloudy  2007-06-02   \n",
       "3  ...        15724.0   0.000004  Clear or Partly Cloudy  2008-08-05   \n",
       "4  ...         3839.0   0.000000  Clear or Partly Cloudy  2011-12-07   \n",
       "\n",
       "       time  hour  dayofweek  weekday  rushhour          weather_group2  \n",
       "0  06:30:00   6.0          1        1       0.0  Clear or Partly Cloudy  \n",
       "1  10:40:00  10.0          1        1       0.0  Clear or Partly Cloudy  \n",
       "2  00:00:00   NaN          5        0       NaN  Clear or Partly Cloudy  \n",
       "3  00:00:00   NaN          1        1       NaN  Clear or Partly Cloudy  \n",
       "4  21:57:00  21.0          2        1       0.0  Clear or Partly Cloudy  \n",
       "\n",
       "[5 rows x 49 columns]"
      ]
     },
     "execution_count": 13,
     "metadata": {},
     "output_type": "execute_result"
    }
   ],
   "source": [
    "bikecl.head()"
   ]
  },
  {
   "cell_type": "code",
   "execution_count": 12,
   "metadata": {},
   "outputs": [
    {
     "data": {
      "text/plain": [
       "0       S LANDER ST\n",
       "1       S LANDER ST\n",
       "2       S LANDER ST\n",
       "3       S LANDER ST\n",
       "4       S LANDER ST\n",
       "           ...     \n",
       "3248     NE 65TH ST\n",
       "3249     NE 65TH ST\n",
       "3250     NE 65TH ST\n",
       "3251     NE 65TH ST\n",
       "3252     NE 65TH ST\n",
       "Name: STREET_NAME, Length: 3253, dtype: object"
      ]
     },
     "execution_count": 12,
     "metadata": {},
     "output_type": "execute_result"
    }
   ],
   "source": [
    "bike['STREET_NAME']"
   ]
  },
  {
   "cell_type": "code",
   "execution_count": 23,
   "metadata": {},
   "outputs": [],
   "source": [
    "training = pd.read_csv('./data/training.csv', sep = ',')\n",
    "label = pd.read_csv('./data/label.csv', sep = ',')\n",
    "training['acc'] = label"
   ]
  },
  {
   "cell_type": "code",
   "execution_count": 20,
   "metadata": {},
   "outputs": [
    {
     "data": {
      "text/plain": [
       "Index(['SEGLENGTH_log', 'SURFACEWID_log', 'PVMTCONDIN', 'PVMTCOND_1',\n",
       "       'SLOPE_PCT', 'SW_WIDTH', 'FILLERWID', 'MINIMUMVARIABLEWIDTH',\n",
       "       'PRIMARYCROSSSLOPE', 'LENGTH_MIL', 'SPEEDLIMIT', 'SEGDIR', 'STREETTYPE',\n",
       "       'ONEWAY', 'SURFACETYP', 'PVMTCATEGO', 'CONDITION', 'SWINCOMPLETEYN',\n",
       "       'simulate_rushhour', 'simulate_weather', 'simulate_weekday',\n",
       "       'EXISTING_FACILITY_TYPE', 'CLASS_DESC', 'GEN_ALIAS'],\n",
       "      dtype='object')"
      ]
     },
     "execution_count": 20,
     "metadata": {},
     "output_type": "execute_result"
    }
   ],
   "source": [
    "training.columns"
   ]
  },
  {
   "cell_type": "code",
   "execution_count": 27,
   "metadata": {},
   "outputs": [
    {
     "data": {
      "text/plain": [
       "<matplotlib.axes._subplots.AxesSubplot at 0x10d3a3198>"
      ]
     },
     "execution_count": 27,
     "metadata": {},
     "output_type": "execute_result"
    },
    {
     "data": {
      "image/png": "[encoded data removed]",
      "text/plain": [
       "<Figure size 432x288 with 1 Axes>"
      ]
     },
     "metadata": {
      "needs_background": "light"
     },
     "output_type": "display_data"
    }
   ],
   "source": [
    "training.groupby([ 'CLASS_DESC', 'acc']).size().unstack().plot(kind='bar', stacked=True)"
   ]
  },
  {
   "cell_type": "code",
   "execution_count": 30,
   "metadata": {},
   "outputs": [
    {
     "data": {
      "text/plain": [
       "<matplotlib.axes._subplots.AxesSubplot at 0x1121d0978>"
      ]
     },
     "execution_count": 30,
     "metadata": {},
     "output_type": "execute_result"
    },
    {
     "data": {
      "image/png": "[encoded data removed]",
      "text/plain": [
       "<Figure size 432x288 with 1 Axes>"
      ]
     },
     "metadata": {
      "needs_background": "light"
     },
     "output_type": "display_data"
    }
   ],
   "source": [
    "training.groupby([ 'SPEEDLIMIT', 'acc']).size().unstack().plot(kind='bar', stacked=True)"
   ]
  },
  {
   "cell_type": "code",
   "execution_count": 28,
   "metadata": {},
   "outputs": [
    {
     "data": {
      "text/plain": [
       "<matplotlib.axes._subplots.AxesSubplot at 0x110f596a0>"
      ]
     },
     "execution_count": 28,
     "metadata": {},
     "output_type": "execute_result"
    },
    {
     "data": {
      "image/png": "[encoded data removed]",
      "text/plain": [
       "<Figure size 432x288 with 1 Axes>"
      ]
     },
     "metadata": {
      "needs_background": "light"
     },
     "output_type": "display_data"
    }
   ],
   "source": [
    "training.groupby([ 'CLASS_DESC', 'acc']).size().unstack().plot(kind='bar', stacked=True)"
   ]
  },
  {
   "cell_type": "code",
   "execution_count": null,
   "metadata": {},
   "outputs": [],
   "source": [
    "training.groupby('CLASS_DESC').size().plot.bar()"
   ]
  },
  {
   "cell_type": "code",
   "execution_count": 31,
   "metadata": {},
   "outputs": [
    {
     "data": {
      "text/plain": [
       "<matplotlib.axes._subplots.AxesSubplot at 0x11252a940>"
      ]
     },
     "execution_count": 31,
     "metadata": {},
     "output_type": "execute_result"
    },
    {
     "data": {
      "image/png": "[encoded data removed]",
      "text/plain": [
       "<Figure size 432x288 with 1 Axes>"
      ]
     },
     "metadata": {
      "needs_background": "light"
     },
     "output_type": "display_data"
    }
   ],
   "source": [
    "training.groupby([ 'EXISTING_FACILITY_TYPE', 'acc']).size().unstack().plot(kind='bar', stacked=True)"
   ]
  },
  {
   "cell_type": "code",
   "execution_count": 32,
   "metadata": {},
   "outputs": [
    {
     "data": {
      "text/plain": [
       "<matplotlib.axes._subplots.AxesSubplot at 0x112eeb668>"
      ]
     },
     "execution_count": 32,
     "metadata": {},
     "output_type": "execute_result"
    },
    {
     "data": {
      "image/png": "[encoded data removed]",
      "text/plain": [
       "<Figure size 432x288 with 1 Axes>"
      ]
     },
     "metadata": {
      "needs_background": "light"
     },
     "output_type": "display_data"
    }
   ],
   "source": [
    "training.groupby([ 'PVMTCATEGO', 'acc']).size().unstack().plot(kind='bar', stacked=True)"
   ]
  },
  {
   "cell_type": "code",
   "execution_count": 33,
   "metadata": {},
   "outputs": [
    {
     "data": {
      "text/plain": [
       "<matplotlib.axes._subplots.AxesSubplot at 0x112f63550>"
      ]
     },
     "execution_count": 33,
     "metadata": {},
     "output_type": "execute_result"
    },
    {
     "data": {
      "image/png": "[encoded data removed]",
      "text/plain": [
       "<Figure size 432x288 with 1 Axes>"
      ]
     },
     "metadata": {
      "needs_background": "light"
     },
     "output_type": "display_data"
    }
   ],
   "source": [
    "\n",
    "training.groupby([ 'SWINCOMPLETEYN', 'acc']).size().unstack().plot(kind='bar', stacked=True)\n"
   ]
  },
  {
   "cell_type": "code",
   "execution_count": 34,
   "metadata": {},
   "outputs": [
    {
     "data": {
      "text/plain": [
       "<matplotlib.axes._subplots.AxesSubplot at 0x113791438>"
      ]
     },
     "execution_count": 34,
     "metadata": {},
     "output_type": "execute_result"
    },
    {
     "data": {
      "image/png": "[encoded data removed]",
      "text/plain": [
       "<Figure size 432x288 with 1 Axes>"
      ]
     },
     "metadata": {
      "needs_background": "light"
     },
     "output_type": "display_data"
    }
   ],
   "source": [
    "\n",
    "\n",
    "training.groupby([ 'STREETTYPE', 'acc']).size().unstack().plot(kind='bar', stacked=True)\n"
   ]
  },
  {
   "cell_type": "code",
   "execution_count": 35,
   "metadata": {},
   "outputs": [
    {
     "data": {
      "text/plain": [
       "<matplotlib.axes._subplots.AxesSubplot at 0x112023940>"
      ]
     },
     "execution_count": 35,
     "metadata": {},
     "output_type": "execute_result"
    },
    {
     "data": {
      "image/png": "[encoded data removed]",
      "text/plain": [
       "<Figure size 432x288 with 1 Axes>"
      ]
     },
     "metadata": {
      "needs_background": "light"
     },
     "output_type": "display_data"
    }
   ],
   "source": [
    "\n",
    "\n",
    "\n",
    "training.groupby([ 'SEGDIR', 'acc']).size().unstack().plot(kind='bar', stacked=True)"
   ]
  },
  {
   "cell_type": "code",
   "execution_count": 36,
   "metadata": {},
   "outputs": [
    {
     "data": {
      "text/plain": [
       "<matplotlib.axes._subplots.AxesSubplot at 0x1140965f8>"
      ]
     },
     "execution_count": 36,
     "metadata": {},
     "output_type": "execute_result"
    },
    {
     "data": {
      "image/png": "[encoded data removed]",
      "text/plain": [
       "<Figure size 432x288 with 1 Axes>"
      ]
     },
     "metadata": {
      "needs_background": "light"
     },
     "output_type": "display_data"
    }
   ],
   "source": [
    "training.groupby([ 'ONEWAY', 'acc']).size().unstack().plot(kind='bar', stacked=True)"
   ]
  },
  {
   "cell_type": "code",
   "execution_count": 37,
   "metadata": {},
   "outputs": [
    {
     "data": {
      "text/plain": [
       "<matplotlib.axes._subplots.AxesSubplot at 0x1147b83c8>"
      ]
     },
     "execution_count": 37,
     "metadata": {},
     "output_type": "execute_result"
    },
    {
     "data": {
      "image/png": "[encoded data removed]",
      "text/plain": [
       "<Figure size 432x288 with 1 Axes>"
      ]
     },
     "metadata": {
      "needs_background": "light"
     },
     "output_type": "display_data"
    }
   ],
   "source": [
    "\n",
    "\n",
    "training.groupby([ 'SLOPE_PCT' , 'acc']).size().unstack().plot(kind='bar', stacked=True)"
   ]
  },
  {
   "cell_type": "code",
   "execution_count": null,
   "metadata": {},
   "outputs": [],
   "source": []
  }
 ],
 "metadata": {
  "kernelspec": {
   "display_name": "Python 3",
   "language": "python",
   "name": "python3"
  },
  "language_info": {
   "codemirror_mode": {
    "name": "ipython",
    "version": 3
   },
   "file_extension": ".py",
   "mimetype": "text/x-python",
   "name": "python",
   "nbconvert_exporter": "python",
   "pygments_lexer": "ipython3",
   "version": "3.7.3"
  }
 },
 "nbformat": 4,
 "nbformat_minor": 2
}
