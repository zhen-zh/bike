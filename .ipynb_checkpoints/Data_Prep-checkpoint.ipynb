{
 "cells": [
  {
   "cell_type": "code",
   "execution_count": 268,
   "metadata": {},
   "outputs": [],
   "source": [
    "# Import necessary modules\n",
    "import pandas as pd\n",
    "import numpy as np\n",
    "\n",
    "import matplotlib.pyplot as plt\n",
    "from matplotlib.pyplot import figure\n",
    "\n",
    "import imblearn\n",
    "import sklearn"
   ]
  },
  {
   "cell_type": "code",
   "execution_count": 290,
   "metadata": {},
   "outputs": [],
   "source": [
    "acci_strtindex = pd.read_csv('bikecollisiondata_with_nearest_street_index2.csv',sep = ',')"
   ]
  },
  {
   "cell_type": "code",
   "execution_count": 237,
   "metadata": {},
   "outputs": [],
   "source": [
    "# data clearning on speedlimit \n",
    "numeric_features = ['SEGLENGTH','SURFACEWID', 'PVMTCONDIN', 'PVMTCOND_1','SLOPE_PCT' ]\n",
    "categorical_features = ['SPEEDLIMIT', 'ARTCLASS', 'SEGDIR', 'ONEWAY', 'SURFACETYP','NATIONHWYS' ,'PVMTCATEGO', 'PARKBOULEV' ,'TRANDESCRI']\n",
    "#X = strt2[numeric_features + categorical_features ].copy()\n",
    "#y = strt2['acc']"
   ]
  },
  {
   "cell_type": "code",
   "execution_count": 291,
   "metadata": {},
   "outputs": [
    {
     "data": {
      "text/plain": [
       "str"
      ]
     },
     "execution_count": 291,
     "metadata": {},
     "output_type": "execute_result"
    }
   ],
   "source": [
    "type(acci_strtindex['INCDATE'][0])"
   ]
  },
  {
   "cell_type": "code",
   "execution_count": 292,
   "metadata": {},
   "outputs": [],
   "source": [
    "acci_strtindex['date'] = pd.to_datetime(acci_strtindex['INCDATE']).dt.date"
   ]
  },
  {
   "cell_type": "code",
   "execution_count": 293,
   "metadata": {},
   "outputs": [
    {
     "data": {
      "text/plain": [
       "0      2006-05-16 06:30:00\n",
       "1      2007-02-27 10:40:00\n",
       "2      2007-06-02 00:00:00\n",
       "3      2008-08-05 00:00:00\n",
       "4      2011-12-07 21:57:00\n",
       "               ...        \n",
       "5702   2019-07-10 10:21:00\n",
       "5703   2019-07-13 16:36:00\n",
       "5704   2019-06-01 19:56:00\n",
       "5705   2019-06-29 17:21:00\n",
       "5706   2019-04-26 16:42:00\n",
       "Name: INCDTTM, Length: 5707, dtype: datetime64[ns]"
      ]
     },
     "execution_count": 293,
     "metadata": {},
     "output_type": "execute_result"
    }
   ],
   "source": [
    "pd.to_datetime(acci_strtindex['INCDTTM'])"
   ]
  },
  {
   "cell_type": "code",
   "execution_count": 294,
   "metadata": {},
   "outputs": [],
   "source": [
    "acci_strtindex['time'] = pd.to_datetime(acci_strtindex['INCDTTM']).dt.time"
   ]
  },
  {
   "cell_type": "code",
   "execution_count": 295,
   "metadata": {},
   "outputs": [],
   "source": [
    "acci_strtindex['hour'] = pd.to_datetime(acci_strtindex['INCDTTM']).dt.hour\n",
    "acci_strtindex['hour'] = [np.nan if i == 0 else i for i in acci_strtindex['hour']]"
   ]
  },
  {
   "cell_type": "code",
   "execution_count": 296,
   "metadata": {},
   "outputs": [],
   "source": [
    "acci_strtindex['dayofweek'] = pd.to_datetime(acci_strtindex['INCDATE']).dt.dayofweek"
   ]
  },
  {
   "cell_type": "code",
   "execution_count": 297,
   "metadata": {},
   "outputs": [],
   "source": [
    "acci_strtindex['weekday'] = [1 if i <= 4 else 0 for i in acci_strtindex['dayofweek']] # Monday is 0 Sunday is 6 \n",
    "#weekday is 1 weekend is 0 "
   ]
  },
  {
   "cell_type": "code",
   "execution_count": 298,
   "metadata": {},
   "outputs": [
    {
     "data": {
      "text/plain": [
       "4690"
      ]
     },
     "execution_count": 298,
     "metadata": {},
     "output_type": "execute_result"
    }
   ],
   "source": [
    "acci_strtindex['weekday'].sum()"
   ]
  },
  {
   "cell_type": "code",
   "execution_count": 299,
   "metadata": {},
   "outputs": [
    {
     "data": {
      "text/plain": [
       "<matplotlib.axes._subplots.AxesSubplot at 0x11daf9860>"
      ]
     },
     "execution_count": 299,
     "metadata": {},
     "output_type": "execute_result"
    },
    {
     "data": {
      "image/png": "[encoded data removed]",
      "text/plain": [
       "<Figure size 432x288 with 1 Axes>"
      ]
     },
     "metadata": {
      "needs_background": "light"
     },
     "output_type": "display_data"
    }
   ],
   "source": [
    "acci_strtindex.groupby('dayofweek').size().plot.bar()"
   ]
  },
  {
   "cell_type": "code",
   "execution_count": 300,
   "metadata": {},
   "outputs": [
    {
     "data": {
      "text/plain": [
       "<matplotlib.axes._subplots.AxesSubplot at 0x11fc55898>"
      ]
     },
     "execution_count": 300,
     "metadata": {},
     "output_type": "execute_result"
    },
    {
     "data": {
      "image/png": "[encoded data removed]",
      "text/plain": [
       "<Figure size 432x288 with 1 Axes>"
      ]
     },
     "metadata": {
      "needs_background": "light"
     },
     "output_type": "display_data"
    }
   ],
   "source": [
    "acci_strtindex.groupby('hour').size().plot.bar()"
   ]
  },
  {
   "cell_type": "code",
   "execution_count": 301,
   "metadata": {},
   "outputs": [
    {
     "data": {
      "text/plain": [
       "weather_group\n",
       "Clear or Partly Cloudy    4129\n",
       "Overcast                   810\n",
       "Raining                    631\n",
       "dtype: int64"
      ]
     },
     "execution_count": 301,
     "metadata": {},
     "output_type": "execute_result"
    }
   ],
   "source": [
    "acci_strtindex.groupby('weather_group').size()"
   ]
  },
  {
   "cell_type": "code",
   "execution_count": 305,
   "metadata": {},
   "outputs": [],
   "source": [
    "## further group by rain or not \n",
    "weather_group2 = np.empty(len(acci_strtindex), dtype = object)\n",
    "for i in np.arange(0,len(acci_strtindex['weather_group'])):\n",
    "        weather = acci_strtindex['weather_group'][i] \n",
    "        if ( weather == 'Overcast' ):\n",
    "            weather_group2[i] = 'Clear or Partly Cloudy'\n",
    "        else:\n",
    "            weather_group2[i] = weather"
   ]
  },
  {
   "cell_type": "code",
   "execution_count": 307,
   "metadata": {},
   "outputs": [
    {
     "data": {
      "text/plain": [
       "weather_group2\n",
       "Clear or Partly Cloudy    4939\n",
       "Raining                    631\n",
       "dtype: int64"
      ]
     },
     "execution_count": 307,
     "metadata": {},
     "output_type": "execute_result"
    }
   ],
   "source": [
    "acci_strtindex['weather_group2'] = weather_group2\n",
    "acci_strtindex.groupby(['weather_group2']).size()"
   ]
  },
  {
   "cell_type": "code",
   "execution_count": 312,
   "metadata": {},
   "outputs": [],
   "source": [
    "acci_strtindex['rushhour'] = [ 1 if ((i <=9) and (i >= 7)) or ((i>= 15) and (i <= 19)) else np.nan if np.isnan(i) == True else 0 for i in acci_strtindex['hour'] ]"
   ]
  },
  {
   "cell_type": "code",
   "execution_count": 313,
   "metadata": {},
   "outputs": [],
   "source": [
    "acci_strtindex.to_csv('./bikecollisiondata_with_nearest_street_index2_updated.csv', index=False,sep = \",\")"
   ]
  },
  {
   "cell_type": "code",
   "execution_count": null,
   "metadata": {},
   "outputs": [],
   "source": []
  },
  {
   "cell_type": "code",
   "execution_count": null,
   "metadata": {},
   "outputs": [],
   "source": []
  },
  {
   "cell_type": "code",
   "execution_count": null,
   "metadata": {},
   "outputs": [],
   "source": []
  },
  {
   "cell_type": "code",
   "execution_count": null,
   "metadata": {},
   "outputs": [],
   "source": []
  }
 ],
 "metadata": {
  "kernelspec": {
   "display_name": "Python 3",
   "language": "python",
   "name": "python3"
  },
  "language_info": {
   "codemirror_mode": {
    "name": "ipython",
    "version": 3
   },
   "file_extension": ".py",
   "mimetype": "text/x-python",
   "name": "python",
   "nbconvert_exporter": "python",
   "pygments_lexer": "ipython3",
   "version": "3.7.3"
  }
 },
 "nbformat": 4,
 "nbformat_minor": 2
}
