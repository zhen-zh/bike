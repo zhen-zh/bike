{
 "cells": [
  {
   "cell_type": "code",
   "execution_count": 151,
   "metadata": {},
   "outputs": [],
   "source": [
    "# Import necessary modules\n",
    "import pandas as pd\n",
    "import matplotlib.pyplot as plt\n",
    "from matplotlib.pyplot import figure\n",
    "import numpy as np\n",
    "from sklearn import metrics \n",
    "%matplotlib inline\n",
    "\n",
    "#https://kiwidamien.github.io/how-to-do-cross-validation-when-upsampling-data.html"
   ]
  },
  {
   "cell_type": "code",
   "execution_count": 152,
   "metadata": {},
   "outputs": [],
   "source": [
    "strt2 = pd.read_csv('./data/filtedstreets.csv', sep= \",\")\n",
    "bikecl = pd.read_csv('./data/bikecollisiondata_with_nearest_street_index2_updated.csv', sep= \",\")"
   ]
  },
  {
   "cell_type": "code",
   "execution_count": 167,
   "metadata": {},
   "outputs": [
    {
     "data": {
      "text/plain": [
       "23495"
      ]
     },
     "execution_count": 167,
     "metadata": {},
     "output_type": "execute_result"
    }
   ],
   "source": [
    "len(bikecl)\n",
    "len(strt2)"
   ]
  },
  {
   "cell_type": "code",
   "execution_count": 169,
   "metadata": {},
   "outputs": [
    {
     "data": {
      "text/plain": [
       "Index(['OBJECTID', 'INCKEY', 'COLDETKEY', 'REPORTNO', 'STATUS', 'ADDRTYPE',\n",
       "       'INTKEY', 'LOCATION', 'EXCEPTRSNC', 'EXCEPTRSND', 'SEVERITYCO',\n",
       "       'SEVERITYDE', 'COLLISIONT', 'PERSONCOUN', 'PEDCOUNT', 'PEDCYLCOUN',\n",
       "       'VEHCOUNT', 'INJURIES', 'SERIOUSINJ', 'FATALITIES', 'INCDATE',\n",
       "       'INCDTTM', 'JUNCTIONTY', 'SDOT_COLCO', 'SDOT_COLDE', 'INATTENTIO',\n",
       "       'UNDERINFL', 'WEATHER', 'ROADCOND', 'LIGHTCOND', 'PEDROWNOTG',\n",
       "       'SDOTCOLNUM', 'SPEEDING', 'ST_COLCODE', 'ST_COLDESC', 'SEGLANEKEY',\n",
       "       'CROSSWALKK', 'HITPARKEDC', 'geometry', 'near_str_index', 'min_length',\n",
       "       'weather_group', 'date', 'time', 'hour', 'dayofweek', 'weekday',\n",
       "       'rushhour', 'weather_group2'],\n",
       "      dtype='object')"
      ]
     },
     "execution_count": 169,
     "metadata": {},
     "output_type": "execute_result"
    }
   ],
   "source": [
    "bikecl.columns"
   ]
  },
  {
   "cell_type": "code",
   "execution_count": 183,
   "metadata": {},
   "outputs": [
    {
     "data": {
      "text/plain": [
       "0.43805852461888906"
      ]
     },
     "execution_count": 183,
     "metadata": {},
     "output_type": "execute_result"
    }
   ],
   "source": [
    "len(bikecl.loc[bikecl['FATALITIES'] > 0,:])/5707*100"
   ]
  },
  {
   "cell_type": "code",
   "execution_count": 184,
   "metadata": {},
   "outputs": [
    {
     "data": {
      "text/plain": [
       "7.639740669353426"
      ]
     },
     "execution_count": 184,
     "metadata": {},
     "output_type": "execute_result"
    }
   ],
   "source": [
    "# serious or fatalites\n",
    "(len(bikecl.loc[bikecl['SERIOUSINJ'] > 0,:]) + len(bikecl.loc[bikecl['FATALITIES'] > 0,:]) )/5707*100"
   ]
  },
  {
   "cell_type": "code",
   "execution_count": 181,
   "metadata": {},
   "outputs": [
    {
     "data": {
      "text/plain": [
       "88.11985281233574"
      ]
     },
     "execution_count": 181,
     "metadata": {},
     "output_type": "execute_result"
    }
   ],
   "source": [
    "bikecl['INJURIES'].describe()\n",
    "len(bikecl.loc[bikecl['INJURIES'] > 0,:])/5707 *100"
   ]
  },
  {
   "cell_type": "code",
   "execution_count": 155,
   "metadata": {},
   "outputs": [],
   "source": [
    "strt2['index'] = strt2.index"
   ]
  },
  {
   "cell_type": "code",
   "execution_count": 165,
   "metadata": {},
   "outputs": [
    {
     "data": {
      "text/plain": [
       "TRANDESCRI\n",
       "LOCAL TRANSIT ROUTE              184\n",
       "MAJOR TRANSIT ROUTE             1724\n",
       "MINOR RESTRICTED TRANSIT RT       13\n",
       "MINOR TRANSIT ROUTE             3078\n",
       "NOT DESIGNATED                 18074\n",
       "PRINCIPAL TRANSIT ROUTE          222\n",
       "TEMPORARY TRANSIT ROUTE           32\n",
       "dtype: int64"
      ]
     },
     "execution_count": 165,
     "metadata": {},
     "output_type": "execute_result"
    }
   ],
   "source": [
    "# drop 'TRANDESCRI' due to high number of unknown\n",
    "strt2.groupby('TRANDESCRI').size()"
   ]
  },
  {
   "cell_type": "code",
   "execution_count": 231,
   "metadata": {},
   "outputs": [
    {
     "data": {
      "text/plain": [
       "PVMTCATEGO  ARTCLASS\n",
       "ART         0.0            16\n",
       "            1.0          2178\n",
       "            2.0          2446\n",
       "            3.0          1870\n",
       "MLTUSETRL   0.0           147\n",
       "NON-ART     0.0         16734\n",
       "            1.0             3\n",
       "            2.0             3\n",
       "            3.0            12\n",
       "NONE        0.0             1\n",
       "            2.0             1\n",
       "PATHWAY     0.0            22\n",
       "PVMTTOPARK  0.0             2\n",
       "dtype: int64"
      ]
     },
     "execution_count": 231,
     "metadata": {},
     "output_type": "execute_result"
    }
   ],
   "source": [
    "strt2.groupby('TRANCLASS').size()\n",
    "strt2.groupby('ARTCLASS').size()\n",
    "strt2.groupby('PARKBOULEV').size()\n",
    "strt2.groupby('PVMTCATEGO').size()\n",
    "strt2.groupby(['PVMTCATEGO', 'ARTCLASS']).size()\n"
   ]
  },
  {
   "cell_type": "code",
   "execution_count": 193,
   "metadata": {},
   "outputs": [
    {
     "data": {
      "text/html": [
       "<div>\n",
       "<style scoped>\n",
       "    .dataframe tbody tr th:only-of-type {\n",
       "        vertical-align: middle;\n",
       "    }\n",
       "\n",
       "    .dataframe tbody tr th {\n",
       "        vertical-align: top;\n",
       "    }\n",
       "\n",
       "    .dataframe thead th {\n",
       "        text-align: right;\n",
       "    }\n",
       "</style>\n",
       "<table border=\"1\" class=\"dataframe\">\n",
       "  <thead>\n",
       "    <tr style=\"text-align: right;\">\n",
       "      <th></th>\n",
       "      <th>OBJECTID</th>\n",
       "      <th>ARTCLASS</th>\n",
       "      <th>COMPKEY</th>\n",
       "      <th>UNITIDSORT</th>\n",
       "      <th>UNITDESC</th>\n",
       "      <th>STNAME_ORD</th>\n",
       "      <th>XSTRLO</th>\n",
       "      <th>XSTRHI</th>\n",
       "      <th>ARTDESCRIP</th>\n",
       "      <th>OWNER</th>\n",
       "      <th>...</th>\n",
       "      <th>PVMTCONDIN</th>\n",
       "      <th>PVMTCOND_1</th>\n",
       "      <th>TRANCLASS</th>\n",
       "      <th>TRANDESCRI</th>\n",
       "      <th>SLOPE_PCT</th>\n",
       "      <th>PVMTCATEGO</th>\n",
       "      <th>PARKBOULEV</th>\n",
       "      <th>SHAPE_Leng</th>\n",
       "      <th>geometry</th>\n",
       "      <th>index</th>\n",
       "    </tr>\n",
       "  </thead>\n",
       "  <tbody>\n",
       "    <tr>\n",
       "      <td>115</td>\n",
       "      <td>116</td>\n",
       "      <td>3.0</td>\n",
       "      <td>2520</td>\n",
       "      <td>8170520</td>\n",
       "      <td>17TH NB AVE NE BETWEEN NE 52ND ST AND NE 55TH ST</td>\n",
       "      <td>17TH AVE NE</td>\n",
       "      <td>NE 52ND ST</td>\n",
       "      <td>NE 55TH ST</td>\n",
       "      <td>Collector Arterial</td>\n",
       "      <td>NaN</td>\n",
       "      <td>...</td>\n",
       "      <td>17.0</td>\n",
       "      <td>0.0</td>\n",
       "      <td>0</td>\n",
       "      <td>NOT DESIGNATED</td>\n",
       "      <td>0.0</td>\n",
       "      <td>ART</td>\n",
       "      <td>Y</td>\n",
       "      <td>777.738460</td>\n",
       "      <td>LINESTRING (1276721.81970416 246574.013616547,...</td>\n",
       "      <td>115</td>\n",
       "    </tr>\n",
       "    <tr>\n",
       "      <td>116</td>\n",
       "      <td>117</td>\n",
       "      <td>3.0</td>\n",
       "      <td>2528</td>\n",
       "      <td>8270550</td>\n",
       "      <td>17TH SB AVE NE BETWEEN NE 55TH ST AND NE 56TH ST</td>\n",
       "      <td>17TH AVE NE</td>\n",
       "      <td>NE 55TH ST</td>\n",
       "      <td>NE 56TH ST</td>\n",
       "      <td>Collector Arterial</td>\n",
       "      <td>NaN</td>\n",
       "      <td>...</td>\n",
       "      <td>56.0</td>\n",
       "      <td>0.0</td>\n",
       "      <td>0</td>\n",
       "      <td>NOT DESIGNATED</td>\n",
       "      <td>4.0</td>\n",
       "      <td>ART</td>\n",
       "      <td>Y</td>\n",
       "      <td>332.722528</td>\n",
       "      <td>LINESTRING (1276699.282488137 247351.983281344...</td>\n",
       "      <td>116</td>\n",
       "    </tr>\n",
       "    <tr>\n",
       "      <td>664</td>\n",
       "      <td>665</td>\n",
       "      <td>0.0</td>\n",
       "      <td>9646</td>\n",
       "      <td>58900310</td>\n",
       "      <td>CHEASTY BLVD S BETWEEN S WINTHROP ST AND S HIN...</td>\n",
       "      <td>CHEASTY BLVD S</td>\n",
       "      <td>S WINTHROP ST</td>\n",
       "      <td>S HINDS ST</td>\n",
       "      <td>Not Designated</td>\n",
       "      <td>NaN</td>\n",
       "      <td>...</td>\n",
       "      <td>4.0</td>\n",
       "      <td>0.0</td>\n",
       "      <td>0</td>\n",
       "      <td>NOT DESIGNATED</td>\n",
       "      <td>5.0</td>\n",
       "      <td>NON-ART</td>\n",
       "      <td>Y</td>\n",
       "      <td>1162.460232</td>\n",
       "      <td>LINESTRING (1278595.129914075 213491.375758662...</td>\n",
       "      <td>664</td>\n",
       "    </tr>\n",
       "    <tr>\n",
       "      <td>789</td>\n",
       "      <td>790</td>\n",
       "      <td>3.0</td>\n",
       "      <td>11194</td>\n",
       "      <td>80500040</td>\n",
       "      <td>LAKE WASHINGTON BLVD BETWEEN E TERRACE ST AND ...</td>\n",
       "      <td>LAKE WASHINGTON BLVD</td>\n",
       "      <td>E TERRACE ST</td>\n",
       "      <td>E JEFFERSON ST</td>\n",
       "      <td>Collector Arterial</td>\n",
       "      <td>NaN</td>\n",
       "      <td>...</td>\n",
       "      <td>34.0</td>\n",
       "      <td>0.0</td>\n",
       "      <td>0</td>\n",
       "      <td>NOT DESIGNATED</td>\n",
       "      <td>0.0</td>\n",
       "      <td>ART</td>\n",
       "      <td>Y</td>\n",
       "      <td>475.612699</td>\n",
       "      <td>LINESTRING (1282680.864574268 223926.221977353...</td>\n",
       "      <td>789</td>\n",
       "    </tr>\n",
       "    <tr>\n",
       "      <td>790</td>\n",
       "      <td>791</td>\n",
       "      <td>3.0</td>\n",
       "      <td>11210</td>\n",
       "      <td>80550110</td>\n",
       "      <td>LAKE WASHINGTON BLVD E BETWEEN ARBORETUM DR E ...</td>\n",
       "      <td>LAKE WASHINGTON BLVD E</td>\n",
       "      <td>ARBORETUM DR E</td>\n",
       "      <td>E INTERLAKEN BLVD</td>\n",
       "      <td>Collector Arterial</td>\n",
       "      <td>NaN</td>\n",
       "      <td>...</td>\n",
       "      <td>31.0</td>\n",
       "      <td>0.0</td>\n",
       "      <td>0</td>\n",
       "      <td>NOT DESIGNATED</td>\n",
       "      <td>3.0</td>\n",
       "      <td>ART</td>\n",
       "      <td>Y</td>\n",
       "      <td>1292.893703</td>\n",
       "      <td>LINESTRING (1280243.82079576 232549.3648341894...</td>\n",
       "      <td>790</td>\n",
       "    </tr>\n",
       "    <tr>\n",
       "      <td>...</td>\n",
       "      <td>...</td>\n",
       "      <td>...</td>\n",
       "      <td>...</td>\n",
       "      <td>...</td>\n",
       "      <td>...</td>\n",
       "      <td>...</td>\n",
       "      <td>...</td>\n",
       "      <td>...</td>\n",
       "      <td>...</td>\n",
       "      <td>...</td>\n",
       "      <td>...</td>\n",
       "      <td>...</td>\n",
       "      <td>...</td>\n",
       "      <td>...</td>\n",
       "      <td>...</td>\n",
       "      <td>...</td>\n",
       "      <td>...</td>\n",
       "      <td>...</td>\n",
       "      <td>...</td>\n",
       "      <td>...</td>\n",
       "      <td>...</td>\n",
       "    </tr>\n",
       "    <tr>\n",
       "      <td>23128</td>\n",
       "      <td>23433</td>\n",
       "      <td>3.0</td>\n",
       "      <td>2522</td>\n",
       "      <td>8170560</td>\n",
       "      <td>17TH NB AVE NE BETWEEN NE 56TH ST AND NE RAVEN...</td>\n",
       "      <td>17TH AVE NE</td>\n",
       "      <td>NE 56TH ST</td>\n",
       "      <td>NE RAVENNA EB BV</td>\n",
       "      <td>Collector Arterial</td>\n",
       "      <td>NaN</td>\n",
       "      <td>...</td>\n",
       "      <td>56.0</td>\n",
       "      <td>0.0</td>\n",
       "      <td>0</td>\n",
       "      <td>NOT DESIGNATED</td>\n",
       "      <td>8.0</td>\n",
       "      <td>ART</td>\n",
       "      <td>Y</td>\n",
       "      <td>172.016051</td>\n",
       "      <td>LINESTRING (1276747.185464188 247683.181489676...</td>\n",
       "      <td>23128</td>\n",
       "    </tr>\n",
       "    <tr>\n",
       "      <td>23235</td>\n",
       "      <td>23541</td>\n",
       "      <td>3.0</td>\n",
       "      <td>11235</td>\n",
       "      <td>80600390</td>\n",
       "      <td>LAKE WASHINGTON BLVD S BETWEEN 48TH AVE S AND ...</td>\n",
       "      <td>LAKE WASHINGTON BLVD S</td>\n",
       "      <td>48TH AVE S</td>\n",
       "      <td>49TH AVE S</td>\n",
       "      <td>Collector Arterial</td>\n",
       "      <td>NaN</td>\n",
       "      <td>...</td>\n",
       "      <td>74.0</td>\n",
       "      <td>0.0</td>\n",
       "      <td>0</td>\n",
       "      <td>NOT DESIGNATED</td>\n",
       "      <td>1.0</td>\n",
       "      <td>ART</td>\n",
       "      <td>Y</td>\n",
       "      <td>477.179937</td>\n",
       "      <td>LINESTRING (1284978.20339261 210764.5391478837...</td>\n",
       "      <td>23235</td>\n",
       "    </tr>\n",
       "    <tr>\n",
       "      <td>23237</td>\n",
       "      <td>23543</td>\n",
       "      <td>0.0</td>\n",
       "      <td>12284</td>\n",
       "      <td>92850500</td>\n",
       "      <td>PUGET BLVD SW BETWEEN SW HUDSON ST AND DEAD END 1</td>\n",
       "      <td>PUGET BLVD SW</td>\n",
       "      <td>SW HUDSON ST</td>\n",
       "      <td>DEAD END 1</td>\n",
       "      <td>Not Designated</td>\n",
       "      <td>NaN</td>\n",
       "      <td>...</td>\n",
       "      <td>61.0</td>\n",
       "      <td>0.0</td>\n",
       "      <td>0</td>\n",
       "      <td>NOT DESIGNATED</td>\n",
       "      <td>3.0</td>\n",
       "      <td>NON-ART</td>\n",
       "      <td>Y</td>\n",
       "      <td>542.158095</td>\n",
       "      <td>LINESTRING (1263095.159082204 207090.939272120...</td>\n",
       "      <td>23237</td>\n",
       "    </tr>\n",
       "    <tr>\n",
       "      <td>23285</td>\n",
       "      <td>23593</td>\n",
       "      <td>0.0</td>\n",
       "      <td>9651</td>\n",
       "      <td>58900445</td>\n",
       "      <td>CHEASTY BLVD S BETWEEN 24TH PL S AND BEACON ER...</td>\n",
       "      <td>CHEASTY BLVD S</td>\n",
       "      <td>24TH PL S</td>\n",
       "      <td>BEACON ER AVE S</td>\n",
       "      <td>Not Designated</td>\n",
       "      <td>NaN</td>\n",
       "      <td>...</td>\n",
       "      <td>64.0</td>\n",
       "      <td>0.0</td>\n",
       "      <td>0</td>\n",
       "      <td>NOT DESIGNATED</td>\n",
       "      <td>1.0</td>\n",
       "      <td>NON-ART</td>\n",
       "      <td>Y</td>\n",
       "      <td>1733.858991</td>\n",
       "      <td>LINESTRING (1277924.254777387 209194.307466268...</td>\n",
       "      <td>23285</td>\n",
       "    </tr>\n",
       "    <tr>\n",
       "      <td>23466</td>\n",
       "      <td>23775</td>\n",
       "      <td>1.0</td>\n",
       "      <td>8724</td>\n",
       "      <td>50450140</td>\n",
       "      <td>ALASKAN WAY BETWEEN UNION ST AND PIKE HILL CLIMB</td>\n",
       "      <td>ALASKAN WAY</td>\n",
       "      <td>UNION ST</td>\n",
       "      <td>PIKE HILL CLIMB</td>\n",
       "      <td>Principal Arterial</td>\n",
       "      <td>NaN</td>\n",
       "      <td>...</td>\n",
       "      <td>78.0</td>\n",
       "      <td>0.0</td>\n",
       "      <td>3</td>\n",
       "      <td>MINOR TRANSIT ROUTE</td>\n",
       "      <td>0.0</td>\n",
       "      <td>ART</td>\n",
       "      <td>Y</td>\n",
       "      <td>422.331423</td>\n",
       "      <td>LINESTRING (1268442.236207679 225024.212122485...</td>\n",
       "      <td>23466</td>\n",
       "    </tr>\n",
       "  </tbody>\n",
       "</table>\n",
       "<p>163 rows × 38 columns</p>\n",
       "</div>"
      ],
      "text/plain": [
       "       OBJECTID  ARTCLASS  COMPKEY  UNITIDSORT  \\\n",
       "115         116       3.0     2520     8170520   \n",
       "116         117       3.0     2528     8270550   \n",
       "664         665       0.0     9646    58900310   \n",
       "789         790       3.0    11194    80500040   \n",
       "790         791       3.0    11210    80550110   \n",
       "...         ...       ...      ...         ...   \n",
       "23128     23433       3.0     2522     8170560   \n",
       "23235     23541       3.0    11235    80600390   \n",
       "23237     23543       0.0    12284    92850500   \n",
       "23285     23593       0.0     9651    58900445   \n",
       "23466     23775       1.0     8724    50450140   \n",
       "\n",
       "                                                UNITDESC  \\\n",
       "115     17TH NB AVE NE BETWEEN NE 52ND ST AND NE 55TH ST   \n",
       "116     17TH SB AVE NE BETWEEN NE 55TH ST AND NE 56TH ST   \n",
       "664    CHEASTY BLVD S BETWEEN S WINTHROP ST AND S HIN...   \n",
       "789    LAKE WASHINGTON BLVD BETWEEN E TERRACE ST AND ...   \n",
       "790    LAKE WASHINGTON BLVD E BETWEEN ARBORETUM DR E ...   \n",
       "...                                                  ...   \n",
       "23128  17TH NB AVE NE BETWEEN NE 56TH ST AND NE RAVEN...   \n",
       "23235  LAKE WASHINGTON BLVD S BETWEEN 48TH AVE S AND ...   \n",
       "23237  PUGET BLVD SW BETWEEN SW HUDSON ST AND DEAD END 1   \n",
       "23285  CHEASTY BLVD S BETWEEN 24TH PL S AND BEACON ER...   \n",
       "23466   ALASKAN WAY BETWEEN UNION ST AND PIKE HILL CLIMB   \n",
       "\n",
       "                   STNAME_ORD          XSTRLO             XSTRHI  \\\n",
       "115               17TH AVE NE      NE 52ND ST         NE 55TH ST   \n",
       "116               17TH AVE NE      NE 55TH ST         NE 56TH ST   \n",
       "664            CHEASTY BLVD S   S WINTHROP ST         S HINDS ST   \n",
       "789      LAKE WASHINGTON BLVD    E TERRACE ST     E JEFFERSON ST   \n",
       "790    LAKE WASHINGTON BLVD E  ARBORETUM DR E  E INTERLAKEN BLVD   \n",
       "...                       ...             ...                ...   \n",
       "23128             17TH AVE NE      NE 56TH ST   NE RAVENNA EB BV   \n",
       "23235  LAKE WASHINGTON BLVD S      48TH AVE S         49TH AVE S   \n",
       "23237           PUGET BLVD SW    SW HUDSON ST         DEAD END 1   \n",
       "23285          CHEASTY BLVD S       24TH PL S    BEACON ER AVE S   \n",
       "23466             ALASKAN WAY        UNION ST    PIKE HILL CLIMB   \n",
       "\n",
       "               ARTDESCRIP OWNER  ... PVMTCONDIN  PVMTCOND_1  TRANCLASS  \\\n",
       "115    Collector Arterial   NaN  ...       17.0         0.0          0   \n",
       "116    Collector Arterial   NaN  ...       56.0         0.0          0   \n",
       "664        Not Designated   NaN  ...        4.0         0.0          0   \n",
       "789    Collector Arterial   NaN  ...       34.0         0.0          0   \n",
       "790    Collector Arterial   NaN  ...       31.0         0.0          0   \n",
       "...                   ...   ...  ...        ...         ...        ...   \n",
       "23128  Collector Arterial   NaN  ...       56.0         0.0          0   \n",
       "23235  Collector Arterial   NaN  ...       74.0         0.0          0   \n",
       "23237      Not Designated   NaN  ...       61.0         0.0          0   \n",
       "23285      Not Designated   NaN  ...       64.0         0.0          0   \n",
       "23466  Principal Arterial   NaN  ...       78.0         0.0          3   \n",
       "\n",
       "                TRANDESCRI SLOPE_PCT PVMTCATEGO PARKBOULEV   SHAPE_Leng  \\\n",
       "115         NOT DESIGNATED       0.0        ART          Y   777.738460   \n",
       "116         NOT DESIGNATED       4.0        ART          Y   332.722528   \n",
       "664         NOT DESIGNATED       5.0    NON-ART          Y  1162.460232   \n",
       "789         NOT DESIGNATED       0.0        ART          Y   475.612699   \n",
       "790         NOT DESIGNATED       3.0        ART          Y  1292.893703   \n",
       "...                    ...       ...        ...        ...          ...   \n",
       "23128       NOT DESIGNATED       8.0        ART          Y   172.016051   \n",
       "23235       NOT DESIGNATED       1.0        ART          Y   477.179937   \n",
       "23237       NOT DESIGNATED       3.0    NON-ART          Y   542.158095   \n",
       "23285       NOT DESIGNATED       1.0    NON-ART          Y  1733.858991   \n",
       "23466  MINOR TRANSIT ROUTE       0.0        ART          Y   422.331423   \n",
       "\n",
       "                                                geometry  index  \n",
       "115    LINESTRING (1276721.81970416 246574.013616547,...    115  \n",
       "116    LINESTRING (1276699.282488137 247351.983281344...    116  \n",
       "664    LINESTRING (1278595.129914075 213491.375758662...    664  \n",
       "789    LINESTRING (1282680.864574268 223926.221977353...    789  \n",
       "790    LINESTRING (1280243.82079576 232549.3648341894...    790  \n",
       "...                                                  ...    ...  \n",
       "23128  LINESTRING (1276747.185464188 247683.181489676...  23128  \n",
       "23235  LINESTRING (1284978.20339261 210764.5391478837...  23235  \n",
       "23237  LINESTRING (1263095.159082204 207090.939272120...  23237  \n",
       "23285  LINESTRING (1277924.254777387 209194.307466268...  23285  \n",
       "23466  LINESTRING (1268442.236207679 225024.212122485...  23466  \n",
       "\n",
       "[163 rows x 38 columns]"
      ]
     },
     "execution_count": 193,
     "metadata": {},
     "output_type": "execute_result"
    }
   ],
   "source": [
    "strt2.loc[strt2['PARKBOULEV'] == 'Y',:]"
   ]
  },
  {
   "cell_type": "code",
   "execution_count": null,
   "metadata": {},
   "outputs": [],
   "source": []
  },
  {
   "cell_type": "code",
   "execution_count": 166,
   "metadata": {},
   "outputs": [
    {
     "data": {
      "text/plain": [
       "OBJECTID          0\n",
       "ARTCLASS          0\n",
       "COMPKEY           0\n",
       "UNITIDSORT        0\n",
       "UNITDESC          0\n",
       "STNAME_ORD        0\n",
       "XSTRLO            0\n",
       "XSTRHI            0\n",
       "ARTDESCRIP        0\n",
       "OWNER         23044\n",
       "STATUS           44\n",
       "BLOCKNBR          0\n",
       "SPEEDLIMIT        0\n",
       "SEGDIR            1\n",
       "ONEWAY            4\n",
       "ONEWAYDIR     22196\n",
       "FLOW          22198\n",
       "SEGLENGTH         0\n",
       "SURFACEWID        2\n",
       "SURFACETYP      893\n",
       "SURFACET_1    22824\n",
       "INTRLO            2\n",
       "DIRLO             1\n",
       "INTKEYLO          2\n",
       "INTRHI            3\n",
       "DIRHI             1\n",
       "NATIONHWYS        0\n",
       "STREETTYPE      475\n",
       "PVMTCONDIN        0\n",
       "PVMTCOND_1        0\n",
       "TRANCLASS         0\n",
       "TRANDESCRI      168\n",
       "SLOPE_PCT         7\n",
       "PVMTCATEGO       60\n",
       "PARKBOULEV        0\n",
       "SHAPE_Leng        0\n",
       "geometry          0\n",
       "index             0\n",
       "dtype: int64"
      ]
     },
     "execution_count": 166,
     "metadata": {},
     "output_type": "execute_result"
    }
   ],
   "source": [
    "strt2.isnull().sum()"
   ]
  },
  {
   "cell_type": "code",
   "execution_count": 156,
   "metadata": {},
   "outputs": [],
   "source": [
    "## increase street size to 2x to include rushhour \n",
    "n = 2 * len(strt2)"
   ]
  },
  {
   "cell_type": "code",
   "execution_count": 157,
   "metadata": {},
   "outputs": [],
   "source": [
    "temp = (np.zeros(int(n*0.5))).tolist() + (np.ones(n- int(n*0.5))).tolist()"
   ]
  },
  {
   "cell_type": "code",
   "execution_count": 158,
   "metadata": {},
   "outputs": [],
   "source": [
    "simulate_street = pd.concat([strt2]*2, ignore_index=True)  "
   ]
  },
  {
   "cell_type": "code",
   "execution_count": 159,
   "metadata": {},
   "outputs": [],
   "source": [
    "simulate_street['simulate_rushhour'] = temp"
   ]
  },
  {
   "cell_type": "code",
   "execution_count": 160,
   "metadata": {},
   "outputs": [
    {
     "data": {
      "text/plain": [
       "5707"
      ]
     },
     "execution_count": 160,
     "metadata": {},
     "output_type": "execute_result"
    }
   ],
   "source": [
    "len(bikecl)"
   ]
  },
  {
   "cell_type": "code",
   "execution_count": 194,
   "metadata": {},
   "outputs": [],
   "source": [
    "temp = bikecl.groupby(['near_str_index']).size().reset_index()"
   ]
  },
  {
   "cell_type": "code",
   "execution_count": 195,
   "metadata": {},
   "outputs": [
    {
     "data": {
      "text/plain": [
       "Index(['near_str_index', 0], dtype='object')"
      ]
     },
     "execution_count": 195,
     "metadata": {},
     "output_type": "execute_result"
    }
   ],
   "source": [
    "temp.columns"
   ]
  },
  {
   "cell_type": "code",
   "execution_count": 196,
   "metadata": {},
   "outputs": [
    {
     "data": {
      "text/plain": [
       "32"
      ]
     },
     "execution_count": 196,
     "metadata": {},
     "output_type": "execute_result"
    }
   ],
   "source": [
    "max(temp.iloc[:,1])"
   ]
  },
  {
   "cell_type": "code",
   "execution_count": 197,
   "metadata": {},
   "outputs": [
    {
     "data": {
      "text/plain": [
       "<matplotlib.axes._subplots.AxesSubplot at 0x11c0db5c0>"
      ]
     },
     "execution_count": 197,
     "metadata": {},
     "output_type": "execute_result"
    },
    {
     "data": {
      "image/png": "[encoded data removed]",
      "text/plain": [
       "<Figure size 432x288 with 1 Axes>"
      ]
     },
     "metadata": {
      "needs_background": "light"
     },
     "output_type": "display_data"
    }
   ],
   "source": [
    "temp.iloc[:,1].hist()"
   ]
  },
  {
   "cell_type": "code",
   "execution_count": 198,
   "metadata": {},
   "outputs": [
    {
     "data": {
      "text/plain": [
       "2806"
      ]
     },
     "execution_count": 198,
     "metadata": {},
     "output_type": "execute_result"
    }
   ],
   "source": [
    "len(temp)"
   ]
  },
  {
   "cell_type": "code",
   "execution_count": 199,
   "metadata": {},
   "outputs": [],
   "source": [
    "full = pd.merge(simulate_street, bikecl, left_on= ['index','simulate_rushhour'],\n",
    "                right_on = ['near_str_index','rushhour'], how ='left', indicator = True)"
   ]
  },
  {
   "cell_type": "code",
   "execution_count": 200,
   "metadata": {},
   "outputs": [],
   "source": [
    "full['acc'] = [ 1 if i == 'both' else 0 for i in full['_merge']]"
   ]
  },
  {
   "cell_type": "code",
   "execution_count": 201,
   "metadata": {},
   "outputs": [],
   "source": [
    "numeric_features = ['SPEEDLIMIT','SEGLENGTH','SURFACEWID', 'PVMTCONDIN', 'PVMTCOND_1','SLOPE_PCT' ]\n",
    "#categorical_features = ['ARTCLASS', 'SEGDIR', 'ONEWAY', 'SURFACETYP','NATIONHWYS' ,'PVMTCATEGO', 'PARKBOULEV' ,'TRANDESCRI', 'rushhour']\n",
    "categorical_features = ['SEGDIR', 'ONEWAY', 'SURFACETYP','NATIONHWYS' ,'PVMTCATEGO', 'PARKBOULEV' , 'rushhour']\n",
    "X = full[numeric_features + categorical_features ].copy()\n",
    "y = full['acc']"
   ]
  },
  {
   "cell_type": "code",
   "execution_count": 202,
   "metadata": {},
   "outputs": [
    {
     "data": {
      "text/plain": [
       "48820"
      ]
     },
     "execution_count": 202,
     "metadata": {},
     "output_type": "execute_result"
    }
   ],
   "source": [
    "len(X)"
   ]
  },
  {
   "cell_type": "code",
   "execution_count": 203,
   "metadata": {},
   "outputs": [
    {
     "data": {
      "text/plain": [
       "acc\n",
       "0    43781\n",
       "1     5039\n",
       "dtype: int64"
      ]
     },
     "execution_count": 203,
     "metadata": {},
     "output_type": "execute_result"
    }
   ],
   "source": [
    "full.groupby(['acc']).size()"
   ]
  },
  {
   "cell_type": "code",
   "execution_count": 204,
   "metadata": {},
   "outputs": [
    {
     "data": {
      "text/plain": [
       "23495"
      ]
     },
     "execution_count": 204,
     "metadata": {},
     "output_type": "execute_result"
    }
   ],
   "source": [
    "len(strt2)"
   ]
  },
  {
   "cell_type": "code",
   "execution_count": 205,
   "metadata": {},
   "outputs": [],
   "source": [
    "from sklearn.model_selection import train_test_split\n",
    "\n",
    "X_train, X_test, y_train, y_test = train_test_split(X, y, stratify = y,test_size=0.1)"
   ]
  },
  {
   "cell_type": "code",
   "execution_count": null,
   "metadata": {},
   "outputs": [],
   "source": []
  },
  {
   "cell_type": "code",
   "execution_count": 206,
   "metadata": {},
   "outputs": [],
   "source": [
    "# initial parameters\n",
    "RANDOM_STATE = 42\n",
    "#RATIO = 0.1\n",
    "#K_FOLD = 5\n",
    "from sklearn.model_selection import StratifiedKFold\n",
    "K_FOLD = StratifiedKFold(n_splits=5, random_state=42, shuffle=True)"
   ]
  },
  {
   "cell_type": "code",
   "execution_count": 207,
   "metadata": {},
   "outputs": [],
   "source": [
    "from sklearn.pipeline import Pipeline\n",
    "from sklearn.impute import SimpleImputer\n",
    "from sklearn.preprocessing import StandardScaler, OneHotEncoder\n",
    "from imblearn.under_sampling import RandomUnderSampler\n",
    "from imblearn.pipeline import make_pipeline\n",
    "\n",
    "\n",
    "## pre-processing \n",
    "\n",
    "numeric_transformer = Pipeline(steps=[\n",
    "    ('imputer', SimpleImputer(strategy='median')),\n",
    "    ('scaler', StandardScaler())])\n",
    "categorical_transformer = Pipeline(steps=[\n",
    "    ('imputer', SimpleImputer(strategy='most_frequent')),\n",
    "    ('onehot', OneHotEncoder(handle_unknown='ignore'))])"
   ]
  },
  {
   "cell_type": "code",
   "execution_count": 208,
   "metadata": {},
   "outputs": [],
   "source": [
    "from sklearn.compose import ColumnTransformer\n",
    "preprocessor = ColumnTransformer(\n",
    "    transformers=[\n",
    "        ('num', numeric_transformer, numeric_features),\n",
    "        ('cat', categorical_transformer, categorical_features)])"
   ]
  },
  {
   "cell_type": "code",
   "execution_count": 209,
   "metadata": {},
   "outputs": [],
   "source": [
    "# imbalanced learn \n",
    "rus = RandomUnderSampler(random_state=RANDOM_STATE) #ratio = RATIO"
   ]
  },
  {
   "cell_type": "code",
   "execution_count": 210,
   "metadata": {},
   "outputs": [],
   "source": [
    "from sklearn.linear_model import LogisticRegression\n",
    "log = LogisticRegression(solver='liblinear')"
   ]
  },
  {
   "cell_type": "code",
   "execution_count": 211,
   "metadata": {},
   "outputs": [],
   "source": [
    "## Logsitic Regression\n",
    "from imblearn.pipeline import make_pipeline\n",
    "\n",
    "logReg = make_pipeline(preprocessor,rus, log)\n",
    "#logReg = Pipeline(steps=[('preprocessor', preprocessor),('undersampler', rus),('classifier', log)])"
   ]
  },
  {
   "cell_type": "code",
   "execution_count": 212,
   "metadata": {},
   "outputs": [],
   "source": [
    "## cross validate \n",
    "from sklearn.model_selection import cross_validate\n",
    "\n",
    "scores = cross_validate(logReg, X_train, y_train, scoring=['roc_auc','recall','accuracy'], cv = K_FOLD, return_train_score= True, return_estimator=True)"
   ]
  },
  {
   "cell_type": "code",
   "execution_count": 213,
   "metadata": {},
   "outputs": [
    {
     "data": {
      "text/plain": [
       "{'fit_time': array([1.1781671 , 2.74769425, 2.12363791, 1.28052497, 1.24213099]),\n",
       " 'score_time': array([0.15742373, 0.54770374, 0.12969708, 0.13983107, 0.15725183]),\n",
       " 'estimator': (Pipeline(memory=None,\n",
       "           steps=[('columntransformer',\n",
       "                   ColumnTransformer(n_jobs=None, remainder='drop',\n",
       "                                     sparse_threshold=0.3,\n",
       "                                     transformer_weights=None,\n",
       "                                     transformers=[('num',\n",
       "                                                    Pipeline(memory=None,\n",
       "                                                             steps=[('imputer',\n",
       "                                                                     SimpleImputer(add_indicator=False,\n",
       "                                                                                   copy=True,\n",
       "                                                                                   fill_value=None,\n",
       "                                                                                   missing_values=nan,\n",
       "                                                                                   strategy='median',\n",
       "                                                                                   verbose=0)),\n",
       "                                                                    ('scaler',\n",
       "                                                                     StandardScaler(copy=True,\n",
       "                                                                                    with...\n",
       "                   RandomUnderSampler(random_state=42, ratio=None,\n",
       "                                      replacement=False, return_indices=False,\n",
       "                                      sampling_strategy='auto')),\n",
       "                  ('logisticregression',\n",
       "                   LogisticRegression(C=1.0, class_weight=None, dual=False,\n",
       "                                      fit_intercept=True, intercept_scaling=1,\n",
       "                                      l1_ratio=None, max_iter=100,\n",
       "                                      multi_class='warn', n_jobs=None,\n",
       "                                      penalty='l2', random_state=None,\n",
       "                                      solver='liblinear', tol=0.0001, verbose=0,\n",
       "                                      warm_start=False))],\n",
       "           verbose=False), Pipeline(memory=None,\n",
       "           steps=[('columntransformer',\n",
       "                   ColumnTransformer(n_jobs=None, remainder='drop',\n",
       "                                     sparse_threshold=0.3,\n",
       "                                     transformer_weights=None,\n",
       "                                     transformers=[('num',\n",
       "                                                    Pipeline(memory=None,\n",
       "                                                             steps=[('imputer',\n",
       "                                                                     SimpleImputer(add_indicator=False,\n",
       "                                                                                   copy=True,\n",
       "                                                                                   fill_value=None,\n",
       "                                                                                   missing_values=nan,\n",
       "                                                                                   strategy='median',\n",
       "                                                                                   verbose=0)),\n",
       "                                                                    ('scaler',\n",
       "                                                                     StandardScaler(copy=True,\n",
       "                                                                                    with...\n",
       "                   RandomUnderSampler(random_state=42, ratio=None,\n",
       "                                      replacement=False, return_indices=False,\n",
       "                                      sampling_strategy='auto')),\n",
       "                  ('logisticregression',\n",
       "                   LogisticRegression(C=1.0, class_weight=None, dual=False,\n",
       "                                      fit_intercept=True, intercept_scaling=1,\n",
       "                                      l1_ratio=None, max_iter=100,\n",
       "                                      multi_class='warn', n_jobs=None,\n",
       "                                      penalty='l2', random_state=None,\n",
       "                                      solver='liblinear', tol=0.0001, verbose=0,\n",
       "                                      warm_start=False))],\n",
       "           verbose=False), Pipeline(memory=None,\n",
       "           steps=[('columntransformer',\n",
       "                   ColumnTransformer(n_jobs=None, remainder='drop',\n",
       "                                     sparse_threshold=0.3,\n",
       "                                     transformer_weights=None,\n",
       "                                     transformers=[('num',\n",
       "                                                    Pipeline(memory=None,\n",
       "                                                             steps=[('imputer',\n",
       "                                                                     SimpleImputer(add_indicator=False,\n",
       "                                                                                   copy=True,\n",
       "                                                                                   fill_value=None,\n",
       "                                                                                   missing_values=nan,\n",
       "                                                                                   strategy='median',\n",
       "                                                                                   verbose=0)),\n",
       "                                                                    ('scaler',\n",
       "                                                                     StandardScaler(copy=True,\n",
       "                                                                                    with...\n",
       "                   RandomUnderSampler(random_state=42, ratio=None,\n",
       "                                      replacement=False, return_indices=False,\n",
       "                                      sampling_strategy='auto')),\n",
       "                  ('logisticregression',\n",
       "                   LogisticRegression(C=1.0, class_weight=None, dual=False,\n",
       "                                      fit_intercept=True, intercept_scaling=1,\n",
       "                                      l1_ratio=None, max_iter=100,\n",
       "                                      multi_class='warn', n_jobs=None,\n",
       "                                      penalty='l2', random_state=None,\n",
       "                                      solver='liblinear', tol=0.0001, verbose=0,\n",
       "                                      warm_start=False))],\n",
       "           verbose=False), Pipeline(memory=None,\n",
       "           steps=[('columntransformer',\n",
       "                   ColumnTransformer(n_jobs=None, remainder='drop',\n",
       "                                     sparse_threshold=0.3,\n",
       "                                     transformer_weights=None,\n",
       "                                     transformers=[('num',\n",
       "                                                    Pipeline(memory=None,\n",
       "                                                             steps=[('imputer',\n",
       "                                                                     SimpleImputer(add_indicator=False,\n",
       "                                                                                   copy=True,\n",
       "                                                                                   fill_value=None,\n",
       "                                                                                   missing_values=nan,\n",
       "                                                                                   strategy='median',\n",
       "                                                                                   verbose=0)),\n",
       "                                                                    ('scaler',\n",
       "                                                                     StandardScaler(copy=True,\n",
       "                                                                                    with...\n",
       "                   RandomUnderSampler(random_state=42, ratio=None,\n",
       "                                      replacement=False, return_indices=False,\n",
       "                                      sampling_strategy='auto')),\n",
       "                  ('logisticregression',\n",
       "                   LogisticRegression(C=1.0, class_weight=None, dual=False,\n",
       "                                      fit_intercept=True, intercept_scaling=1,\n",
       "                                      l1_ratio=None, max_iter=100,\n",
       "                                      multi_class='warn', n_jobs=None,\n",
       "                                      penalty='l2', random_state=None,\n",
       "                                      solver='liblinear', tol=0.0001, verbose=0,\n",
       "                                      warm_start=False))],\n",
       "           verbose=False), Pipeline(memory=None,\n",
       "           steps=[('columntransformer',\n",
       "                   ColumnTransformer(n_jobs=None, remainder='drop',\n",
       "                                     sparse_threshold=0.3,\n",
       "                                     transformer_weights=None,\n",
       "                                     transformers=[('num',\n",
       "                                                    Pipeline(memory=None,\n",
       "                                                             steps=[('imputer',\n",
       "                                                                     SimpleImputer(add_indicator=False,\n",
       "                                                                                   copy=True,\n",
       "                                                                                   fill_value=None,\n",
       "                                                                                   missing_values=nan,\n",
       "                                                                                   strategy='median',\n",
       "                                                                                   verbose=0)),\n",
       "                                                                    ('scaler',\n",
       "                                                                     StandardScaler(copy=True,\n",
       "                                                                                    with...\n",
       "                   RandomUnderSampler(random_state=42, ratio=None,\n",
       "                                      replacement=False, return_indices=False,\n",
       "                                      sampling_strategy='auto')),\n",
       "                  ('logisticregression',\n",
       "                   LogisticRegression(C=1.0, class_weight=None, dual=False,\n",
       "                                      fit_intercept=True, intercept_scaling=1,\n",
       "                                      l1_ratio=None, max_iter=100,\n",
       "                                      multi_class='warn', n_jobs=None,\n",
       "                                      penalty='l2', random_state=None,\n",
       "                                      solver='liblinear', tol=0.0001, verbose=0,\n",
       "                                      warm_start=False))],\n",
       "           verbose=False)),\n",
       " 'test_roc_auc': array([0.89256249, 0.89438508, 0.8895961 , 0.88891315, 0.902385  ]),\n",
       " 'train_roc_auc': array([0.8961735 , 0.89526695, 0.89662482, 0.89593438, 0.89412005]),\n",
       " 'test_recall': array([0.77949283, 0.7783903 , 0.77508269, 0.78721058, 0.80815877]),\n",
       " 'train_recall': array([0.78610805, 0.7800441 , 0.79079383, 0.79051819, 0.78914002]),\n",
       " 'test_accuracy': array([0.85093309, 0.85400546, 0.84922622, 0.84943667, 0.84306362]),\n",
       " 'train_accuracy': array([0.85069701, 0.85809388, 0.84984353, 0.84233734, 0.84472703])}"
      ]
     },
     "execution_count": 213,
     "metadata": {},
     "output_type": "execute_result"
    }
   ],
   "source": [
    "scores"
   ]
  },
  {
   "cell_type": "code",
   "execution_count": null,
   "metadata": {},
   "outputs": [],
   "source": []
  },
  {
   "cell_type": "code",
   "execution_count": 132,
   "metadata": {},
   "outputs": [],
   "source": [
    "## Random Oversampler "
   ]
  },
  {
   "cell_type": "code",
   "execution_count": 214,
   "metadata": {},
   "outputs": [],
   "source": [
    "from imblearn.over_sampling import RandomOverSampler\n",
    "ros = RandomOverSampler(random_state=RANDOM_STATE) #ratio = RATIO\n",
    "\n",
    "## Logsitic Regression\n",
    "from imblearn.pipeline import make_pipeline\n",
    "\n",
    "from sklearn.linear_model import LogisticRegression\n",
    "log = LogisticRegression(solver='liblinear')\n",
    "\n",
    "logReg_ros = make_pipeline(preprocessor,ros, log)\n",
    "\n",
    "## cross validate \n",
    "from sklearn.model_selection import cross_validate\n",
    "\n",
    "scores = cross_validate(logReg_ros, X_train, y_train, scoring=['roc_auc','recall','accuracy'], cv = K_FOLD, return_train_score= True, return_estimator=True)"
   ]
  },
  {
   "cell_type": "code",
   "execution_count": 215,
   "metadata": {},
   "outputs": [
    {
     "data": {
      "text/plain": [
       "{'fit_time': array([1.80149794, 1.81009817, 1.71412086, 1.72011518, 1.73541188]),\n",
       " 'score_time': array([0.12009215, 0.11764002, 0.12165904, 0.11304379, 0.12217402]),\n",
       " 'estimator': (Pipeline(memory=None,\n",
       "           steps=[('columntransformer',\n",
       "                   ColumnTransformer(n_jobs=None, remainder='drop',\n",
       "                                     sparse_threshold=0.3,\n",
       "                                     transformer_weights=None,\n",
       "                                     transformers=[('num',\n",
       "                                                    Pipeline(memory=None,\n",
       "                                                             steps=[('imputer',\n",
       "                                                                     SimpleImputer(add_indicator=False,\n",
       "                                                                                   copy=True,\n",
       "                                                                                   fill_value=None,\n",
       "                                                                                   missing_values=nan,\n",
       "                                                                                   strategy='median',\n",
       "                                                                                   verbose=0)),\n",
       "                                                                    ('scaler',\n",
       "                                                                     StandardScaler(copy=True,\n",
       "                                                                                    with...\n",
       "                   RandomOverSampler(random_state=42, ratio=None,\n",
       "                                     return_indices=False,\n",
       "                                     sampling_strategy='auto')),\n",
       "                  ('logisticregression',\n",
       "                   LogisticRegression(C=1.0, class_weight=None, dual=False,\n",
       "                                      fit_intercept=True, intercept_scaling=1,\n",
       "                                      l1_ratio=None, max_iter=100,\n",
       "                                      multi_class='warn', n_jobs=None,\n",
       "                                      penalty='l2', random_state=None,\n",
       "                                      solver='liblinear', tol=0.0001, verbose=0,\n",
       "                                      warm_start=False))],\n",
       "           verbose=False), Pipeline(memory=None,\n",
       "           steps=[('columntransformer',\n",
       "                   ColumnTransformer(n_jobs=None, remainder='drop',\n",
       "                                     sparse_threshold=0.3,\n",
       "                                     transformer_weights=None,\n",
       "                                     transformers=[('num',\n",
       "                                                    Pipeline(memory=None,\n",
       "                                                             steps=[('imputer',\n",
       "                                                                     SimpleImputer(add_indicator=False,\n",
       "                                                                                   copy=True,\n",
       "                                                                                   fill_value=None,\n",
       "                                                                                   missing_values=nan,\n",
       "                                                                                   strategy='median',\n",
       "                                                                                   verbose=0)),\n",
       "                                                                    ('scaler',\n",
       "                                                                     StandardScaler(copy=True,\n",
       "                                                                                    with...\n",
       "                   RandomOverSampler(random_state=42, ratio=None,\n",
       "                                     return_indices=False,\n",
       "                                     sampling_strategy='auto')),\n",
       "                  ('logisticregression',\n",
       "                   LogisticRegression(C=1.0, class_weight=None, dual=False,\n",
       "                                      fit_intercept=True, intercept_scaling=1,\n",
       "                                      l1_ratio=None, max_iter=100,\n",
       "                                      multi_class='warn', n_jobs=None,\n",
       "                                      penalty='l2', random_state=None,\n",
       "                                      solver='liblinear', tol=0.0001, verbose=0,\n",
       "                                      warm_start=False))],\n",
       "           verbose=False), Pipeline(memory=None,\n",
       "           steps=[('columntransformer',\n",
       "                   ColumnTransformer(n_jobs=None, remainder='drop',\n",
       "                                     sparse_threshold=0.3,\n",
       "                                     transformer_weights=None,\n",
       "                                     transformers=[('num',\n",
       "                                                    Pipeline(memory=None,\n",
       "                                                             steps=[('imputer',\n",
       "                                                                     SimpleImputer(add_indicator=False,\n",
       "                                                                                   copy=True,\n",
       "                                                                                   fill_value=None,\n",
       "                                                                                   missing_values=nan,\n",
       "                                                                                   strategy='median',\n",
       "                                                                                   verbose=0)),\n",
       "                                                                    ('scaler',\n",
       "                                                                     StandardScaler(copy=True,\n",
       "                                                                                    with...\n",
       "                   RandomOverSampler(random_state=42, ratio=None,\n",
       "                                     return_indices=False,\n",
       "                                     sampling_strategy='auto')),\n",
       "                  ('logisticregression',\n",
       "                   LogisticRegression(C=1.0, class_weight=None, dual=False,\n",
       "                                      fit_intercept=True, intercept_scaling=1,\n",
       "                                      l1_ratio=None, max_iter=100,\n",
       "                                      multi_class='warn', n_jobs=None,\n",
       "                                      penalty='l2', random_state=None,\n",
       "                                      solver='liblinear', tol=0.0001, verbose=0,\n",
       "                                      warm_start=False))],\n",
       "           verbose=False), Pipeline(memory=None,\n",
       "           steps=[('columntransformer',\n",
       "                   ColumnTransformer(n_jobs=None, remainder='drop',\n",
       "                                     sparse_threshold=0.3,\n",
       "                                     transformer_weights=None,\n",
       "                                     transformers=[('num',\n",
       "                                                    Pipeline(memory=None,\n",
       "                                                             steps=[('imputer',\n",
       "                                                                     SimpleImputer(add_indicator=False,\n",
       "                                                                                   copy=True,\n",
       "                                                                                   fill_value=None,\n",
       "                                                                                   missing_values=nan,\n",
       "                                                                                   strategy='median',\n",
       "                                                                                   verbose=0)),\n",
       "                                                                    ('scaler',\n",
       "                                                                     StandardScaler(copy=True,\n",
       "                                                                                    with...\n",
       "                   RandomOverSampler(random_state=42, ratio=None,\n",
       "                                     return_indices=False,\n",
       "                                     sampling_strategy='auto')),\n",
       "                  ('logisticregression',\n",
       "                   LogisticRegression(C=1.0, class_weight=None, dual=False,\n",
       "                                      fit_intercept=True, intercept_scaling=1,\n",
       "                                      l1_ratio=None, max_iter=100,\n",
       "                                      multi_class='warn', n_jobs=None,\n",
       "                                      penalty='l2', random_state=None,\n",
       "                                      solver='liblinear', tol=0.0001, verbose=0,\n",
       "                                      warm_start=False))],\n",
       "           verbose=False), Pipeline(memory=None,\n",
       "           steps=[('columntransformer',\n",
       "                   ColumnTransformer(n_jobs=None, remainder='drop',\n",
       "                                     sparse_threshold=0.3,\n",
       "                                     transformer_weights=None,\n",
       "                                     transformers=[('num',\n",
       "                                                    Pipeline(memory=None,\n",
       "                                                             steps=[('imputer',\n",
       "                                                                     SimpleImputer(add_indicator=False,\n",
       "                                                                                   copy=True,\n",
       "                                                                                   fill_value=None,\n",
       "                                                                                   missing_values=nan,\n",
       "                                                                                   strategy='median',\n",
       "                                                                                   verbose=0)),\n",
       "                                                                    ('scaler',\n",
       "                                                                     StandardScaler(copy=True,\n",
       "                                                                                    with...\n",
       "                   RandomOverSampler(random_state=42, ratio=None,\n",
       "                                     return_indices=False,\n",
       "                                     sampling_strategy='auto')),\n",
       "                  ('logisticregression',\n",
       "                   LogisticRegression(C=1.0, class_weight=None, dual=False,\n",
       "                                      fit_intercept=True, intercept_scaling=1,\n",
       "                                      l1_ratio=None, max_iter=100,\n",
       "                                      multi_class='warn', n_jobs=None,\n",
       "                                      penalty='l2', random_state=None,\n",
       "                                      solver='liblinear', tol=0.0001, verbose=0,\n",
       "                                      warm_start=False))],\n",
       "           verbose=False)),\n",
       " 'test_roc_auc': array([0.89285992, 0.89541305, 0.89036637, 0.89046677, 0.90198191]),\n",
       " 'train_roc_auc': array([0.89650049, 0.89575833, 0.89734882, 0.89623614, 0.89403419]),\n",
       " 'test_recall': array([0.78059537, 0.78169791, 0.77398015, 0.78500551, 0.80264609]),\n",
       " 'train_recall': array([0.78417861, 0.78169791, 0.79051819, 0.78941566, 0.78335171]),\n",
       " 'test_accuracy': array([0.85366409, 0.85047792, 0.84786072, 0.85489928, 0.84795721]),\n",
       " 'train_accuracy': array([0.85177809, 0.85439545, 0.84987198, 0.84862451, 0.85098575])}"
      ]
     },
     "execution_count": 215,
     "metadata": {},
     "output_type": "execute_result"
    }
   ],
   "source": [
    "scores"
   ]
  },
  {
   "cell_type": "code",
   "execution_count": 216,
   "metadata": {},
   "outputs": [],
   "source": [
    "## SMOTE \n",
    "\n",
    "from imblearn.over_sampling import SMOTE, ADASYN,KMeansSMOTE\n",
    "\n",
    "sm = SMOTE(random_state=42)\n",
    "#sm = KMeansSMOTE(sampling_strategy= 'minority', random_state=42)\n",
    "## Logsitic Regression\n",
    "from imblearn.pipeline import make_pipeline\n",
    "\n",
    "from sklearn.linear_model import LogisticRegression\n",
    "log = LogisticRegression(solver='liblinear')\n",
    "\n",
    "logReg_sm = make_pipeline(preprocessor,sm, log)\n",
    "\n",
    "## cross validate \n",
    "from sklearn.model_selection import cross_validate\n",
    "\n",
    "scores = cross_validate(logReg_sm, X_train, y_train, scoring=['roc_auc','recall','accuracy'], cv = K_FOLD, return_train_score= True, return_estimator=True)"
   ]
  },
  {
   "cell_type": "code",
   "execution_count": 217,
   "metadata": {},
   "outputs": [
    {
     "data": {
      "text/plain": [
       "{'fit_time': array([2.62780428, 2.43991399, 2.91165304, 3.00473094, 2.30154991]),\n",
       " 'score_time': array([0.11428094, 0.14407802, 0.13323498, 0.14582705, 0.12271404]),\n",
       " 'estimator': (Pipeline(memory=None,\n",
       "           steps=[('columntransformer',\n",
       "                   ColumnTransformer(n_jobs=None, remainder='drop',\n",
       "                                     sparse_threshold=0.3,\n",
       "                                     transformer_weights=None,\n",
       "                                     transformers=[('num',\n",
       "                                                    Pipeline(memory=None,\n",
       "                                                             steps=[('imputer',\n",
       "                                                                     SimpleImputer(add_indicator=False,\n",
       "                                                                                   copy=True,\n",
       "                                                                                   fill_value=None,\n",
       "                                                                                   missing_values=nan,\n",
       "                                                                                   strategy='median',\n",
       "                                                                                   verbose=0)),\n",
       "                                                                    ('scaler',\n",
       "                                                                     StandardScaler(copy=True,\n",
       "                                                                                    with...\n",
       "                         out_step='deprecated', random_state=42, ratio=None,\n",
       "                         sampling_strategy='auto', svm_estimator='deprecated')),\n",
       "                  ('logisticregression',\n",
       "                   LogisticRegression(C=1.0, class_weight=None, dual=False,\n",
       "                                      fit_intercept=True, intercept_scaling=1,\n",
       "                                      l1_ratio=None, max_iter=100,\n",
       "                                      multi_class='warn', n_jobs=None,\n",
       "                                      penalty='l2', random_state=None,\n",
       "                                      solver='liblinear', tol=0.0001, verbose=0,\n",
       "                                      warm_start=False))],\n",
       "           verbose=False), Pipeline(memory=None,\n",
       "           steps=[('columntransformer',\n",
       "                   ColumnTransformer(n_jobs=None, remainder='drop',\n",
       "                                     sparse_threshold=0.3,\n",
       "                                     transformer_weights=None,\n",
       "                                     transformers=[('num',\n",
       "                                                    Pipeline(memory=None,\n",
       "                                                             steps=[('imputer',\n",
       "                                                                     SimpleImputer(add_indicator=False,\n",
       "                                                                                   copy=True,\n",
       "                                                                                   fill_value=None,\n",
       "                                                                                   missing_values=nan,\n",
       "                                                                                   strategy='median',\n",
       "                                                                                   verbose=0)),\n",
       "                                                                    ('scaler',\n",
       "                                                                     StandardScaler(copy=True,\n",
       "                                                                                    with...\n",
       "                         out_step='deprecated', random_state=42, ratio=None,\n",
       "                         sampling_strategy='auto', svm_estimator='deprecated')),\n",
       "                  ('logisticregression',\n",
       "                   LogisticRegression(C=1.0, class_weight=None, dual=False,\n",
       "                                      fit_intercept=True, intercept_scaling=1,\n",
       "                                      l1_ratio=None, max_iter=100,\n",
       "                                      multi_class='warn', n_jobs=None,\n",
       "                                      penalty='l2', random_state=None,\n",
       "                                      solver='liblinear', tol=0.0001, verbose=0,\n",
       "                                      warm_start=False))],\n",
       "           verbose=False), Pipeline(memory=None,\n",
       "           steps=[('columntransformer',\n",
       "                   ColumnTransformer(n_jobs=None, remainder='drop',\n",
       "                                     sparse_threshold=0.3,\n",
       "                                     transformer_weights=None,\n",
       "                                     transformers=[('num',\n",
       "                                                    Pipeline(memory=None,\n",
       "                                                             steps=[('imputer',\n",
       "                                                                     SimpleImputer(add_indicator=False,\n",
       "                                                                                   copy=True,\n",
       "                                                                                   fill_value=None,\n",
       "                                                                                   missing_values=nan,\n",
       "                                                                                   strategy='median',\n",
       "                                                                                   verbose=0)),\n",
       "                                                                    ('scaler',\n",
       "                                                                     StandardScaler(copy=True,\n",
       "                                                                                    with...\n",
       "                         out_step='deprecated', random_state=42, ratio=None,\n",
       "                         sampling_strategy='auto', svm_estimator='deprecated')),\n",
       "                  ('logisticregression',\n",
       "                   LogisticRegression(C=1.0, class_weight=None, dual=False,\n",
       "                                      fit_intercept=True, intercept_scaling=1,\n",
       "                                      l1_ratio=None, max_iter=100,\n",
       "                                      multi_class='warn', n_jobs=None,\n",
       "                                      penalty='l2', random_state=None,\n",
       "                                      solver='liblinear', tol=0.0001, verbose=0,\n",
       "                                      warm_start=False))],\n",
       "           verbose=False), Pipeline(memory=None,\n",
       "           steps=[('columntransformer',\n",
       "                   ColumnTransformer(n_jobs=None, remainder='drop',\n",
       "                                     sparse_threshold=0.3,\n",
       "                                     transformer_weights=None,\n",
       "                                     transformers=[('num',\n",
       "                                                    Pipeline(memory=None,\n",
       "                                                             steps=[('imputer',\n",
       "                                                                     SimpleImputer(add_indicator=False,\n",
       "                                                                                   copy=True,\n",
       "                                                                                   fill_value=None,\n",
       "                                                                                   missing_values=nan,\n",
       "                                                                                   strategy='median',\n",
       "                                                                                   verbose=0)),\n",
       "                                                                    ('scaler',\n",
       "                                                                     StandardScaler(copy=True,\n",
       "                                                                                    with...\n",
       "                         out_step='deprecated', random_state=42, ratio=None,\n",
       "                         sampling_strategy='auto', svm_estimator='deprecated')),\n",
       "                  ('logisticregression',\n",
       "                   LogisticRegression(C=1.0, class_weight=None, dual=False,\n",
       "                                      fit_intercept=True, intercept_scaling=1,\n",
       "                                      l1_ratio=None, max_iter=100,\n",
       "                                      multi_class='warn', n_jobs=None,\n",
       "                                      penalty='l2', random_state=None,\n",
       "                                      solver='liblinear', tol=0.0001, verbose=0,\n",
       "                                      warm_start=False))],\n",
       "           verbose=False), Pipeline(memory=None,\n",
       "           steps=[('columntransformer',\n",
       "                   ColumnTransformer(n_jobs=None, remainder='drop',\n",
       "                                     sparse_threshold=0.3,\n",
       "                                     transformer_weights=None,\n",
       "                                     transformers=[('num',\n",
       "                                                    Pipeline(memory=None,\n",
       "                                                             steps=[('imputer',\n",
       "                                                                     SimpleImputer(add_indicator=False,\n",
       "                                                                                   copy=True,\n",
       "                                                                                   fill_value=None,\n",
       "                                                                                   missing_values=nan,\n",
       "                                                                                   strategy='median',\n",
       "                                                                                   verbose=0)),\n",
       "                                                                    ('scaler',\n",
       "                                                                     StandardScaler(copy=True,\n",
       "                                                                                    with...\n",
       "                         out_step='deprecated', random_state=42, ratio=None,\n",
       "                         sampling_strategy='auto', svm_estimator='deprecated')),\n",
       "                  ('logisticregression',\n",
       "                   LogisticRegression(C=1.0, class_weight=None, dual=False,\n",
       "                                      fit_intercept=True, intercept_scaling=1,\n",
       "                                      l1_ratio=None, max_iter=100,\n",
       "                                      multi_class='warn', n_jobs=None,\n",
       "                                      penalty='l2', random_state=None,\n",
       "                                      solver='liblinear', tol=0.0001, verbose=0,\n",
       "                                      warm_start=False))],\n",
       "           verbose=False)),\n",
       " 'test_roc_auc': array([0.89214798, 0.89533065, 0.88908778, 0.89115866, 0.90166248]),\n",
       " 'train_roc_auc': array([0.89625744, 0.89536797, 0.8970201 , 0.89585861, 0.89384927]),\n",
       " 'test_recall': array([0.77508269, 0.77728776, 0.76846748, 0.76736494, 0.78941566]),\n",
       " 'train_recall': array([0.77673649, 0.77563396, 0.78142227, 0.77590959, 0.77866593]),\n",
       " 'test_accuracy': array([0.85628129, 0.85571234, 0.8534365 , 0.86115853, 0.85159895]),\n",
       " 'train_accuracy': array([0.85578947, 0.85934566, 0.85513514, 0.85681773, 0.85607806])}"
      ]
     },
     "execution_count": 217,
     "metadata": {},
     "output_type": "execute_result"
    }
   ],
   "source": [
    "scores"
   ]
  },
  {
   "cell_type": "code",
   "execution_count": 218,
   "metadata": {},
   "outputs": [],
   "source": [
    "## Random Forest \n",
    "from sklearn.ensemble import RandomForestClassifier\n",
    "clf = RandomForestClassifier(n_estimators=100, max_depth=4, random_state=RANDOM_STATE)\n",
    "rf = make_pipeline(preprocessor,rus, clf)\n",
    "## cross validate \n",
    "from sklearn.model_selection import cross_validate\n",
    "\n",
    "scores = cross_validate(rf, X_train, y_train, scoring=['roc_auc','recall','accuracy'], cv = K_FOLD, return_train_score = True, return_estimator=True)"
   ]
  },
  {
   "cell_type": "code",
   "execution_count": 219,
   "metadata": {},
   "outputs": [
    {
     "data": {
      "text/plain": [
       "{'fit_time': array([1.53755283, 1.3912859 , 1.48648596, 1.36939216, 1.40804386]),\n",
       " 'score_time': array([0.31058407, 0.31384301, 0.33132076, 0.31189394, 0.32069492]),\n",
       " 'estimator': (Pipeline(memory=None,\n",
       "           steps=[('columntransformer',\n",
       "                   ColumnTransformer(n_jobs=None, remainder='drop',\n",
       "                                     sparse_threshold=0.3,\n",
       "                                     transformer_weights=None,\n",
       "                                     transformers=[('num',\n",
       "                                                    Pipeline(memory=None,\n",
       "                                                             steps=[('imputer',\n",
       "                                                                     SimpleImputer(add_indicator=False,\n",
       "                                                                                   copy=True,\n",
       "                                                                                   fill_value=None,\n",
       "                                                                                   missing_values=nan,\n",
       "                                                                                   strategy='median',\n",
       "                                                                                   verbose=0)),\n",
       "                                                                    ('scaler',\n",
       "                                                                     StandardScaler(copy=True,\n",
       "                                                                                    with...\n",
       "                  ('randomforestclassifier',\n",
       "                   RandomForestClassifier(bootstrap=True, class_weight=None,\n",
       "                                          criterion='gini', max_depth=4,\n",
       "                                          max_features='auto',\n",
       "                                          max_leaf_nodes=None,\n",
       "                                          min_impurity_decrease=0.0,\n",
       "                                          min_impurity_split=None,\n",
       "                                          min_samples_leaf=1, min_samples_split=2,\n",
       "                                          min_weight_fraction_leaf=0.0,\n",
       "                                          n_estimators=100, n_jobs=None,\n",
       "                                          oob_score=False, random_state=42,\n",
       "                                          verbose=0, warm_start=False))],\n",
       "           verbose=False), Pipeline(memory=None,\n",
       "           steps=[('columntransformer',\n",
       "                   ColumnTransformer(n_jobs=None, remainder='drop',\n",
       "                                     sparse_threshold=0.3,\n",
       "                                     transformer_weights=None,\n",
       "                                     transformers=[('num',\n",
       "                                                    Pipeline(memory=None,\n",
       "                                                             steps=[('imputer',\n",
       "                                                                     SimpleImputer(add_indicator=False,\n",
       "                                                                                   copy=True,\n",
       "                                                                                   fill_value=None,\n",
       "                                                                                   missing_values=nan,\n",
       "                                                                                   strategy='median',\n",
       "                                                                                   verbose=0)),\n",
       "                                                                    ('scaler',\n",
       "                                                                     StandardScaler(copy=True,\n",
       "                                                                                    with...\n",
       "                  ('randomforestclassifier',\n",
       "                   RandomForestClassifier(bootstrap=True, class_weight=None,\n",
       "                                          criterion='gini', max_depth=4,\n",
       "                                          max_features='auto',\n",
       "                                          max_leaf_nodes=None,\n",
       "                                          min_impurity_decrease=0.0,\n",
       "                                          min_impurity_split=None,\n",
       "                                          min_samples_leaf=1, min_samples_split=2,\n",
       "                                          min_weight_fraction_leaf=0.0,\n",
       "                                          n_estimators=100, n_jobs=None,\n",
       "                                          oob_score=False, random_state=42,\n",
       "                                          verbose=0, warm_start=False))],\n",
       "           verbose=False), Pipeline(memory=None,\n",
       "           steps=[('columntransformer',\n",
       "                   ColumnTransformer(n_jobs=None, remainder='drop',\n",
       "                                     sparse_threshold=0.3,\n",
       "                                     transformer_weights=None,\n",
       "                                     transformers=[('num',\n",
       "                                                    Pipeline(memory=None,\n",
       "                                                             steps=[('imputer',\n",
       "                                                                     SimpleImputer(add_indicator=False,\n",
       "                                                                                   copy=True,\n",
       "                                                                                   fill_value=None,\n",
       "                                                                                   missing_values=nan,\n",
       "                                                                                   strategy='median',\n",
       "                                                                                   verbose=0)),\n",
       "                                                                    ('scaler',\n",
       "                                                                     StandardScaler(copy=True,\n",
       "                                                                                    with...\n",
       "                  ('randomforestclassifier',\n",
       "                   RandomForestClassifier(bootstrap=True, class_weight=None,\n",
       "                                          criterion='gini', max_depth=4,\n",
       "                                          max_features='auto',\n",
       "                                          max_leaf_nodes=None,\n",
       "                                          min_impurity_decrease=0.0,\n",
       "                                          min_impurity_split=None,\n",
       "                                          min_samples_leaf=1, min_samples_split=2,\n",
       "                                          min_weight_fraction_leaf=0.0,\n",
       "                                          n_estimators=100, n_jobs=None,\n",
       "                                          oob_score=False, random_state=42,\n",
       "                                          verbose=0, warm_start=False))],\n",
       "           verbose=False), Pipeline(memory=None,\n",
       "           steps=[('columntransformer',\n",
       "                   ColumnTransformer(n_jobs=None, remainder='drop',\n",
       "                                     sparse_threshold=0.3,\n",
       "                                     transformer_weights=None,\n",
       "                                     transformers=[('num',\n",
       "                                                    Pipeline(memory=None,\n",
       "                                                             steps=[('imputer',\n",
       "                                                                     SimpleImputer(add_indicator=False,\n",
       "                                                                                   copy=True,\n",
       "                                                                                   fill_value=None,\n",
       "                                                                                   missing_values=nan,\n",
       "                                                                                   strategy='median',\n",
       "                                                                                   verbose=0)),\n",
       "                                                                    ('scaler',\n",
       "                                                                     StandardScaler(copy=True,\n",
       "                                                                                    with...\n",
       "                  ('randomforestclassifier',\n",
       "                   RandomForestClassifier(bootstrap=True, class_weight=None,\n",
       "                                          criterion='gini', max_depth=4,\n",
       "                                          max_features='auto',\n",
       "                                          max_leaf_nodes=None,\n",
       "                                          min_impurity_decrease=0.0,\n",
       "                                          min_impurity_split=None,\n",
       "                                          min_samples_leaf=1, min_samples_split=2,\n",
       "                                          min_weight_fraction_leaf=0.0,\n",
       "                                          n_estimators=100, n_jobs=None,\n",
       "                                          oob_score=False, random_state=42,\n",
       "                                          verbose=0, warm_start=False))],\n",
       "           verbose=False), Pipeline(memory=None,\n",
       "           steps=[('columntransformer',\n",
       "                   ColumnTransformer(n_jobs=None, remainder='drop',\n",
       "                                     sparse_threshold=0.3,\n",
       "                                     transformer_weights=None,\n",
       "                                     transformers=[('num',\n",
       "                                                    Pipeline(memory=None,\n",
       "                                                             steps=[('imputer',\n",
       "                                                                     SimpleImputer(add_indicator=False,\n",
       "                                                                                   copy=True,\n",
       "                                                                                   fill_value=None,\n",
       "                                                                                   missing_values=nan,\n",
       "                                                                                   strategy='median',\n",
       "                                                                                   verbose=0)),\n",
       "                                                                    ('scaler',\n",
       "                                                                     StandardScaler(copy=True,\n",
       "                                                                                    with...\n",
       "                  ('randomforestclassifier',\n",
       "                   RandomForestClassifier(bootstrap=True, class_weight=None,\n",
       "                                          criterion='gini', max_depth=4,\n",
       "                                          max_features='auto',\n",
       "                                          max_leaf_nodes=None,\n",
       "                                          min_impurity_decrease=0.0,\n",
       "                                          min_impurity_split=None,\n",
       "                                          min_samples_leaf=1, min_samples_split=2,\n",
       "                                          min_weight_fraction_leaf=0.0,\n",
       "                                          n_estimators=100, n_jobs=None,\n",
       "                                          oob_score=False, random_state=42,\n",
       "                                          verbose=0, warm_start=False))],\n",
       "           verbose=False)),\n",
       " 'test_roc_auc': array([0.89109321, 0.89811092, 0.88994927, 0.88984275, 0.89519327]),\n",
       " 'train_roc_auc': array([0.89581948, 0.89434296, 0.9005397 , 0.89387565, 0.89213865]),\n",
       " 'test_recall': array([0.83131202, 0.82800441, 0.81808159, 0.82579934, 0.84674752]),\n",
       " 'train_recall': array([0.83406836, 0.82056229, 0.8393054 , 0.83627343, 0.83213892]),\n",
       " 'test_accuracy': array([0.78004096, 0.79767865, 0.77492035, 0.7766018 , 0.77136679]),\n",
       " 'train_accuracy': array([0.78301565, 0.7971266 , 0.7741963 , 0.77445876, 0.77312168])}"
      ]
     },
     "execution_count": 219,
     "metadata": {},
     "output_type": "execute_result"
    }
   ],
   "source": [
    "scores "
   ]
  },
  {
   "cell_type": "code",
   "execution_count": 220,
   "metadata": {},
   "outputs": [],
   "source": [
    "from sklearn.model_selection import GridSearchCV\n",
    "params = {\n",
    "    'n_estimators': [50, 100, 200],\n",
    "    'max_depth': [4, 6, 10, 12],\n",
    "    'random_state': [13]\n",
    "}\n",
    "new_params = {'randomforestclassifier__' + key: params[key] for key in params}\n",
    "grid_imba = GridSearchCV(rf, param_grid=new_params, cv=K_FOLD, scoring='recall', return_train_score=True)\n",
    "grid_imba.fit(X_train, y_train);"
   ]
  },
  {
   "cell_type": "code",
   "execution_count": 221,
   "metadata": {},
   "outputs": [
    {
     "data": {
      "text/plain": [
       "{'randomforestclassifier__max_depth': 4,\n",
       " 'randomforestclassifier__n_estimators': 50,\n",
       " 'randomforestclassifier__random_state': 13}"
      ]
     },
     "execution_count": 221,
     "metadata": {},
     "output_type": "execute_result"
    }
   ],
   "source": [
    "grid_imba.best_params_"
   ]
  },
  {
   "cell_type": "code",
   "execution_count": 222,
   "metadata": {},
   "outputs": [
    {
     "data": {
      "text/plain": [
       "0.8255784448799585"
      ]
     },
     "execution_count": 222,
     "metadata": {},
     "output_type": "execute_result"
    }
   ],
   "source": [
    "grid_imba.best_score_"
   ]
  },
  {
   "cell_type": "code",
   "execution_count": 223,
   "metadata": {},
   "outputs": [],
   "source": [
    "f_imp = grid_imba.best_estimator_['randomforestclassifier'].feature_importances_"
   ]
  },
  {
   "cell_type": "code",
   "execution_count": 224,
   "metadata": {},
   "outputs": [],
   "source": [
    "cat_name = grid_imba.best_estimator_.named_steps['columntransformer'].transformers_[1][1].named_steps['onehot'].get_feature_names()\n"
   ]
  },
  {
   "cell_type": "code",
   "execution_count": 225,
   "metadata": {},
   "outputs": [],
   "source": [
    "featurename = np.array(np.concatenate(( np.array(numeric_features), cat_name,)))"
   ]
  },
  {
   "cell_type": "code",
   "execution_count": 226,
   "metadata": {},
   "outputs": [
    {
     "data": {
      "text/plain": [
       "array(['SPEEDLIMIT', 'SEGLENGTH', 'SURFACEWID', 'PVMTCONDIN',\n",
       "       'PVMTCOND_1', 'SLOPE_PCT', 'x0_E', 'x0_N', 'x0_NE', 'x0_NW',\n",
       "       'x0_S', 'x0_SE', 'x0_SW', 'x0_W', 'x1_N', 'x1_Y', 'x2_AC',\n",
       "       'x2_AC/AC', 'x2_AC/PCC', 'x2_GRAVEL', 'x2_PCC', 'x2_ST', 'x3_N',\n",
       "       'x3_Y', 'x4_ART', 'x4_MLTUSETRL', 'x4_NON-ART', 'x4_NONE',\n",
       "       'x4_PATHWAY', 'x4_PVMTTOPARK', 'x5_N', 'x5_Y', 'x6_0.0', 'x6_1.0'],\n",
       "      dtype=object)"
      ]
     },
     "execution_count": 226,
     "metadata": {},
     "output_type": "execute_result"
    }
   ],
   "source": [
    "featurename "
   ]
  },
  {
   "cell_type": "code",
   "execution_count": 227,
   "metadata": {},
   "outputs": [
    {
     "data": {
      "text/plain": [
       "['SEGDIR',\n",
       " 'ONEWAY',\n",
       " 'SURFACETYP',\n",
       " 'NATIONHWYS',\n",
       " 'PVMTCATEGO',\n",
       " 'PARKBOULEV',\n",
       " 'rushhour']"
      ]
     },
     "execution_count": 227,
     "metadata": {},
     "output_type": "execute_result"
    }
   ],
   "source": [
    "categorical_features"
   ]
  },
  {
   "cell_type": "code",
   "execution_count": 228,
   "metadata": {},
   "outputs": [
    {
     "data": {
      "text/plain": [
       "Text(0.5, 1.0, 'Random forest feature importance')"
      ]
     },
     "execution_count": 228,
     "metadata": {},
     "output_type": "execute_result"
    },
    {
     "data": {
      "image/png": "[encoded data removed]",
      "text/plain": [
       "<Figure size 720x720 with 1 Axes>"
      ]
     },
     "metadata": {
      "needs_background": "light"
     },
     "output_type": "display_data"
    }
   ],
   "source": [
    "feat_imp = pd.DataFrame({\n",
    "    'Feature': featurename [np.argsort(f_imp)],\n",
    "    'Importance': np.sort(f_imp)\n",
    "}).sort_values('Importance', ascending=False)\n",
    "\n",
    "plt.figure(figsize=(10,10))\n",
    "plt.barh(y = feat_imp['Feature'], width=feat_imp['Importance'])\n",
    "plt.gca().invert_yaxis()\n",
    "plt.xlabel('Feature importance')\n",
    "plt.title('Random forest feature importance')\n",
    "#plt.savefig(\"fig/rf_feat_importance.png\", bbox_inches='tight')"
   ]
  },
  {
   "cell_type": "code",
   "execution_count": null,
   "metadata": {},
   "outputs": [],
   "source": []
  },
  {
   "cell_type": "code",
   "execution_count": null,
   "metadata": {},
   "outputs": [],
   "source": []
  },
  {
   "cell_type": "code",
   "execution_count": null,
   "metadata": {},
   "outputs": [],
   "source": []
  },
  {
   "cell_type": "code",
   "execution_count": null,
   "metadata": {},
   "outputs": [],
   "source": []
  },
  {
   "cell_type": "code",
   "execution_count": 32,
   "metadata": {},
   "outputs": [
    {
     "data": {
      "text/plain": [
       "Pipeline(memory=None,\n",
       "         steps=[('columntransformer',\n",
       "                 ColumnTransformer(n_jobs=None, remainder='drop',\n",
       "                                   sparse_threshold=0.3,\n",
       "                                   transformer_weights=None,\n",
       "                                   transformers=[('num',\n",
       "                                                  Pipeline(memory=None,\n",
       "                                                           steps=[('imputer',\n",
       "                                                                   SimpleImputer(add_indicator=False,\n",
       "                                                                                 copy=True,\n",
       "                                                                                 fill_value=None,\n",
       "                                                                                 missing_values=nan,\n",
       "                                                                                 strategy='median',\n",
       "                                                                                 verbose=0)),\n",
       "                                                                  ('scaler',\n",
       "                                                                   StandardScaler(copy=True,\n",
       "                                                                                  with...\n",
       "                 RandomUnderSampler(random_state=42, ratio=None,\n",
       "                                    replacement=False, return_indices=False,\n",
       "                                    sampling_strategy='auto')),\n",
       "                ('logisticregression',\n",
       "                 LogisticRegression(C=1.0, class_weight=None, dual=False,\n",
       "                                    fit_intercept=True, intercept_scaling=1,\n",
       "                                    l1_ratio=None, max_iter=100,\n",
       "                                    multi_class='warn', n_jobs=None,\n",
       "                                    penalty='l2', random_state=None,\n",
       "                                    solver='liblinear', tol=0.0001, verbose=0,\n",
       "                                    warm_start=False))],\n",
       "         verbose=False)"
      ]
     },
     "execution_count": 32,
     "metadata": {},
     "output_type": "execute_result"
    }
   ],
   "source": [
    "logReg.fit(X_train, y_train)"
   ]
  },
  {
   "cell_type": "code",
   "execution_count": null,
   "metadata": {},
   "outputs": [],
   "source": []
  },
  {
   "cell_type": "code",
   "execution_count": null,
   "metadata": {},
   "outputs": [],
   "source": []
  },
  {
   "cell_type": "code",
   "execution_count": null,
   "metadata": {},
   "outputs": [],
   "source": []
  },
  {
   "cell_type": "code",
   "execution_count": null,
   "metadata": {},
   "outputs": [],
   "source": []
  },
  {
   "cell_type": "code",
   "execution_count": null,
   "metadata": {},
   "outputs": [],
   "source": []
  },
  {
   "cell_type": "code",
   "execution_count": null,
   "metadata": {},
   "outputs": [],
   "source": []
  },
  {
   "cell_type": "code",
   "execution_count": null,
   "metadata": {},
   "outputs": [],
   "source": []
  },
  {
   "cell_type": "code",
   "execution_count": null,
   "metadata": {},
   "outputs": [],
   "source": []
  },
  {
   "cell_type": "code",
   "execution_count": 59,
   "metadata": {},
   "outputs": [
    {
     "data": {
      "text/plain": [
       "4831"
      ]
     },
     "execution_count": 59,
     "metadata": {},
     "output_type": "execute_result"
    }
   ],
   "source": [
    "prediction = logReg.predict(X_test)\n",
    "len(prediction)\n",
    " "
   ]
  },
  {
   "cell_type": "code",
   "execution_count": 60,
   "metadata": {},
   "outputs": [
    {
     "data": {
      "text/plain": [
       "0.750599520383693"
      ]
     },
     "execution_count": 60,
     "metadata": {},
     "output_type": "execute_result"
    }
   ],
   "source": [
    "metrics.recall_score(y_test, prediction)"
   ]
  },
  {
   "cell_type": "code",
   "execution_count": 61,
   "metadata": {},
   "outputs": [
    {
     "data": {
      "text/plain": [
       "0.3027079303675048"
      ]
     },
     "execution_count": 61,
     "metadata": {},
     "output_type": "execute_result"
    }
   ],
   "source": [
    "metrics.precision_score(y_test, prediction)"
   ]
  },
  {
   "cell_type": "code",
   "execution_count": 62,
   "metadata": {},
   "outputs": [
    {
     "data": {
      "text/plain": [
       "0.7936278073146377"
      ]
     },
     "execution_count": 62,
     "metadata": {},
     "output_type": "execute_result"
    }
   ],
   "source": [
    "metrics.roc_auc_score(y_test, prediction)"
   ]
  },
  {
   "cell_type": "code",
   "execution_count": 63,
   "metadata": {},
   "outputs": [
    {
     "data": {
      "text/plain": [
       "0.4314266023432115"
      ]
     },
     "execution_count": 63,
     "metadata": {},
     "output_type": "execute_result"
    }
   ],
   "source": [
    "metrics.f1_score(y_test, prediction)"
   ]
  },
  {
   "cell_type": "code",
   "execution_count": 64,
   "metadata": {},
   "outputs": [
    {
     "data": {
      "text/plain": [
       "array([[3693,  721],\n",
       "       [ 104,  313]])"
      ]
     },
     "execution_count": 64,
     "metadata": {},
     "output_type": "execute_result"
    }
   ],
   "source": [
    "metrics.confusion_matrix(y_test, prediction)"
   ]
  },
  {
   "cell_type": "code",
   "execution_count": 65,
   "metadata": {},
   "outputs": [],
   "source": [
    "\n",
    "def plot_confusion_matrix(y_true, y_pred, classes,\n",
    "                          normalize=False,\n",
    "                          title=None,\n",
    "                          cmap=plt.cm.Blues):\n",
    "    \"\"\"\n",
    "    This function prints and plots the confusion matrix.\n",
    "    Normalization can be applied by setting `normalize=True`.\n",
    "    \"\"\"\n",
    "    if not title:\n",
    "        if normalize:\n",
    "            title = 'Normalized confusion matrix'\n",
    "        else:\n",
    "            title = 'Confusion matrix, without normalization'\n",
    "\n",
    "    # Compute confusion matrix\n",
    "    cm = confusion_matrix(y_true, y_pred)\n",
    "    # Only use the labels that appear in the data\n",
    "    classes = classes[unique_labels(y_true, y_pred)]\n",
    "    if normalize:\n",
    "        cm = cm.astype('float') / cm.sum(axis=1)[:, np.newaxis]\n",
    "        print(\"Normalized confusion matrix\")\n",
    "    else:\n",
    "        print('Confusion matrix, without normalization')\n",
    "\n",
    "    print(cm)\n",
    "\n",
    "    fig, ax = plt.subplots()\n",
    "    im = ax.imshow(cm, interpolation='nearest', cmap=cmap)\n",
    "    ax.figure.colorbar(im, ax=ax)\n",
    "    # We want to show all ticks...\n",
    "    ax.set(xticks=np.arange(cm.shape[1]),\n",
    "           yticks=np.arange(cm.shape[0]),\n",
    "           # ... and label them with the respective list entries\n",
    "           xticklabels=classes, yticklabels=classes,\n",
    "           title=title,\n",
    "           ylabel='True label',\n",
    "           xlabel='Predicted label')\n",
    "\n",
    "    # Rotate the tick labels and set their alignment.\n",
    "    plt.setp(ax.get_xticklabels(), rotation=45, ha=\"right\",\n",
    "             rotation_mode=\"anchor\")\n",
    "\n",
    "    # Loop over data dimensions and create text annotations.\n",
    "    fmt = '.2f' if normalize else 'd'\n",
    "    thresh = cm.max() / 2.\n",
    "    for i in range(cm.shape[0]):\n",
    "        for j in range(cm.shape[1]):\n",
    "            ax.text(j, i, format(cm[i, j], fmt),\n",
    "                    ha=\"center\", va=\"center\",\n",
    "                    color=\"white\" if cm[i, j] > thresh else \"black\")\n",
    "    fig.tight_layout()\n",
    "    return ax\n",
    "\n",
    "\n"
   ]
  },
  {
   "cell_type": "code",
   "execution_count": 66,
   "metadata": {},
   "outputs": [],
   "source": [
    "np.set_printoptions(precision=2)\n",
    "\n"
   ]
  },
  {
   "cell_type": "code",
   "execution_count": 67,
   "metadata": {},
   "outputs": [
    {
     "ename": "NameError",
     "evalue": "name 'class_names' is not defined",
     "output_type": "error",
     "traceback": [
      "\u001b[0;31m---------------------------------------------------------------------------\u001b[0m",
      "\u001b[0;31mNameError\u001b[0m                                 Traceback (most recent call last)",
      "\u001b[0;32m<ipython-input-67-5567d1585160>\u001b[0m in \u001b[0;36m<module>\u001b[0;34m\u001b[0m\n\u001b[1;32m      1\u001b[0m \u001b[0;31m# Plot non-normalized confusion matrix\u001b[0m\u001b[0;34m\u001b[0m\u001b[0;34m\u001b[0m\u001b[0;34m\u001b[0m\u001b[0m\n\u001b[0;32m----> 2\u001b[0;31m plot_confusion_matrix(y_test, prediction, classes=class_names,\n\u001b[0m\u001b[1;32m      3\u001b[0m                       title='Confusion matrix, without normalization')\n\u001b[1;32m      4\u001b[0m \u001b[0;34m\u001b[0m\u001b[0m\n\u001b[1;32m      5\u001b[0m \u001b[0;31m# Plot normalized confusion matrix\u001b[0m\u001b[0;34m\u001b[0m\u001b[0;34m\u001b[0m\u001b[0;34m\u001b[0m\u001b[0m\n",
      "\u001b[0;31mNameError\u001b[0m: name 'class_names' is not defined"
     ]
    }
   ],
   "source": [
    "# Plot non-normalized confusion matrix\n",
    "plot_confusion_matrix(y_test, prediction, classes=class_names,\n",
    "                      title='Confusion matrix, without normalization')\n",
    "\n",
    "# Plot normalized confusion matrix\n",
    "plot_confusion_matrix(y_test, prediction, classes=class_names, normalize=True,\n",
    "                      title='Normalized confusion matrix')\n",
    "\n",
    "plt.show()"
   ]
  },
  {
   "cell_type": "code",
   "execution_count": 117,
   "metadata": {},
   "outputs": [
    {
     "data": {
      "text/plain": [
       "array([[-0.71],\n",
       "       [ 0.28],\n",
       "       [ 0.42],\n",
       "       [-0.15],\n",
       "       [-0.03],\n",
       "       [-0.22],\n",
       "       [-1.39],\n",
       "       [ 1.04],\n",
       "       [ 0.88],\n",
       "       [ 0.27],\n",
       "       [ 0.25],\n",
       "       [ 0.43],\n",
       "       [ 0.46],\n",
       "       [ 0.56],\n",
       "       [-0.17],\n",
       "       [-0.41],\n",
       "       [-0.13],\n",
       "       [-0.2 ],\n",
       "       [ 0.33],\n",
       "       [ 0.47],\n",
       "       [ 0.43],\n",
       "       [ 0.75],\n",
       "       [ 0.46],\n",
       "       [-0.28],\n",
       "       [ 0.16],\n",
       "       [-0.74],\n",
       "       [ 0.5 ],\n",
       "       [ 0.3 ],\n",
       "       [-0.19],\n",
       "       [ 1.5 ],\n",
       "       [-0.33],\n",
       "       [ 0.  ],\n",
       "       [-0.18],\n",
       "       [ 0.  ],\n",
       "       [ 0.57],\n",
       "       [ 0.23],\n",
       "       [-0.04],\n",
       "       [ 0.7 ],\n",
       "       [-0.09],\n",
       "       [ 0.21],\n",
       "       [-0.09],\n",
       "       [ 0.95],\n",
       "       [-0.83],\n",
       "       [-2.37],\n",
       "       [ 3.17]])"
      ]
     },
     "execution_count": 117,
     "metadata": {},
     "output_type": "execute_result"
    }
   ],
   "source": [
    "log.coef_.T"
   ]
  },
  {
   "cell_type": "code",
   "execution_count": 71,
   "metadata": {},
   "outputs": [
    {
     "data": {
      "text/plain": [
       "Index(['SPEEDLIMIT', 'SEGLENGTH', 'SURFACEWID', 'PVMTCONDIN', 'PVMTCOND_1',\n",
       "       'SLOPE_PCT', 'ARTCLASS', 'SEGDIR', 'ONEWAY', 'SURFACETYP', 'NATIONHWYS',\n",
       "       'PVMTCATEGO', 'PARKBOULEV', 'TRANDESCRI', 'rushhour'],\n",
       "      dtype='object')"
      ]
     },
     "execution_count": 71,
     "metadata": {},
     "output_type": "execute_result"
    }
   ],
   "source": [
    "X_train.columns"
   ]
  },
  {
   "cell_type": "code",
   "execution_count": 75,
   "metadata": {},
   "outputs": [
    {
     "data": {
      "text/plain": [
       "array([[0.86, 0.14],\n",
       "       [0.64, 0.36],\n",
       "       [0.74, 0.26],\n",
       "       ...,\n",
       "       [0.14, 0.86],\n",
       "       [0.61, 0.39],\n",
       "       [0.43, 0.57]])"
      ]
     },
     "execution_count": 75,
     "metadata": {},
     "output_type": "execute_result"
    }
   ],
   "source": [
    "logReg.predict_proba(X_train)\n",
    "#https://www.guru99.com/scikit-learn-tutorial.html"
   ]
  },
  {
   "cell_type": "code",
   "execution_count": 155,
   "metadata": {},
   "outputs": [],
   "source": [
    "cat_name = logReg.named_steps['columntransformer'].transformers_[1][1].named_steps['onehot'].get_feature_names()\n",
    "featurename = np.array(np.concatenate(( np.array(numeric_features), cat_name,)))"
   ]
  },
  {
   "cell_type": "code",
   "execution_count": 162,
   "metadata": {},
   "outputs": [],
   "source": [
    "featurename = np.array(np.concatenate(( np.array(numeric_features), cat_name,)))"
   ]
  },
  {
   "cell_type": "code",
   "execution_count": 163,
   "metadata": {},
   "outputs": [
    {
     "data": {
      "text/plain": [
       "45"
      ]
     },
     "execution_count": 163,
     "metadata": {},
     "output_type": "execute_result"
    }
   ],
   "source": [
    "featurename.size"
   ]
  },
  {
   "cell_type": "code",
   "execution_count": 149,
   "metadata": {},
   "outputs": [
    {
     "data": {
      "text/plain": [
       "numpy.ndarray"
      ]
     },
     "execution_count": 149,
     "metadata": {},
     "output_type": "execute_result"
    }
   ],
   "source": [
    "type(logReg.named_steps['columntransformer'].transformers_[1][1].named_steps['onehot'].get_feature_names())"
   ]
  },
  {
   "cell_type": "code",
   "execution_count": 168,
   "metadata": {
    "scrolled": true
   },
   "outputs": [
    {
     "name": "stdout",
     "output_type": "stream",
     "text": [
      "['x8_0.0' 'x0_0.0' 'x7_TEMPORARY TRANSIT ROUTE' 'x3_ST' 'SPEEDLIMIT'\n",
      " 'x1_SE' 'x5_NON-ART' 'x3_GRAVEL' 'SLOPE_PCT' 'x1_W' 'x5_ART' 'x5_PATHWAY'\n",
      " 'x1_S' 'PVMTCONDIN' 'x1_SW' 'x7_MINOR RESTRICTED TRANSIT RT'\n",
      " 'x7_NOT DESIGNATED' 'x7_LOCAL TRANSIT ROUTE' 'PVMTCOND_1' 'x5_PVMTTOPARK'\n",
      " 'x5_NONE' 'x3_PCC' 'x7_MINOR TRANSIT ROUTE' 'x6_Y' 'x1_E' 'x0_3.0'\n",
      " 'SEGLENGTH' 'x4_Y' 'x2_N' 'SURFACEWID' 'x1_N' 'x3_AC' 'x1_NE' 'x3_AC/PCC'\n",
      " 'x2_Y' 'x4_N' 'x1_NW' 'x6_N' 'x7_MAJOR TRANSIT ROUTE' 'x3_AC/AC' 'x0_2.0'\n",
      " 'x7_PRINCIPAL TRANSIT ROUTE' 'x0_1.0' 'x5_MLTUSETRL' 'x8_1.0']\n",
      "[-2.37 -1.39 -0.83 -0.74 -0.71 -0.41 -0.33 -0.28 -0.22 -0.2  -0.19 -0.18\n",
      " -0.17 -0.15 -0.13 -0.09 -0.09 -0.04 -0.03  0.    0.    0.16  0.21  0.23\n",
      "  0.25  0.27  0.28  0.3   0.33  0.42  0.43  0.43  0.46  0.46  0.47  0.5\n",
      "  0.56  0.57  0.7   0.75  0.88  0.95  1.04  1.5   3.17]\n"
     ]
    },
    {
     "data": {
      "image/png": "[encoded data removed]",
      "text/plain": [
       "<Figure size 432x432 with 1 Axes>"
      ]
     },
     "metadata": {
      "needs_background": "light"
     },
     "output_type": "display_data"
    }
   ],
   "source": [
    "plt.figure(figsize=(6,6))\n",
    "plt.barh(range(len(log.coef_[0])), width=np.sort(log.coef_[0]))\n",
    "plt.yticks(ticks=range(len(log.coef_[0])), labels=featurename[np.argsort(log.coef_[0])])\n",
    "plt.title('Logistic regression coefficients')\n",
    "print(featurename[np.argsort(log.coef_[0])])\n",
    "print(np.sort(log.coef_[0]))\n",
    "#plt.savefig(\"fig/lr_coeff.png\", bbox_inches='tight')"
   ]
  },
  {
   "cell_type": "code",
   "execution_count": 131,
   "metadata": {},
   "outputs": [
    {
     "ename": "TypeError",
     "evalue": "list indices must be integers or slices, not list",
     "output_type": "error",
     "traceback": [
      "\u001b[0;31m---------------------------------------------------------------------------\u001b[0m",
      "\u001b[0;31mTypeError\u001b[0m                                 Traceback (most recent call last)",
      "\u001b[0;32m<ipython-input-131-33380e744460>\u001b[0m in \u001b[0;36m<module>\u001b[0;34m\u001b[0m\n\u001b[0;32m----> 1\u001b[0;31m \u001b[0mfeaturename\u001b[0m\u001b[0;34m[\u001b[0m\u001b[0mlist\u001b[0m\u001b[0;34m(\u001b[0m\u001b[0mnp\u001b[0m\u001b[0;34m.\u001b[0m\u001b[0margsort\u001b[0m\u001b[0;34m(\u001b[0m\u001b[0mlog\u001b[0m\u001b[0;34m.\u001b[0m\u001b[0mcoef_\u001b[0m\u001b[0;34m[\u001b[0m\u001b[0;36m0\u001b[0m\u001b[0;34m]\u001b[0m\u001b[0;34m)\u001b[0m\u001b[0;34m)\u001b[0m\u001b[0;34m]\u001b[0m\u001b[0;34m\u001b[0m\u001b[0;34m\u001b[0m\u001b[0m\n\u001b[0m",
      "\u001b[0;31mTypeError\u001b[0m: list indices must be integers or slices, not list"
     ]
    }
   ],
   "source": [
    "featurename[np.argsort(log.coef_[0])]"
   ]
  },
  {
   "cell_type": "code",
   "execution_count": 132,
   "metadata": {},
   "outputs": [
    {
     "data": {
      "text/plain": [
       "array([43,  6, 42, 25,  0, 15, 30, 23,  5, 17, 28, 32, 14,  3, 16, 38, 40,\n",
       "       36,  4, 33, 31, 24, 39, 35, 10,  9,  1, 27, 18,  2, 11, 20, 12, 22,\n",
       "       19, 26, 13, 34, 37, 21,  8, 41,  7, 29, 44])"
      ]
     },
     "execution_count": 132,
     "metadata": {},
     "output_type": "execute_result"
    }
   ],
   "source": [
    "np.argsort(log.coef_[0])"
   ]
  },
  {
   "cell_type": "code",
   "execution_count": 130,
   "metadata": {},
   "outputs": [
    {
     "data": {
      "text/plain": [
       "array([43,  6, 42, 25,  0, 15, 30, 23,  5, 17, 28, 32, 14,  3, 16, 38, 40,\n",
       "       36,  4, 33, 31, 24, 39, 35, 10,  9,  1, 27, 18,  2, 11, 20, 12, 22,\n",
       "       19, 26, 13, 34, 37, 21,  8, 41,  7, 29, 44])"
      ]
     },
     "execution_count": 130,
     "metadata": {},
     "output_type": "execute_result"
    }
   ],
   "source": [
    "np.argsort(log.coef_[0])"
   ]
  },
  {
   "cell_type": "code",
   "execution_count": 128,
   "metadata": {},
   "outputs": [
    {
     "data": {
      "text/plain": [
       "range(0, 45)"
      ]
     },
     "execution_count": 128,
     "metadata": {},
     "output_type": "execute_result"
    }
   ],
   "source": [
    "range(len(log.coef_[0]))"
   ]
  },
  {
   "cell_type": "code",
   "execution_count": 119,
   "metadata": {},
   "outputs": [
    {
     "data": {
      "text/plain": [
       "array([-0.71,  0.28,  0.42, -0.15, -0.03, -0.22, -1.39,  1.04,  0.88,\n",
       "        0.27,  0.25,  0.43,  0.46,  0.56, -0.17, -0.41, -0.13, -0.2 ,\n",
       "        0.33,  0.47,  0.43,  0.75,  0.46, -0.28,  0.16, -0.74,  0.5 ,\n",
       "        0.3 , -0.19,  1.5 , -0.33,  0.  , -0.18,  0.  ,  0.57,  0.23,\n",
       "       -0.04,  0.7 , -0.09,  0.21, -0.09,  0.95, -0.83, -2.37,  3.17])"
      ]
     },
     "execution_count": 119,
     "metadata": {},
     "output_type": "execute_result"
    }
   ],
   "source": [
    "log.coef_[0]"
   ]
  },
  {
   "cell_type": "code",
   "execution_count": null,
   "metadata": {},
   "outputs": [],
   "source": []
  }
 ],
 "metadata": {
  "kernelspec": {
   "display_name": "Python 3",
   "language": "python",
   "name": "python3"
  },
  "language_info": {
   "codemirror_mode": {
    "name": "ipython",
    "version": 3
   },
   "file_extension": ".py",
   "mimetype": "text/x-python",
   "name": "python",
   "nbconvert_exporter": "python",
   "pygments_lexer": "ipython3",
   "version": "3.7.3"
  }
 },
 "nbformat": 4,
 "nbformat_minor": 2
}
