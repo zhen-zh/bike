{
 "cells": [
  {
   "cell_type": "code",
   "execution_count": 1,
   "metadata": {},
   "outputs": [],
   "source": [
    "# Import necessary modules\n",
    "import pandas as pd\n",
    "import matplotlib as plt\n",
    "from matplotlib.pyplot import figure\n",
    "import numpy as np"
   ]
  },
  {
   "cell_type": "code",
   "execution_count": 2,
   "metadata": {},
   "outputs": [],
   "source": [
    "strt2 = pd.read_csv('./data/filtedstreets.csv', sep= \",\")\n",
    "bikecl = pd.read_csv('./data/bikecollisiondata_with_nearest_street_index2_updated.csv', sep= \",\")"
   ]
  },
  {
   "cell_type": "code",
   "execution_count": 3,
   "metadata": {},
   "outputs": [
    {
     "data": {
      "text/plain": [
       "Index(['OBJECTID', 'INCKEY', 'COLDETKEY', 'REPORTNO', 'STATUS', 'ADDRTYPE',\n",
       "       'INTKEY', 'LOCATION', 'EXCEPTRSNC', 'EXCEPTRSND', 'SEVERITYCO',\n",
       "       'SEVERITYDE', 'COLLISIONT', 'PERSONCOUN', 'PEDCOUNT', 'PEDCYLCOUN',\n",
       "       'VEHCOUNT', 'INJURIES', 'SERIOUSINJ', 'FATALITIES', 'INCDATE',\n",
       "       'INCDTTM', 'JUNCTIONTY', 'SDOT_COLCO', 'SDOT_COLDE', 'INATTENTIO',\n",
       "       'UNDERINFL', 'WEATHER', 'ROADCOND', 'LIGHTCOND', 'PEDROWNOTG',\n",
       "       'SDOTCOLNUM', 'SPEEDING', 'ST_COLCODE', 'ST_COLDESC', 'SEGLANEKEY',\n",
       "       'CROSSWALKK', 'HITPARKEDC', 'geometry', 'near_str_index', 'min_length',\n",
       "       'weather_group', 'date', 'time', 'hour', 'dayofweek', 'weekday',\n",
       "       'rushhour', 'weather_group2'],\n",
       "      dtype='object')"
      ]
     },
     "execution_count": 3,
     "metadata": {},
     "output_type": "execute_result"
    }
   ],
   "source": [
    "bikecl.columns"
   ]
  },
  {
   "cell_type": "code",
   "execution_count": 4,
   "metadata": {},
   "outputs": [],
   "source": [
    "strt2['index'] = strt2.index"
   ]
  },
  {
   "cell_type": "code",
   "execution_count": 5,
   "metadata": {},
   "outputs": [],
   "source": [
    "n = 2 * len(strt2)"
   ]
  },
  {
   "cell_type": "code",
   "execution_count": 6,
   "metadata": {},
   "outputs": [],
   "source": [
    "temp = (np.zeros(int(n*0.73))).tolist() + (np.ones(n- int(n*0.73))).tolist()"
   ]
  },
  {
   "cell_type": "code",
   "execution_count": 7,
   "metadata": {},
   "outputs": [],
   "source": [
    "simulate_street = pd.concat([strt2]*2, ignore_index=True)  "
   ]
  },
  {
   "cell_type": "code",
   "execution_count": 8,
   "metadata": {},
   "outputs": [],
   "source": [
    "simulate_street['simulate_rushhour'] = temp"
   ]
  },
  {
   "cell_type": "code",
   "execution_count": 9,
   "metadata": {},
   "outputs": [
    {
     "data": {
      "text/plain": [
       "5707"
      ]
     },
     "execution_count": 9,
     "metadata": {},
     "output_type": "execute_result"
    }
   ],
   "source": [
    "len(bikecl)"
   ]
  },
  {
   "cell_type": "code",
   "execution_count": null,
   "metadata": {},
   "outputs": [],
   "source": []
  },
  {
   "cell_type": "code",
   "execution_count": 10,
   "metadata": {},
   "outputs": [],
   "source": [
    "temp = bikecl.groupby(['near_str_index']).size().reset_index()"
   ]
  },
  {
   "cell_type": "code",
   "execution_count": 11,
   "metadata": {},
   "outputs": [
    {
     "data": {
      "text/plain": [
       "Index(['near_str_index', 0], dtype='object')"
      ]
     },
     "execution_count": 11,
     "metadata": {},
     "output_type": "execute_result"
    }
   ],
   "source": [
    "temp.columns"
   ]
  },
  {
   "cell_type": "code",
   "execution_count": 12,
   "metadata": {},
   "outputs": [
    {
     "data": {
      "text/plain": [
       "32"
      ]
     },
     "execution_count": 12,
     "metadata": {},
     "output_type": "execute_result"
    }
   ],
   "source": [
    "max(temp.iloc[:,1])"
   ]
  },
  {
   "cell_type": "code",
   "execution_count": 13,
   "metadata": {},
   "outputs": [
    {
     "data": {
      "text/plain": [
       "<matplotlib.axes._subplots.AxesSubplot at 0x116873630>"
      ]
     },
     "execution_count": 13,
     "metadata": {},
     "output_type": "execute_result"
    },
    {
     "data": {
      "image/png": "[encoded data removed]",
      "text/plain": [
       "<Figure size 432x288 with 1 Axes>"
      ]
     },
     "metadata": {
      "needs_background": "light"
     },
     "output_type": "display_data"
    }
   ],
   "source": [
    "temp.iloc[:,1].hist()"
   ]
  },
  {
   "cell_type": "code",
   "execution_count": 15,
   "metadata": {},
   "outputs": [],
   "source": [
    "full = pd.merge(simulate_street, bikecl, left_on= ['index','simulate_rushhour'],\n",
    "                right_on = ['near_str_index','rushhour'], how ='left', indicator = True)"
   ]
  },
  {
   "cell_type": "code",
   "execution_count": 23,
   "metadata": {},
   "outputs": [],
   "source": [
    "full['acc'] = [ 1 if i == 'both' else 0 for i in full['_merge']]"
   ]
  },
  {
   "cell_type": "code",
   "execution_count": 24,
   "metadata": {},
   "outputs": [],
   "source": [
    "numeric_features = ['SPEEDLIMIT','SEGLENGTH','SURFACEWID', 'PVMTCONDIN', 'PVMTCOND_1','SLOPE_PCT' ]\n",
    "categorical_features = ['ARTCLASS', 'SEGDIR', 'ONEWAY', 'SURFACETYP','NATIONHWYS' ,'PVMTCATEGO', 'PARKBOULEV' ,'TRANDESCRI', 'rushhour']\n",
    "X = full[numeric_features + categorical_features ].copy()\n",
    "y = full['acc']"
   ]
  },
  {
   "cell_type": "code",
   "execution_count": 26,
   "metadata": {},
   "outputs": [],
   "source": [
    "from sklearn.model_selection import train_test_split\n",
    "\n",
    "X_train, X_test, y_train, y_test = train_test_split(X, y, stratify = y,test_size=0.1)"
   ]
  },
  {
   "cell_type": "code",
   "execution_count": 27,
   "metadata": {},
   "outputs": [],
   "source": [
    "# initial parameters\n",
    "RANDOM_STATE = 42\n",
    "#RATIO = 0.1\n",
    "K_FOLD = 5"
   ]
  },
  {
   "cell_type": "code",
   "execution_count": 28,
   "metadata": {},
   "outputs": [],
   "source": [
    "from sklearn.pipeline import Pipeline\n",
    "from sklearn.impute import SimpleImputer\n",
    "from sklearn.preprocessing import StandardScaler, OneHotEncoder\n",
    "from imblearn.under_sampling import RandomUnderSampler\n",
    "from imblearn.pipeline import make_pipeline\n",
    "\n",
    "\n",
    "## pre-processing \n",
    "\n",
    "numeric_transformer = Pipeline(steps=[\n",
    "    ('imputer', SimpleImputer(strategy='median')),\n",
    "    ('scaler', StandardScaler())])\n",
    "categorical_transformer = Pipeline(steps=[\n",
    "    ('imputer', SimpleImputer(strategy='most_frequent')),\n",
    "    ('onehot', OneHotEncoder(handle_unknown='ignore'))])"
   ]
  },
  {
   "cell_type": "code",
   "execution_count": 29,
   "metadata": {},
   "outputs": [],
   "source": [
    "## pre-processing \n",
    "\n",
    "from sklearn.compose import ColumnTransformer\n",
    "preprocessor = ColumnTransformer(\n",
    "    transformers=[\n",
    "        ('num', numeric_transformer, numeric_features),\n",
    "        ('cat', categorical_transformer, categorical_features)])"
   ]
  },
  {
   "cell_type": "code",
   "execution_count": 30,
   "metadata": {},
   "outputs": [],
   "source": [
    "# imbalanced learn \n",
    "rus = RandomUnderSampler(random_state=RANDOM_STATE) #ratio = RATIO"
   ]
  },
  {
   "cell_type": "code",
   "execution_count": 31,
   "metadata": {},
   "outputs": [],
   "source": [
    "from sklearn.linear_model import LogisticRegression\n",
    "log = LogisticRegression(solver='liblinear')"
   ]
  },
  {
   "cell_type": "code",
   "execution_count": 32,
   "metadata": {},
   "outputs": [],
   "source": [
    "## Logsitic Regression\n",
    "from imblearn.pipeline import make_pipeline\n",
    "\n",
    "logReg = make_pipeline(preprocessor,rus, log)\n",
    "#logReg = Pipeline(steps=[('preprocessor', preprocessor),('undersampler', rus),('classifier', log)])"
   ]
  },
  {
   "cell_type": "code",
   "execution_count": 35,
   "metadata": {},
   "outputs": [],
   "source": [
    "## cross validate \n",
    "from sklearn.model_selection import cross_validate\n",
    "\n",
    "scores = cross_validate(logReg, X_train, y_train, scoring=['roc_auc','recall','accuracy'], cv = K_FOLD, return_train_score= True, return_estimator=True)"
   ]
  },
  {
   "cell_type": "code",
   "execution_count": 36,
   "metadata": {},
   "outputs": [
    {
     "data": {
      "text/plain": [
       "{'fit_time': array([3.23406792, 4.25736785, 4.411376  , 2.61911917, 3.97580886]),\n",
       " 'score_time': array([0.1628921 , 0.16118026, 0.14926791, 0.15219903, 0.14472032]),\n",
       " 'estimator': (Pipeline(memory=None,\n",
       "           steps=[('columntransformer',\n",
       "                   ColumnTransformer(n_jobs=None, remainder='drop',\n",
       "                                     sparse_threshold=0.3,\n",
       "                                     transformer_weights=None,\n",
       "                                     transformers=[('num',\n",
       "                                                    Pipeline(memory=None,\n",
       "                                                             steps=[('imputer',\n",
       "                                                                     SimpleImputer(add_indicator=False,\n",
       "                                                                                   copy=True,\n",
       "                                                                                   fill_value=None,\n",
       "                                                                                   missing_values=nan,\n",
       "                                                                                   strategy='median',\n",
       "                                                                                   verbose=0)),\n",
       "                                                                    ('scaler',\n",
       "                                                                     StandardScaler(copy=True,\n",
       "                                                                                    with...\n",
       "                   RandomUnderSampler(random_state=42, ratio=None,\n",
       "                                      replacement=False, return_indices=False,\n",
       "                                      sampling_strategy='auto')),\n",
       "                  ('logisticregression',\n",
       "                   LogisticRegression(C=1.0, class_weight=None, dual=False,\n",
       "                                      fit_intercept=True, intercept_scaling=1,\n",
       "                                      l1_ratio=None, max_iter=100,\n",
       "                                      multi_class='warn', n_jobs=None,\n",
       "                                      penalty='l2', random_state=None,\n",
       "                                      solver='liblinear', tol=0.0001, verbose=0,\n",
       "                                      warm_start=False))],\n",
       "           verbose=False), Pipeline(memory=None,\n",
       "           steps=[('columntransformer',\n",
       "                   ColumnTransformer(n_jobs=None, remainder='drop',\n",
       "                                     sparse_threshold=0.3,\n",
       "                                     transformer_weights=None,\n",
       "                                     transformers=[('num',\n",
       "                                                    Pipeline(memory=None,\n",
       "                                                             steps=[('imputer',\n",
       "                                                                     SimpleImputer(add_indicator=False,\n",
       "                                                                                   copy=True,\n",
       "                                                                                   fill_value=None,\n",
       "                                                                                   missing_values=nan,\n",
       "                                                                                   strategy='median',\n",
       "                                                                                   verbose=0)),\n",
       "                                                                    ('scaler',\n",
       "                                                                     StandardScaler(copy=True,\n",
       "                                                                                    with...\n",
       "                   RandomUnderSampler(random_state=42, ratio=None,\n",
       "                                      replacement=False, return_indices=False,\n",
       "                                      sampling_strategy='auto')),\n",
       "                  ('logisticregression',\n",
       "                   LogisticRegression(C=1.0, class_weight=None, dual=False,\n",
       "                                      fit_intercept=True, intercept_scaling=1,\n",
       "                                      l1_ratio=None, max_iter=100,\n",
       "                                      multi_class='warn', n_jobs=None,\n",
       "                                      penalty='l2', random_state=None,\n",
       "                                      solver='liblinear', tol=0.0001, verbose=0,\n",
       "                                      warm_start=False))],\n",
       "           verbose=False), Pipeline(memory=None,\n",
       "           steps=[('columntransformer',\n",
       "                   ColumnTransformer(n_jobs=None, remainder='drop',\n",
       "                                     sparse_threshold=0.3,\n",
       "                                     transformer_weights=None,\n",
       "                                     transformers=[('num',\n",
       "                                                    Pipeline(memory=None,\n",
       "                                                             steps=[('imputer',\n",
       "                                                                     SimpleImputer(add_indicator=False,\n",
       "                                                                                   copy=True,\n",
       "                                                                                   fill_value=None,\n",
       "                                                                                   missing_values=nan,\n",
       "                                                                                   strategy='median',\n",
       "                                                                                   verbose=0)),\n",
       "                                                                    ('scaler',\n",
       "                                                                     StandardScaler(copy=True,\n",
       "                                                                                    with...\n",
       "                   RandomUnderSampler(random_state=42, ratio=None,\n",
       "                                      replacement=False, return_indices=False,\n",
       "                                      sampling_strategy='auto')),\n",
       "                  ('logisticregression',\n",
       "                   LogisticRegression(C=1.0, class_weight=None, dual=False,\n",
       "                                      fit_intercept=True, intercept_scaling=1,\n",
       "                                      l1_ratio=None, max_iter=100,\n",
       "                                      multi_class='warn', n_jobs=None,\n",
       "                                      penalty='l2', random_state=None,\n",
       "                                      solver='liblinear', tol=0.0001, verbose=0,\n",
       "                                      warm_start=False))],\n",
       "           verbose=False), Pipeline(memory=None,\n",
       "           steps=[('columntransformer',\n",
       "                   ColumnTransformer(n_jobs=None, remainder='drop',\n",
       "                                     sparse_threshold=0.3,\n",
       "                                     transformer_weights=None,\n",
       "                                     transformers=[('num',\n",
       "                                                    Pipeline(memory=None,\n",
       "                                                             steps=[('imputer',\n",
       "                                                                     SimpleImputer(add_indicator=False,\n",
       "                                                                                   copy=True,\n",
       "                                                                                   fill_value=None,\n",
       "                                                                                   missing_values=nan,\n",
       "                                                                                   strategy='median',\n",
       "                                                                                   verbose=0)),\n",
       "                                                                    ('scaler',\n",
       "                                                                     StandardScaler(copy=True,\n",
       "                                                                                    with...\n",
       "                   RandomUnderSampler(random_state=42, ratio=None,\n",
       "                                      replacement=False, return_indices=False,\n",
       "                                      sampling_strategy='auto')),\n",
       "                  ('logisticregression',\n",
       "                   LogisticRegression(C=1.0, class_weight=None, dual=False,\n",
       "                                      fit_intercept=True, intercept_scaling=1,\n",
       "                                      l1_ratio=None, max_iter=100,\n",
       "                                      multi_class='warn', n_jobs=None,\n",
       "                                      penalty='l2', random_state=None,\n",
       "                                      solver='liblinear', tol=0.0001, verbose=0,\n",
       "                                      warm_start=False))],\n",
       "           verbose=False), Pipeline(memory=None,\n",
       "           steps=[('columntransformer',\n",
       "                   ColumnTransformer(n_jobs=None, remainder='drop',\n",
       "                                     sparse_threshold=0.3,\n",
       "                                     transformer_weights=None,\n",
       "                                     transformers=[('num',\n",
       "                                                    Pipeline(memory=None,\n",
       "                                                             steps=[('imputer',\n",
       "                                                                     SimpleImputer(add_indicator=False,\n",
       "                                                                                   copy=True,\n",
       "                                                                                   fill_value=None,\n",
       "                                                                                   missing_values=nan,\n",
       "                                                                                   strategy='median',\n",
       "                                                                                   verbose=0)),\n",
       "                                                                    ('scaler',\n",
       "                                                                     StandardScaler(copy=True,\n",
       "                                                                                    with...\n",
       "                   RandomUnderSampler(random_state=42, ratio=None,\n",
       "                                      replacement=False, return_indices=False,\n",
       "                                      sampling_strategy='auto')),\n",
       "                  ('logisticregression',\n",
       "                   LogisticRegression(C=1.0, class_weight=None, dual=False,\n",
       "                                      fit_intercept=True, intercept_scaling=1,\n",
       "                                      l1_ratio=None, max_iter=100,\n",
       "                                      multi_class='warn', n_jobs=None,\n",
       "                                      penalty='l2', random_state=None,\n",
       "                                      solver='liblinear', tol=0.0001, verbose=0,\n",
       "                                      warm_start=False))],\n",
       "           verbose=False)),\n",
       " 'test_roc_auc': array([0.86416008, 0.87394077, 0.87216218, 0.87782392, 0.86823573]),\n",
       " 'train_roc_auc': array([0.8742297 , 0.87226948, 0.87273494, 0.87153048, 0.87351397]),\n",
       " 'test_recall': array([0.72533333, 0.75733333, 0.752     , 0.74899866, 0.74365821]),\n",
       " 'train_recall': array([0.76250834, 0.74216144, 0.74382922, 0.74524842, 0.74991664]),\n",
       " 'test_accuracy': array([0.82911684, 0.83613155, 0.83348666, 0.83781919, 0.82378652]),\n",
       " 'train_accuracy': array([0.82964347, 0.83217366, 0.83447384, 0.83330458, 0.83022828])}"
      ]
     },
     "execution_count": 36,
     "metadata": {},
     "output_type": "execute_result"
    }
   ],
   "source": [
    "scores"
   ]
  },
  {
   "cell_type": "code",
   "execution_count": null,
   "metadata": {},
   "outputs": [],
   "source": []
  }
 ],
 "metadata": {
  "kernelspec": {
   "display_name": "Python 3",
   "language": "python",
   "name": "python3"
  },
  "language_info": {
   "codemirror_mode": {
    "name": "ipython",
    "version": 3
   },
   "file_extension": ".py",
   "mimetype": "text/x-python",
   "name": "python",
   "nbconvert_exporter": "python",
   "pygments_lexer": "ipython3",
   "version": "3.7.3"
  }
 },
 "nbformat": 4,
 "nbformat_minor": 2
}
