{
 "cells": [
  {
   "cell_type": "code",
   "execution_count": 32,
   "metadata": {},
   "outputs": [],
   "source": [
    "# Import necessary modules\n",
    "import pandas as pd\n",
    "import matplotlib.pyplot as plt\n",
    "from matplotlib.pyplot import figure\n",
    "import numpy as np\n",
    "from sklearn import metrics \n",
    "%matplotlib inline"
   ]
  },
  {
   "cell_type": "code",
   "execution_count": 33,
   "metadata": {},
   "outputs": [],
   "source": [
    "strt2 = pd.read_csv('./data/filtedstreets.csv', sep= \",\")"
   ]
  },
  {
   "cell_type": "code",
   "execution_count": 34,
   "metadata": {},
   "outputs": [
    {
     "data": {
      "text/plain": [
       "23495"
      ]
     },
     "execution_count": 34,
     "metadata": {},
     "output_type": "execute_result"
    }
   ],
   "source": [
    "len(strt2)"
   ]
  },
  {
   "cell_type": "code",
   "execution_count": 35,
   "metadata": {},
   "outputs": [
    {
     "data": {
      "text/plain": [
       "46255"
      ]
     },
     "execution_count": 35,
     "metadata": {},
     "output_type": "execute_result"
    }
   ],
   "source": [
    "sidewalk = pd.read_csv('./data/Sidewalks.csv', sep= \",\")\n",
    "\n",
    "len(sidewalk)"
   ]
  },
  {
   "cell_type": "code",
   "execution_count": null,
   "metadata": {},
   "outputs": [],
   "source": [
    "sidewalkname = sidewalk['STR'].unique()\n",
    "len(sidewalkname)\n",
    "\n",
    "strtname = strt2['UNITDESC'].unique()\n",
    "len(strtname)\n",
    "\n",
    "## number of sidewalk names with no matching street name \n",
    "\n",
    "sum([i not in strtname for i in sidewalkname])\n",
    "[i for i in sidewalkname if i not in strtname ]"
   ]
  },
  {
   "cell_type": "code",
   "execution_count": 67,
   "metadata": {},
   "outputs": [],
   "source": [
    "sd = sidewalk.loc[:,['UNITDESC','STR','Side','CONDITION', 'CURBTYPE', 'CURRENT_STATUS','FILLERTYPE', \n",
    "              'FILLERWID','LENUOM',\n",
    "              'SW_WIDTH', 'MATL', 'SURFTYPE' ,'SWINCOMPLETEYN', 'MULTIPLESURFACEYN', 'CURBRAMPHIGH', 'CURBRAMPMID', \n",
    "              'CURBRAMPLOW', 'SRTS_SIDEWALK_RANK', 'PRIMARYCROSSSLOPE', 'MINIMUMVARIABLEWIDTH']].copy().reset_index()"
   ]
  },
  {
   "cell_type": "code",
   "execution_count": 68,
   "metadata": {},
   "outputs": [
    {
     "data": {
      "text/plain": [
       "index                    0\n",
       "UNITDESC                 0\n",
       "STR                      0\n",
       "Side                     0\n",
       "CONDITION                0\n",
       "CURBTYPE                 0\n",
       "CURRENT_STATUS           0\n",
       "FILLERTYPE               0\n",
       "FILLERWID                0\n",
       "LENUOM                   0\n",
       "SW_WIDTH                 0\n",
       "MATL                     0\n",
       "SURFTYPE                 0\n",
       "SWINCOMPLETEYN           0\n",
       "MULTIPLESURFACEYN        0\n",
       "CURBRAMPHIGH             0\n",
       "CURBRAMPMID              0\n",
       "CURBRAMPLOW              0\n",
       "SRTS_SIDEWALK_RANK      70\n",
       "PRIMARYCROSSSLOPE        0\n",
       "MINIMUMVARIABLEWIDTH     0\n",
       "dtype: int64"
      ]
     },
     "execution_count": 68,
     "metadata": {},
     "output_type": "execute_result"
    }
   ],
   "source": [
    "## take columns with useful and complete information \n",
    "sd.isnull().sum()"
   ]
  },
  {
   "cell_type": "code",
   "execution_count": 69,
   "metadata": {},
   "outputs": [],
   "source": [
    "sd_nondup = sd.drop_duplicates(subset=['STR'], keep='first')"
   ]
  },
  {
   "cell_type": "code",
   "execution_count": 70,
   "metadata": {},
   "outputs": [
    {
     "data": {
      "text/plain": [
       "22983"
      ]
     },
     "execution_count": 70,
     "metadata": {},
     "output_type": "execute_result"
    }
   ],
   "source": [
    "len(sd_nondup)"
   ]
  },
  {
   "cell_type": "code",
   "execution_count": 72,
   "metadata": {},
   "outputs": [],
   "source": [
    "strt3 = strt2.merge(sd_nondup, left_on = 'UNITDESC', right_on = 'STR', how = 'left')"
   ]
  },
  {
   "cell_type": "code",
   "execution_count": 74,
   "metadata": {},
   "outputs": [],
   "source": [
    "strt3.to_csv('./data/filtedstreets_withsidewalk.csv', sep= \",\")"
   ]
  },
  {
   "cell_type": "code",
   "execution_count": null,
   "metadata": {},
   "outputs": [],
   "source": []
  }
 ],
 "metadata": {
  "kernelspec": {
   "display_name": "Python 3",
   "language": "python",
   "name": "python3"
  },
  "language_info": {
   "codemirror_mode": {
    "name": "ipython",
    "version": 3
   },
   "file_extension": ".py",
   "mimetype": "text/x-python",
   "name": "python",
   "nbconvert_exporter": "python",
   "pygments_lexer": "ipython3",
   "version": "3.7.3"
  }
 },
 "nbformat": 4,
 "nbformat_minor": 2
}
